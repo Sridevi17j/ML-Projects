{
 "cells": [
  {
   "cell_type": "code",
   "execution_count": 1,
   "id": "16f8917d",
   "metadata": {},
   "outputs": [],
   "source": [
    "import os\n",
    "import pandas as pd"
   ]
  },
  {
   "cell_type": "code",
   "execution_count": 2,
   "id": "0eadb1d6",
   "metadata": {},
   "outputs": [],
   "source": [
    "T1 = pd.read_csv('/Users/mac/Downloads/population.csv')"
   ]
  },
  {
   "cell_type": "code",
   "execution_count": 3,
   "id": "d42e690e",
   "metadata": {},
   "outputs": [
    {
     "data": {
      "text/html": [
       "<div>\n",
       "<style scoped>\n",
       "    .dataframe tbody tr th:only-of-type {\n",
       "        vertical-align: middle;\n",
       "    }\n",
       "\n",
       "    .dataframe tbody tr th {\n",
       "        vertical-align: top;\n",
       "    }\n",
       "\n",
       "    .dataframe thead th {\n",
       "        text-align: right;\n",
       "    }\n",
       "</style>\n",
       "<table border=\"1\" class=\"dataframe\">\n",
       "  <thead>\n",
       "    <tr style=\"text-align: right;\">\n",
       "      <th></th>\n",
       "      <th>Year</th>\n",
       "      <th>Yearly % \\nChange</th>\n",
       "      <th>Yearly\\nChange</th>\n",
       "      <th>Migrants (net)</th>\n",
       "      <th>Median Age</th>\n",
       "      <th>Fertility Rate</th>\n",
       "      <th>Density (P/Km²)</th>\n",
       "      <th>Urban\\nPop %</th>\n",
       "      <th>Urban Population</th>\n",
       "      <th>Country's Share of\\nWorld Pop</th>\n",
       "      <th>World Population</th>\n",
       "      <th>India\\nGlobal Rank</th>\n",
       "      <th>Population</th>\n",
       "    </tr>\n",
       "  </thead>\n",
       "  <tbody>\n",
       "    <tr>\n",
       "      <th>0</th>\n",
       "      <td>2050</td>\n",
       "      <td>0.23</td>\n",
       "      <td>3711367</td>\n",
       "      <td>NaN</td>\n",
       "      <td>38.1</td>\n",
       "      <td>2.24</td>\n",
       "      <td>551</td>\n",
       "      <td>53.5</td>\n",
       "      <td>876613025</td>\n",
       "      <td>16.84</td>\n",
       "      <td>9735033990</td>\n",
       "      <td>1</td>\n",
       "      <td>1639176033</td>\n",
       "    </tr>\n",
       "    <tr>\n",
       "      <th>1</th>\n",
       "      <td>2045</td>\n",
       "      <td>0.35</td>\n",
       "      <td>5585537</td>\n",
       "      <td>-414772.0</td>\n",
       "      <td>36.6</td>\n",
       "      <td>2.24</td>\n",
       "      <td>545</td>\n",
       "      <td>50.1</td>\n",
       "      <td>811749463</td>\n",
       "      <td>17.09</td>\n",
       "      <td>9481803274</td>\n",
       "      <td>1</td>\n",
       "      <td>1620619200</td>\n",
       "    </tr>\n",
       "    <tr>\n",
       "      <th>2</th>\n",
       "      <td>2040</td>\n",
       "      <td>0.50</td>\n",
       "      <td>7793541</td>\n",
       "      <td>-415736.0</td>\n",
       "      <td>35.0</td>\n",
       "      <td>2.24</td>\n",
       "      <td>536</td>\n",
       "      <td>46.7</td>\n",
       "      <td>744380367</td>\n",
       "      <td>17.31</td>\n",
       "      <td>9198847240</td>\n",
       "      <td>1</td>\n",
       "      <td>1592691513</td>\n",
       "    </tr>\n",
       "    <tr>\n",
       "      <th>3</th>\n",
       "      <td>2035</td>\n",
       "      <td>0.66</td>\n",
       "      <td>10016298</td>\n",
       "      <td>-415732.0</td>\n",
       "      <td>33.3</td>\n",
       "      <td>2.24</td>\n",
       "      <td>523</td>\n",
       "      <td>43.5</td>\n",
       "      <td>675456367</td>\n",
       "      <td>17.48</td>\n",
       "      <td>8887524213</td>\n",
       "      <td>1</td>\n",
       "      <td>1553723810</td>\n",
       "    </tr>\n",
       "    <tr>\n",
       "      <th>4</th>\n",
       "      <td>2030</td>\n",
       "      <td>0.80</td>\n",
       "      <td>11726140</td>\n",
       "      <td>-440124.0</td>\n",
       "      <td>31.7</td>\n",
       "      <td>2.24</td>\n",
       "      <td>506</td>\n",
       "      <td>40.4</td>\n",
       "      <td>607341981</td>\n",
       "      <td>17.59</td>\n",
       "      <td>8548487400</td>\n",
       "      <td>1</td>\n",
       "      <td>1503642322</td>\n",
       "    </tr>\n",
       "  </tbody>\n",
       "</table>\n",
       "</div>"
      ],
      "text/plain": [
       "   Year  Yearly % \\nChange  Yearly\\nChange  Migrants (net)  Median Age  \\\n",
       "0  2050               0.23         3711367             NaN        38.1   \n",
       "1  2045               0.35         5585537       -414772.0        36.6   \n",
       "2  2040               0.50         7793541       -415736.0        35.0   \n",
       "3  2035               0.66        10016298       -415732.0        33.3   \n",
       "4  2030               0.80        11726140       -440124.0        31.7   \n",
       "\n",
       "   Fertility Rate  Density (P/Km²)  Urban\\nPop %  Urban Population  \\\n",
       "0            2.24              551          53.5         876613025   \n",
       "1            2.24              545          50.1         811749463   \n",
       "2            2.24              536          46.7         744380367   \n",
       "3            2.24              523          43.5         675456367   \n",
       "4            2.24              506          40.4         607341981   \n",
       "\n",
       "   Country's Share of\\nWorld Pop World Population  India\\nGlobal Rank  \\\n",
       "0                          16.84       9735033990                   1   \n",
       "1                          17.09       9481803274                   1   \n",
       "2                          17.31       9198847240                   1   \n",
       "3                          17.48       8887524213                   1   \n",
       "4                          17.59       8548487400                   1   \n",
       "\n",
       "   Population  \n",
       "0  1639176033  \n",
       "1  1620619200  \n",
       "2  1592691513  \n",
       "3  1553723810  \n",
       "4  1503642322  "
      ]
     },
     "execution_count": 3,
     "metadata": {},
     "output_type": "execute_result"
    }
   ],
   "source": [
    "T1.head()"
   ]
  },
  {
   "cell_type": "code",
   "execution_count": 4,
   "id": "eb53b705",
   "metadata": {},
   "outputs": [
    {
     "data": {
      "text/html": [
       "<div>\n",
       "<style scoped>\n",
       "    .dataframe tbody tr th:only-of-type {\n",
       "        vertical-align: middle;\n",
       "    }\n",
       "\n",
       "    .dataframe tbody tr th {\n",
       "        vertical-align: top;\n",
       "    }\n",
       "\n",
       "    .dataframe thead th {\n",
       "        text-align: right;\n",
       "    }\n",
       "</style>\n",
       "<table border=\"1\" class=\"dataframe\">\n",
       "  <thead>\n",
       "    <tr style=\"text-align: right;\">\n",
       "      <th></th>\n",
       "      <th>Year</th>\n",
       "      <th>Yearly % \\nChange</th>\n",
       "      <th>Yearly\\nChange</th>\n",
       "      <th>Migrants (net)</th>\n",
       "      <th>Median Age</th>\n",
       "      <th>Fertility Rate</th>\n",
       "      <th>Density (P/Km²)</th>\n",
       "      <th>Urban\\nPop %</th>\n",
       "      <th>Urban Population</th>\n",
       "      <th>Country's Share of\\nWorld Pop</th>\n",
       "      <th>World Population</th>\n",
       "      <th>India\\nGlobal Rank</th>\n",
       "      <th>Population</th>\n",
       "    </tr>\n",
       "  </thead>\n",
       "  <tbody>\n",
       "    <tr>\n",
       "      <th>19</th>\n",
       "      <td>1975</td>\n",
       "      <td>2.33</td>\n",
       "      <td>13582621</td>\n",
       "      <td>421208.0</td>\n",
       "      <td>19.7</td>\n",
       "      <td>5.41</td>\n",
       "      <td>210</td>\n",
       "      <td>21.3</td>\n",
       "      <td>132533810</td>\n",
       "      <td>15.27</td>\n",
       "      <td>4079480606</td>\n",
       "      <td>2</td>\n",
       "      <td>623102897</td>\n",
       "    </tr>\n",
       "    <tr>\n",
       "      <th>20</th>\n",
       "      <td>1970</td>\n",
       "      <td>2.15</td>\n",
       "      <td>11213294</td>\n",
       "      <td>-68569.0</td>\n",
       "      <td>19.3</td>\n",
       "      <td>5.72</td>\n",
       "      <td>187</td>\n",
       "      <td>19.7</td>\n",
       "      <td>109388950</td>\n",
       "      <td>15.00</td>\n",
       "      <td>3700437046</td>\n",
       "      <td>2</td>\n",
       "      <td>555189792</td>\n",
       "    </tr>\n",
       "    <tr>\n",
       "      <th>21</th>\n",
       "      <td>1965</td>\n",
       "      <td>2.07</td>\n",
       "      <td>9715129</td>\n",
       "      <td>-17078.0</td>\n",
       "      <td>19.6</td>\n",
       "      <td>5.89</td>\n",
       "      <td>168</td>\n",
       "      <td>18.7</td>\n",
       "      <td>93493844</td>\n",
       "      <td>14.95</td>\n",
       "      <td>3339583597</td>\n",
       "      <td>2</td>\n",
       "      <td>499123324</td>\n",
       "    </tr>\n",
       "    <tr>\n",
       "      <th>22</th>\n",
       "      <td>1960</td>\n",
       "      <td>1.91</td>\n",
       "      <td>8133417</td>\n",
       "      <td>-30805.0</td>\n",
       "      <td>20.2</td>\n",
       "      <td>5.90</td>\n",
       "      <td>152</td>\n",
       "      <td>17.9</td>\n",
       "      <td>80565723</td>\n",
       "      <td>14.85</td>\n",
       "      <td>3034949748</td>\n",
       "      <td>2</td>\n",
       "      <td>450547679</td>\n",
       "    </tr>\n",
       "    <tr>\n",
       "      <th>23</th>\n",
       "      <td>1955</td>\n",
       "      <td>1.72</td>\n",
       "      <td>6711079</td>\n",
       "      <td>-21140.0</td>\n",
       "      <td>20.7</td>\n",
       "      <td>5.90</td>\n",
       "      <td>138</td>\n",
       "      <td>17.6</td>\n",
       "      <td>71958495</td>\n",
       "      <td>14.78</td>\n",
       "      <td>2,77,30,19,936</td>\n",
       "      <td>2</td>\n",
       "      <td>409880595</td>\n",
       "    </tr>\n",
       "  </tbody>\n",
       "</table>\n",
       "</div>"
      ],
      "text/plain": [
       "    Year  Yearly % \\nChange  Yearly\\nChange  Migrants (net)  Median Age  \\\n",
       "19  1975               2.33        13582621        421208.0        19.7   \n",
       "20  1970               2.15        11213294        -68569.0        19.3   \n",
       "21  1965               2.07         9715129        -17078.0        19.6   \n",
       "22  1960               1.91         8133417        -30805.0        20.2   \n",
       "23  1955               1.72         6711079        -21140.0        20.7   \n",
       "\n",
       "    Fertility Rate  Density (P/Km²)  Urban\\nPop %  Urban Population  \\\n",
       "19            5.41              210          21.3         132533810   \n",
       "20            5.72              187          19.7         109388950   \n",
       "21            5.89              168          18.7          93493844   \n",
       "22            5.90              152          17.9          80565723   \n",
       "23            5.90              138          17.6          71958495   \n",
       "\n",
       "    Country's Share of\\nWorld Pop World Population  India\\nGlobal Rank  \\\n",
       "19                          15.27       4079480606                   2   \n",
       "20                          15.00       3700437046                   2   \n",
       "21                          14.95       3339583597                   2   \n",
       "22                          14.85       3034949748                   2   \n",
       "23                          14.78   2,77,30,19,936                   2   \n",
       "\n",
       "    Population  \n",
       "19   623102897  \n",
       "20   555189792  \n",
       "21   499123324  \n",
       "22   450547679  \n",
       "23   409880595  "
      ]
     },
     "execution_count": 4,
     "metadata": {},
     "output_type": "execute_result"
    }
   ],
   "source": [
    "T1.tail()"
   ]
  },
  {
   "cell_type": "code",
   "execution_count": 6,
   "id": "b8019149",
   "metadata": {},
   "outputs": [],
   "source": [
    "x = T1['Year']"
   ]
  },
  {
   "cell_type": "code",
   "execution_count": 7,
   "id": "63a2eb82",
   "metadata": {},
   "outputs": [],
   "source": [
    "y=T1['Population']"
   ]
  },
  {
   "cell_type": "code",
   "execution_count": 8,
   "id": "1b33f0e5",
   "metadata": {},
   "outputs": [],
   "source": [
    "import matplotlib.pyplot as mlt"
   ]
  },
  {
   "cell_type": "code",
   "execution_count": 10,
   "id": "7fd76639",
   "metadata": {},
   "outputs": [
    {
     "data": {
      "text/plain": [
       "<matplotlib.collections.PathCollection at 0x11cb82ee0>"
      ]
     },
     "execution_count": 10,
     "metadata": {},
     "output_type": "execute_result"
    },
    {
     "data": {
      "image/png": "[encoded data removed]",
      "text/plain": [
       "<Figure size 432x288 with 1 Axes>"
      ]
     },
     "metadata": {
      "needs_background": "light"
     },
     "output_type": "display_data"
    }
   ],
   "source": [
    "mlt.scatter(T1.Year, T1.Population)"
   ]
  },
  {
   "cell_type": "code",
   "execution_count": 11,
   "id": "2534dbaf",
   "metadata": {},
   "outputs": [
    {
     "data": {
      "text/plain": [
       "<matplotlib.collections.PathCollection at 0x11cae1670>"
      ]
     },
     "execution_count": 11,
     "metadata": {},
     "output_type": "execute_result"
    },
    {
     "data": {
      "image/png": "[encoded data removed]",
      "text/plain": [
       "<Figure size 432x288 with 1 Axes>"
      ]
     },
     "metadata": {
      "needs_background": "light"
     },
     "output_type": "display_data"
    }
   ],
   "source": [
    "mlt.scatter(T1['Yearly % \\nChange'], T1['Population'])"
   ]
  },
  {
   "cell_type": "code",
   "execution_count": null,
   "id": "a957c46a",
   "metadata": {},
   "outputs": [],
   "source": [
    "plt.scatter(T1.Migra, y1, c =\"pink\", \n",
    "            linewidths = 2, \n",
    "            marker =\"s\", \n",
    "            edgecolor =\"green\", \n",
    "            s = 50)"
   ]
  }
 ],
 "metadata": {
  "kernelspec": {
   "display_name": "Python 3 (ipykernel)",
   "language": "python",
   "name": "python3"
  },
  "language_info": {
   "codemirror_mode": {
    "name": "ipython",
    "version": 3
   },
   "file_extension": ".py",
   "mimetype": "text/x-python",
   "name": "python",
   "nbconvert_exporter": "python",
   "pygments_lexer": "ipython3",
   "version": "3.9.7"
  }
 },
 "nbformat": 4,
 "nbformat_minor": 5
}
