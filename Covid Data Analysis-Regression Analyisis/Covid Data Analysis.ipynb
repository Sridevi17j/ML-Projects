{
 "cells": [
  {
   "cell_type": "code",
   "execution_count": 1,
   "id": "ec1c207b",
   "metadata": {},
   "outputs": [],
   "source": [
    "import os\n",
    "import pandas as pd\n",
    "import numpy as np\n",
    "from sklearn import tree\n",
    "from sklearn.model_selection import train_test_split\n",
    "import matplotlib as mlt\n",
    "import seaborn as sns\n",
    "import matplotlib.pyplot as plt\n",
    "from sklearn.metrics import confusion_matrix\n",
    "from sklearn.ensemble import RandomForestRegressor"
   ]
  },
  {
   "cell_type": "code",
   "execution_count": 2,
   "id": "1706d114",
   "metadata": {},
   "outputs": [],
   "source": [
    "os.chdir(\"/Users/mac/Desktop//\")"
   ]
  },
  {
   "cell_type": "code",
   "execution_count": 3,
   "id": "dea0f847",
   "metadata": {},
   "outputs": [],
   "source": [
    "T1 = pd.read_csv(\"covid_19_india.csv\")"
   ]
  },
  {
   "cell_type": "code",
   "execution_count": 4,
   "id": "43f72de4",
   "metadata": {},
   "outputs": [
    {
     "data": {
      "text/html": [
       "<div>\n",
       "<style scoped>\n",
       "    .dataframe tbody tr th:only-of-type {\n",
       "        vertical-align: middle;\n",
       "    }\n",
       "\n",
       "    .dataframe tbody tr th {\n",
       "        vertical-align: top;\n",
       "    }\n",
       "\n",
       "    .dataframe thead th {\n",
       "        text-align: right;\n",
       "    }\n",
       "</style>\n",
       "<table border=\"1\" class=\"dataframe\">\n",
       "  <thead>\n",
       "    <tr style=\"text-align: right;\">\n",
       "      <th></th>\n",
       "      <th>Sno</th>\n",
       "      <th>Date</th>\n",
       "      <th>Time</th>\n",
       "      <th>State/UnionTerritory</th>\n",
       "      <th>ConfirmedIndianNational</th>\n",
       "      <th>ConfirmedForeignNational</th>\n",
       "      <th>Cured</th>\n",
       "      <th>Deaths</th>\n",
       "      <th>Confirmed</th>\n",
       "    </tr>\n",
       "  </thead>\n",
       "  <tbody>\n",
       "    <tr>\n",
       "      <th>0</th>\n",
       "      <td>1</td>\n",
       "      <td>2020-01-30</td>\n",
       "      <td>6:00 PM</td>\n",
       "      <td>Kerala</td>\n",
       "      <td>1</td>\n",
       "      <td>0</td>\n",
       "      <td>0</td>\n",
       "      <td>0</td>\n",
       "      <td>1</td>\n",
       "    </tr>\n",
       "    <tr>\n",
       "      <th>1</th>\n",
       "      <td>2</td>\n",
       "      <td>2020-01-31</td>\n",
       "      <td>6:00 PM</td>\n",
       "      <td>Kerala</td>\n",
       "      <td>1</td>\n",
       "      <td>0</td>\n",
       "      <td>0</td>\n",
       "      <td>0</td>\n",
       "      <td>1</td>\n",
       "    </tr>\n",
       "    <tr>\n",
       "      <th>2</th>\n",
       "      <td>3</td>\n",
       "      <td>2020-02-01</td>\n",
       "      <td>6:00 PM</td>\n",
       "      <td>Kerala</td>\n",
       "      <td>2</td>\n",
       "      <td>0</td>\n",
       "      <td>0</td>\n",
       "      <td>0</td>\n",
       "      <td>2</td>\n",
       "    </tr>\n",
       "    <tr>\n",
       "      <th>3</th>\n",
       "      <td>4</td>\n",
       "      <td>2020-02-02</td>\n",
       "      <td>6:00 PM</td>\n",
       "      <td>Kerala</td>\n",
       "      <td>3</td>\n",
       "      <td>0</td>\n",
       "      <td>0</td>\n",
       "      <td>0</td>\n",
       "      <td>3</td>\n",
       "    </tr>\n",
       "    <tr>\n",
       "      <th>4</th>\n",
       "      <td>5</td>\n",
       "      <td>2020-02-03</td>\n",
       "      <td>6:00 PM</td>\n",
       "      <td>Kerala</td>\n",
       "      <td>3</td>\n",
       "      <td>0</td>\n",
       "      <td>0</td>\n",
       "      <td>0</td>\n",
       "      <td>3</td>\n",
       "    </tr>\n",
       "  </tbody>\n",
       "</table>\n",
       "</div>"
      ],
      "text/plain": [
       "   Sno        Date     Time State/UnionTerritory ConfirmedIndianNational  \\\n",
       "0    1  2020-01-30  6:00 PM               Kerala                       1   \n",
       "1    2  2020-01-31  6:00 PM               Kerala                       1   \n",
       "2    3  2020-02-01  6:00 PM               Kerala                       2   \n",
       "3    4  2020-02-02  6:00 PM               Kerala                       3   \n",
       "4    5  2020-02-03  6:00 PM               Kerala                       3   \n",
       "\n",
       "  ConfirmedForeignNational  Cured  Deaths  Confirmed  \n",
       "0                        0      0       0          1  \n",
       "1                        0      0       0          1  \n",
       "2                        0      0       0          2  \n",
       "3                        0      0       0          3  \n",
       "4                        0      0       0          3  "
      ]
     },
     "execution_count": 4,
     "metadata": {},
     "output_type": "execute_result"
    }
   ],
   "source": [
    "T1.head()"
   ]
  },
  {
   "cell_type": "code",
   "execution_count": 5,
   "id": "94c54703",
   "metadata": {},
   "outputs": [],
   "source": [
    "T1= T1.drop('Time',axis=1)"
   ]
  },
  {
   "cell_type": "code",
   "execution_count": 6,
   "id": "e178cbfd",
   "metadata": {},
   "outputs": [
    {
     "data": {
      "text/plain": [
       "Sno                          int64\n",
       "Date                        object\n",
       "State/UnionTerritory        object\n",
       "ConfirmedIndianNational     object\n",
       "ConfirmedForeignNational    object\n",
       "Cured                        int64\n",
       "Deaths                       int64\n",
       "Confirmed                    int64\n",
       "dtype: object"
      ]
     },
     "execution_count": 6,
     "metadata": {},
     "output_type": "execute_result"
    }
   ],
   "source": [
    "T1.dtypes"
   ]
  },
  {
   "cell_type": "code",
   "execution_count": 7,
   "id": "98791792",
   "metadata": {},
   "outputs": [],
   "source": [
    "T1= T1.drop(['ConfirmedIndianNational','ConfirmedForeignNational'],axis=1)"
   ]
  },
  {
   "cell_type": "code",
   "execution_count": 8,
   "id": "b790bedf",
   "metadata": {},
   "outputs": [],
   "source": [
    "T1['Date']=T1['Date'].str.replace(\"-\",\"\")"
   ]
  },
  {
   "cell_type": "code",
   "execution_count": 9,
   "id": "79ce8c8b",
   "metadata": {},
   "outputs": [
    {
     "data": {
      "text/html": [
       "<div>\n",
       "<style scoped>\n",
       "    .dataframe tbody tr th:only-of-type {\n",
       "        vertical-align: middle;\n",
       "    }\n",
       "\n",
       "    .dataframe tbody tr th {\n",
       "        vertical-align: top;\n",
       "    }\n",
       "\n",
       "    .dataframe thead th {\n",
       "        text-align: right;\n",
       "    }\n",
       "</style>\n",
       "<table border=\"1\" class=\"dataframe\">\n",
       "  <thead>\n",
       "    <tr style=\"text-align: right;\">\n",
       "      <th></th>\n",
       "      <th>Sno</th>\n",
       "      <th>Date</th>\n",
       "      <th>State/UnionTerritory</th>\n",
       "      <th>Cured</th>\n",
       "      <th>Deaths</th>\n",
       "      <th>Confirmed</th>\n",
       "    </tr>\n",
       "  </thead>\n",
       "  <tbody>\n",
       "    <tr>\n",
       "      <th>0</th>\n",
       "      <td>1</td>\n",
       "      <td>20200130</td>\n",
       "      <td>Kerala</td>\n",
       "      <td>0</td>\n",
       "      <td>0</td>\n",
       "      <td>1</td>\n",
       "    </tr>\n",
       "    <tr>\n",
       "      <th>1</th>\n",
       "      <td>2</td>\n",
       "      <td>20200131</td>\n",
       "      <td>Kerala</td>\n",
       "      <td>0</td>\n",
       "      <td>0</td>\n",
       "      <td>1</td>\n",
       "    </tr>\n",
       "    <tr>\n",
       "      <th>2</th>\n",
       "      <td>3</td>\n",
       "      <td>20200201</td>\n",
       "      <td>Kerala</td>\n",
       "      <td>0</td>\n",
       "      <td>0</td>\n",
       "      <td>2</td>\n",
       "    </tr>\n",
       "    <tr>\n",
       "      <th>3</th>\n",
       "      <td>4</td>\n",
       "      <td>20200202</td>\n",
       "      <td>Kerala</td>\n",
       "      <td>0</td>\n",
       "      <td>0</td>\n",
       "      <td>3</td>\n",
       "    </tr>\n",
       "    <tr>\n",
       "      <th>4</th>\n",
       "      <td>5</td>\n",
       "      <td>20200203</td>\n",
       "      <td>Kerala</td>\n",
       "      <td>0</td>\n",
       "      <td>0</td>\n",
       "      <td>3</td>\n",
       "    </tr>\n",
       "  </tbody>\n",
       "</table>\n",
       "</div>"
      ],
      "text/plain": [
       "   Sno      Date State/UnionTerritory  Cured  Deaths  Confirmed\n",
       "0    1  20200130               Kerala      0       0          1\n",
       "1    2  20200131               Kerala      0       0          1\n",
       "2    3  20200201               Kerala      0       0          2\n",
       "3    4  20200202               Kerala      0       0          3\n",
       "4    5  20200203               Kerala      0       0          3"
      ]
     },
     "execution_count": 9,
     "metadata": {},
     "output_type": "execute_result"
    }
   ],
   "source": [
    "T1.head()"
   ]
  },
  {
   "cell_type": "code",
   "execution_count": 10,
   "id": "e5c417f4",
   "metadata": {},
   "outputs": [],
   "source": [
    "T1['Date']=T1['Date'].astype(int)"
   ]
  },
  {
   "cell_type": "code",
   "execution_count": 11,
   "id": "6cdda30a",
   "metadata": {},
   "outputs": [
    {
     "data": {
      "text/plain": [
       "Sno                      int64\n",
       "Date                     int64\n",
       "State/UnionTerritory    object\n",
       "Cured                    int64\n",
       "Deaths                   int64\n",
       "Confirmed                int64\n",
       "dtype: object"
      ]
     },
     "execution_count": 11,
     "metadata": {},
     "output_type": "execute_result"
    }
   ],
   "source": [
    "T1.dtypes"
   ]
  },
  {
   "cell_type": "code",
   "execution_count": 12,
   "id": "876a33c3",
   "metadata": {},
   "outputs": [],
   "source": [
    "T1['State/UnionTerritory']=T1['State/UnionTerritory'].astype('category').cat.codes"
   ]
  },
  {
   "cell_type": "code",
   "execution_count": 13,
   "id": "89f402ec",
   "metadata": {},
   "outputs": [
    {
     "data": {
      "text/html": [
       "<div>\n",
       "<style scoped>\n",
       "    .dataframe tbody tr th:only-of-type {\n",
       "        vertical-align: middle;\n",
       "    }\n",
       "\n",
       "    .dataframe tbody tr th {\n",
       "        vertical-align: top;\n",
       "    }\n",
       "\n",
       "    .dataframe thead th {\n",
       "        text-align: right;\n",
       "    }\n",
       "</style>\n",
       "<table border=\"1\" class=\"dataframe\">\n",
       "  <thead>\n",
       "    <tr style=\"text-align: right;\">\n",
       "      <th></th>\n",
       "      <th>Sno</th>\n",
       "      <th>Date</th>\n",
       "      <th>State/UnionTerritory</th>\n",
       "      <th>Cured</th>\n",
       "      <th>Deaths</th>\n",
       "      <th>Confirmed</th>\n",
       "    </tr>\n",
       "  </thead>\n",
       "  <tbody>\n",
       "    <tr>\n",
       "      <th>0</th>\n",
       "      <td>1</td>\n",
       "      <td>20200130</td>\n",
       "      <td>22</td>\n",
       "      <td>0</td>\n",
       "      <td>0</td>\n",
       "      <td>1</td>\n",
       "    </tr>\n",
       "    <tr>\n",
       "      <th>1</th>\n",
       "      <td>2</td>\n",
       "      <td>20200131</td>\n",
       "      <td>22</td>\n",
       "      <td>0</td>\n",
       "      <td>0</td>\n",
       "      <td>1</td>\n",
       "    </tr>\n",
       "    <tr>\n",
       "      <th>2</th>\n",
       "      <td>3</td>\n",
       "      <td>20200201</td>\n",
       "      <td>22</td>\n",
       "      <td>0</td>\n",
       "      <td>0</td>\n",
       "      <td>2</td>\n",
       "    </tr>\n",
       "    <tr>\n",
       "      <th>3</th>\n",
       "      <td>4</td>\n",
       "      <td>20200202</td>\n",
       "      <td>22</td>\n",
       "      <td>0</td>\n",
       "      <td>0</td>\n",
       "      <td>3</td>\n",
       "    </tr>\n",
       "    <tr>\n",
       "      <th>4</th>\n",
       "      <td>5</td>\n",
       "      <td>20200203</td>\n",
       "      <td>22</td>\n",
       "      <td>0</td>\n",
       "      <td>0</td>\n",
       "      <td>3</td>\n",
       "    </tr>\n",
       "  </tbody>\n",
       "</table>\n",
       "</div>"
      ],
      "text/plain": [
       "   Sno      Date  State/UnionTerritory  Cured  Deaths  Confirmed\n",
       "0    1  20200130                    22      0       0          1\n",
       "1    2  20200131                    22      0       0          1\n",
       "2    3  20200201                    22      0       0          2\n",
       "3    4  20200202                    22      0       0          3\n",
       "4    5  20200203                    22      0       0          3"
      ]
     },
     "execution_count": 13,
     "metadata": {},
     "output_type": "execute_result"
    }
   ],
   "source": [
    "T1.head()"
   ]
  },
  {
   "cell_type": "code",
   "execution_count": 14,
   "id": "41e8afb2",
   "metadata": {},
   "outputs": [
    {
     "data": {
      "text/html": [
       "<div>\n",
       "<style scoped>\n",
       "    .dataframe tbody tr th:only-of-type {\n",
       "        vertical-align: middle;\n",
       "    }\n",
       "\n",
       "    .dataframe tbody tr th {\n",
       "        vertical-align: top;\n",
       "    }\n",
       "\n",
       "    .dataframe thead th {\n",
       "        text-align: right;\n",
       "    }\n",
       "</style>\n",
       "<table border=\"1\" class=\"dataframe\">\n",
       "  <thead>\n",
       "    <tr style=\"text-align: right;\">\n",
       "      <th></th>\n",
       "      <th>Sno</th>\n",
       "      <th>Date</th>\n",
       "      <th>State/UnionTerritory</th>\n",
       "      <th>Cured</th>\n",
       "      <th>Deaths</th>\n",
       "      <th>Confirmed</th>\n",
       "    </tr>\n",
       "  </thead>\n",
       "  <tbody>\n",
       "    <tr>\n",
       "      <th>18105</th>\n",
       "      <td>18106</td>\n",
       "      <td>20210811</td>\n",
       "      <td>39</td>\n",
       "      <td>638410</td>\n",
       "      <td>3831</td>\n",
       "      <td>650353</td>\n",
       "    </tr>\n",
       "    <tr>\n",
       "      <th>18106</th>\n",
       "      <td>18107</td>\n",
       "      <td>20210811</td>\n",
       "      <td>41</td>\n",
       "      <td>77811</td>\n",
       "      <td>773</td>\n",
       "      <td>80660</td>\n",
       "    </tr>\n",
       "    <tr>\n",
       "      <th>18107</th>\n",
       "      <td>18108</td>\n",
       "      <td>20210811</td>\n",
       "      <td>44</td>\n",
       "      <td>334650</td>\n",
       "      <td>7368</td>\n",
       "      <td>342462</td>\n",
       "    </tr>\n",
       "    <tr>\n",
       "      <th>18108</th>\n",
       "      <td>18109</td>\n",
       "      <td>20210811</td>\n",
       "      <td>43</td>\n",
       "      <td>1685492</td>\n",
       "      <td>22775</td>\n",
       "      <td>1708812</td>\n",
       "    </tr>\n",
       "    <tr>\n",
       "      <th>18109</th>\n",
       "      <td>18110</td>\n",
       "      <td>20210811</td>\n",
       "      <td>45</td>\n",
       "      <td>1506532</td>\n",
       "      <td>18252</td>\n",
       "      <td>1534999</td>\n",
       "    </tr>\n",
       "  </tbody>\n",
       "</table>\n",
       "</div>"
      ],
      "text/plain": [
       "         Sno      Date  State/UnionTerritory    Cured  Deaths  Confirmed\n",
       "18105  18106  20210811                    39   638410    3831     650353\n",
       "18106  18107  20210811                    41    77811     773      80660\n",
       "18107  18108  20210811                    44   334650    7368     342462\n",
       "18108  18109  20210811                    43  1685492   22775    1708812\n",
       "18109  18110  20210811                    45  1506532   18252    1534999"
      ]
     },
     "execution_count": 14,
     "metadata": {},
     "output_type": "execute_result"
    }
   ],
   "source": [
    "T1.tail()"
   ]
  },
  {
   "cell_type": "code",
   "execution_count": 15,
   "id": "b52de2be",
   "metadata": {},
   "outputs": [],
   "source": [
    "T1['State/UnionTerritory']= T1['State/UnionTerritory'].astype(int)"
   ]
  },
  {
   "cell_type": "code",
   "execution_count": 16,
   "id": "5954bb0e",
   "metadata": {},
   "outputs": [
    {
     "data": {
      "text/plain": [
       "Sno                     int64\n",
       "Date                    int64\n",
       "State/UnionTerritory    int64\n",
       "Cured                   int64\n",
       "Deaths                  int64\n",
       "Confirmed               int64\n",
       "dtype: object"
      ]
     },
     "execution_count": 16,
     "metadata": {},
     "output_type": "execute_result"
    }
   ],
   "source": [
    "T1.dtypes"
   ]
  },
  {
   "cell_type": "code",
   "execution_count": 17,
   "id": "aec235a1",
   "metadata": {},
   "outputs": [],
   "source": [
    "cp = T1.corr()"
   ]
  },
  {
   "cell_type": "code",
   "execution_count": 18,
   "id": "59ef85ee",
   "metadata": {},
   "outputs": [
    {
     "data": {
      "text/plain": [
       "<AxesSubplot:>"
      ]
     },
     "execution_count": 18,
     "metadata": {},
     "output_type": "execute_result"
    },
    {
     "data": {
      "image/png": "[encoded data removed]",
      "text/plain": [
       "<Figure size 432x288 with 2 Axes>"
      ]
     },
     "metadata": {
      "needs_background": "light"
     },
     "output_type": "display_data"
    }
   ],
   "source": [
    "sns.heatmap(cp)"
   ]
  },
  {
   "cell_type": "code",
   "execution_count": 19,
   "id": "39f4bcc9",
   "metadata": {},
   "outputs": [],
   "source": [
    "train, test = train_test_split(T1, test_size=0.2)"
   ]
  },
  {
   "cell_type": "code",
   "execution_count": 20,
   "id": "52d51dd1",
   "metadata": {},
   "outputs": [
    {
     "data": {
      "text/html": [
       "<div>\n",
       "<style scoped>\n",
       "    .dataframe tbody tr th:only-of-type {\n",
       "        vertical-align: middle;\n",
       "    }\n",
       "\n",
       "    .dataframe tbody tr th {\n",
       "        vertical-align: top;\n",
       "    }\n",
       "\n",
       "    .dataframe thead th {\n",
       "        text-align: right;\n",
       "    }\n",
       "</style>\n",
       "<table border=\"1\" class=\"dataframe\">\n",
       "  <thead>\n",
       "    <tr style=\"text-align: right;\">\n",
       "      <th></th>\n",
       "      <th>Sno</th>\n",
       "      <th>Date</th>\n",
       "      <th>State/UnionTerritory</th>\n",
       "      <th>Cured</th>\n",
       "      <th>Deaths</th>\n",
       "      <th>Confirmed</th>\n",
       "    </tr>\n",
       "  </thead>\n",
       "  <tbody>\n",
       "    <tr>\n",
       "      <th>13622</th>\n",
       "      <td>13623</td>\n",
       "      <td>20210409</td>\n",
       "      <td>16</td>\n",
       "      <td>61902</td>\n",
       "      <td>1096</td>\n",
       "      <td>67511</td>\n",
       "    </tr>\n",
       "    <tr>\n",
       "      <th>2320</th>\n",
       "      <td>2321</td>\n",
       "      <td>20200526</td>\n",
       "      <td>19</td>\n",
       "      <td>148</td>\n",
       "      <td>4</td>\n",
       "      <td>377</td>\n",
       "    </tr>\n",
       "    <tr>\n",
       "      <th>15744</th>\n",
       "      <td>15745</td>\n",
       "      <td>20210607</td>\n",
       "      <td>14</td>\n",
       "      <td>788293</td>\n",
       "      <td>9933</td>\n",
       "      <td>816234</td>\n",
       "    </tr>\n",
       "    <tr>\n",
       "      <th>6589</th>\n",
       "      <td>6590</td>\n",
       "      <td>20200923</td>\n",
       "      <td>37</td>\n",
       "      <td>2009</td>\n",
       "      <td>29</td>\n",
       "      <td>2594</td>\n",
       "    </tr>\n",
       "    <tr>\n",
       "      <th>16947</th>\n",
       "      <td>16948</td>\n",
       "      <td>20210710</td>\n",
       "      <td>33</td>\n",
       "      <td>906519</td>\n",
       "      <td>4476</td>\n",
       "      <td>935136</td>\n",
       "    </tr>\n",
       "  </tbody>\n",
       "</table>\n",
       "</div>"
      ],
      "text/plain": [
       "         Sno      Date  State/UnionTerritory   Cured  Deaths  Confirmed\n",
       "13622  13623  20210409                    16   61902    1096      67511\n",
       "2320    2321  20200526                    19     148       4        377\n",
       "15744  15745  20210607                    14  788293    9933     816234\n",
       "6589    6590  20200923                    37    2009      29       2594\n",
       "16947  16948  20210710                    33  906519    4476     935136"
      ]
     },
     "execution_count": 20,
     "metadata": {},
     "output_type": "execute_result"
    }
   ],
   "source": [
    "train.head()"
   ]
  },
  {
   "cell_type": "code",
   "execution_count": 21,
   "id": "ba370532",
   "metadata": {},
   "outputs": [],
   "source": [
    "### Decision Tree Regression ###\n",
    "\n",
    "Model = tree.DecisionTreeRegressor(max_depth=2).fit(train.iloc[:,0:5],train.iloc[:,5])"
   ]
  },
  {
   "cell_type": "code",
   "execution_count": 22,
   "id": "ece8657b",
   "metadata": {},
   "outputs": [],
   "source": [
    "predictions = Model.predict(test.iloc[:,0:5])"
   ]
  },
  {
   "cell_type": "code",
   "execution_count": 23,
   "id": "9901f0ca",
   "metadata": {},
   "outputs": [
    {
     "data": {
      "text/plain": [
       "array([  73320.23198276, 2039619.10951009,   73320.23198276, ...,\n",
       "        750000.93019943,   73320.23198276,   73320.23198276])"
      ]
     },
     "execution_count": 23,
     "metadata": {},
     "output_type": "execute_result"
    }
   ],
   "source": [
    "predictions"
   ]
  },
  {
   "cell_type": "code",
   "execution_count": 24,
   "id": "305e6547",
   "metadata": {},
   "outputs": [],
   "source": [
    "T5 = test.iloc[:,5]"
   ]
  },
  {
   "cell_type": "code",
   "execution_count": 25,
   "id": "0803de50",
   "metadata": {},
   "outputs": [],
   "source": [
    "def MAPE(y_true,y_pred):\n",
    "    mape = np.mean(np.abs((y_true-y_pred)/y_true))\n",
    "    return mape\n"
   ]
  },
  {
   "cell_type": "code",
   "execution_count": 26,
   "id": "059b0599",
   "metadata": {},
   "outputs": [
    {
     "data": {
      "text/plain": [
       "inf"
      ]
     },
     "execution_count": 26,
     "metadata": {},
     "output_type": "execute_result"
    }
   ],
   "source": [
    "MAPE(T5, predictions) * 100"
   ]
  },
  {
   "cell_type": "code",
   "execution_count": 27,
   "id": "44fb54e9",
   "metadata": {},
   "outputs": [],
   "source": [
    "### Random Forest Regression ###\n",
    "\n",
    "RFModel = RandomForestRegressor(n_estimators=100).fit(train.iloc[:,0:5],train.iloc[:,5])"
   ]
  },
  {
   "cell_type": "code",
   "execution_count": 28,
   "id": "857af72f",
   "metadata": {},
   "outputs": [],
   "source": [
    "RFPredictions = RFModel.predict(test.iloc[:,0:5])"
   ]
  },
  {
   "cell_type": "code",
   "execution_count": 29,
   "id": "5955303d",
   "metadata": {},
   "outputs": [],
   "source": [
    "def MAPE(y_true,y_pred):\n",
    "    mape = np.mean(np.abs((y_true-y_pred)/y_true))\n",
    "    return mape\n"
   ]
  },
  {
   "cell_type": "code",
   "execution_count": 30,
   "id": "0b1c6879",
   "metadata": {},
   "outputs": [
    {
     "data": {
      "text/plain": [
       "inf"
      ]
     },
     "execution_count": 30,
     "metadata": {},
     "output_type": "execute_result"
    }
   ],
   "source": [
    "MAPE(T5, RFPredictions)"
   ]
  },
  {
   "cell_type": "code",
   "execution_count": 31,
   "id": "a1c50b7e",
   "metadata": {},
   "outputs": [
    {
     "data": {
      "text/plain": [
       "array([6.94274000e+03, 3.17017744e+06, 3.34247000e+03, ...,\n",
       "       8.24881490e+05, 2.50400000e+01, 1.36700000e+01])"
      ]
     },
     "execution_count": 31,
     "metadata": {},
     "output_type": "execute_result"
    }
   ],
   "source": [
    "RFPredictions"
   ]
  },
  {
   "cell_type": "code",
   "execution_count": 32,
   "id": "903bc8fc",
   "metadata": {},
   "outputs": [
    {
     "data": {
      "text/plain": [
       "13622     67511\n",
       "2320        377\n",
       "15744    816234\n",
       "6589       2594\n",
       "16947    935136\n",
       "          ...  \n",
       "4176      41383\n",
       "4696       3298\n",
       "11213    939387\n",
       "11113      4363\n",
       "7183     154785\n",
       "Name: Confirmed, Length: 14488, dtype: int64"
      ]
     },
     "execution_count": 32,
     "metadata": {},
     "output_type": "execute_result"
    }
   ],
   "source": [
    "train.iloc[:,5]"
   ]
  },
  {
   "cell_type": "code",
   "execution_count": 33,
   "id": "e85bc5c0",
   "metadata": {},
   "outputs": [],
   "source": [
    "### Linear Regression ###\n",
    "\n",
    "import statsmodels.api as sm"
   ]
  },
  {
   "cell_type": "code",
   "execution_count": 34,
   "id": "9cc61272",
   "metadata": {},
   "outputs": [],
   "source": [
    "Model1 = sm.OLS(train.iloc[:,5],train.iloc[:,0:5]).fit()"
   ]
  },
  {
   "cell_type": "code",
   "execution_count": 35,
   "id": "03f3fd6e",
   "metadata": {},
   "outputs": [
    {
     "data": {
      "text/html": [
       "<table class=\"simpletable\">\n",
       "<caption>OLS Regression Results</caption>\n",
       "<tr>\n",
       "  <th>Dep. Variable:</th>        <td>Confirmed</td>    <th>  R-squared (uncentered):</th>       <td>   0.996</td>  \n",
       "</tr>\n",
       "<tr>\n",
       "  <th>Model:</th>                   <td>OLS</td>       <th>  Adj. R-squared (uncentered):</th>  <td>   0.996</td>  \n",
       "</tr>\n",
       "<tr>\n",
       "  <th>Method:</th>             <td>Least Squares</td>  <th>  F-statistic:       </th>           <td>7.928e+05</td> \n",
       "</tr>\n",
       "<tr>\n",
       "  <th>Date:</th>             <td>Thu, 11 Nov 2021</td> <th>  Prob (F-statistic):</th>            <td>  0.00</td>   \n",
       "</tr>\n",
       "<tr>\n",
       "  <th>Time:</th>                 <td>19:23:19</td>     <th>  Log-Likelihood:    </th>          <td>-1.7520e+05</td>\n",
       "</tr>\n",
       "<tr>\n",
       "  <th>No. Observations:</th>      <td> 14488</td>      <th>  AIC:               </th>           <td>3.504e+05</td> \n",
       "</tr>\n",
       "<tr>\n",
       "  <th>Df Residuals:</th>          <td> 14483</td>      <th>  BIC:               </th>           <td>3.504e+05</td> \n",
       "</tr>\n",
       "<tr>\n",
       "  <th>Df Model:</th>              <td>     5</td>      <th>                     </th>               <td> </td>     \n",
       "</tr>\n",
       "<tr>\n",
       "  <th>Covariance Type:</th>      <td>nonrobust</td>    <th>                     </th>               <td> </td>     \n",
       "</tr>\n",
       "</table>\n",
       "<table class=\"simpletable\">\n",
       "<tr>\n",
       "            <td></td>              <th>coef</th>     <th>std err</th>      <th>t</th>      <th>P>|t|</th>  <th>[0.025</th>    <th>0.975]</th>  \n",
       "</tr>\n",
       "<tr>\n",
       "  <th>Sno</th>                  <td>   -0.5181</td> <td>    0.077</td> <td>   -6.730</td> <td> 0.000</td> <td>   -0.669</td> <td>   -0.367</td>\n",
       "</tr>\n",
       "<tr>\n",
       "  <th>Date</th>                 <td>    0.0004</td> <td> 4.71e-05</td> <td>    8.180</td> <td> 0.000</td> <td>    0.000</td> <td>    0.000</td>\n",
       "</tr>\n",
       "<tr>\n",
       "  <th>State/UnionTerritory</th> <td>   47.9371</td> <td>   26.742</td> <td>    1.793</td> <td> 0.073</td> <td>   -4.481</td> <td>  100.355</td>\n",
       "</tr>\n",
       "<tr>\n",
       "  <th>Cured</th>                <td>    1.0512</td> <td>    0.002</td> <td>  668.572</td> <td> 0.000</td> <td>    1.048</td> <td>    1.054</td>\n",
       "</tr>\n",
       "<tr>\n",
       "  <th>Deaths</th>               <td>    0.9476</td> <td>    0.085</td> <td>   11.131</td> <td> 0.000</td> <td>    0.781</td> <td>    1.114</td>\n",
       "</tr>\n",
       "</table>\n",
       "<table class=\"simpletable\">\n",
       "<tr>\n",
       "  <th>Omnibus:</th>       <td>15551.651</td> <th>  Durbin-Watson:     </th>  <td>   2.025</td>  \n",
       "</tr>\n",
       "<tr>\n",
       "  <th>Prob(Omnibus):</th>  <td> 0.000</td>   <th>  Jarque-Bera (JB):  </th> <td>1692591.513</td>\n",
       "</tr>\n",
       "<tr>\n",
       "  <th>Skew:</th>           <td> 5.329</td>   <th>  Prob(JB):          </th>  <td>    0.00</td>  \n",
       "</tr>\n",
       "<tr>\n",
       "  <th>Kurtosis:</th>       <td>54.868</td>   <th>  Cond. No.          </th>  <td>1.51e+06</td>  \n",
       "</tr>\n",
       "</table><br/><br/>Notes:<br/>[1] R² is computed without centering (uncentered) since the model does not contain a constant.<br/>[2] Standard Errors assume that the covariance matrix of the errors is correctly specified.<br/>[3] The condition number is large, 1.51e+06. This might indicate that there are<br/>strong multicollinearity or other numerical problems."
      ],
      "text/plain": [
       "<class 'statsmodels.iolib.summary.Summary'>\n",
       "\"\"\"\n",
       "                                 OLS Regression Results                                \n",
       "=======================================================================================\n",
       "Dep. Variable:              Confirmed   R-squared (uncentered):                   0.996\n",
       "Model:                            OLS   Adj. R-squared (uncentered):              0.996\n",
       "Method:                 Least Squares   F-statistic:                          7.928e+05\n",
       "Date:                Thu, 11 Nov 2021   Prob (F-statistic):                        0.00\n",
       "Time:                        19:23:19   Log-Likelihood:                     -1.7520e+05\n",
       "No. Observations:               14488   AIC:                                  3.504e+05\n",
       "Df Residuals:                   14483   BIC:                                  3.504e+05\n",
       "Df Model:                           5                                                  \n",
       "Covariance Type:            nonrobust                                                  \n",
       "========================================================================================\n",
       "                           coef    std err          t      P>|t|      [0.025      0.975]\n",
       "----------------------------------------------------------------------------------------\n",
       "Sno                     -0.5181      0.077     -6.730      0.000      -0.669      -0.367\n",
       "Date                     0.0004   4.71e-05      8.180      0.000       0.000       0.000\n",
       "State/UnionTerritory    47.9371     26.742      1.793      0.073      -4.481     100.355\n",
       "Cured                    1.0512      0.002    668.572      0.000       1.048       1.054\n",
       "Deaths                   0.9476      0.085     11.131      0.000       0.781       1.114\n",
       "==============================================================================\n",
       "Omnibus:                    15551.651   Durbin-Watson:                   2.025\n",
       "Prob(Omnibus):                  0.000   Jarque-Bera (JB):          1692591.513\n",
       "Skew:                           5.329   Prob(JB):                         0.00\n",
       "Kurtosis:                      54.868   Cond. No.                     1.51e+06\n",
       "==============================================================================\n",
       "\n",
       "Notes:\n",
       "[1] R² is computed without centering (uncentered) since the model does not contain a constant.\n",
       "[2] Standard Errors assume that the covariance matrix of the errors is correctly specified.\n",
       "[3] The condition number is large, 1.51e+06. This might indicate that there are\n",
       "strong multicollinearity or other numerical problems.\n",
       "\"\"\""
      ]
     },
     "execution_count": 35,
     "metadata": {},
     "output_type": "execute_result"
    }
   ],
   "source": [
    "Model1.summary()"
   ]
  },
  {
   "cell_type": "code",
   "execution_count": 36,
   "id": "d9498eba",
   "metadata": {},
   "outputs": [],
   "source": [
    "predictions = Model.predict(test.iloc[:,0:5])"
   ]
  },
  {
   "cell_type": "code",
   "execution_count": 37,
   "id": "cd6279aa",
   "metadata": {},
   "outputs": [
    {
     "data": {
      "text/plain": [
       "array([  73320.23198276, 2039619.10951009,   73320.23198276, ...,\n",
       "        750000.93019943,   73320.23198276,   73320.23198276])"
      ]
     },
     "execution_count": 37,
     "metadata": {},
     "output_type": "execute_result"
    }
   ],
   "source": [
    "predictions"
   ]
  },
  {
   "cell_type": "code",
   "execution_count": null,
   "id": "77e7c0ad",
   "metadata": {},
   "outputs": [],
   "source": []
  }
 ],
 "metadata": {
  "kernelspec": {
   "display_name": "Python 3 (ipykernel)",
   "language": "python",
   "name": "python3"
  },
  "language_info": {
   "codemirror_mode": {
    "name": "ipython",
    "version": 3
   },
   "file_extension": ".py",
   "mimetype": "text/x-python",
   "name": "python",
   "nbconvert_exporter": "python",
   "pygments_lexer": "ipython3",
   "version": "3.9.7"
  }
 },
 "nbformat": 4,
 "nbformat_minor": 5
}
