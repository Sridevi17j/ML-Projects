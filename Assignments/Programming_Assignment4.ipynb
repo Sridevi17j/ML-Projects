{
 "cells": [
  {
   "cell_type": "code",
   "execution_count": null,
   "id": "03921e97",
   "metadata": {},
   "outputs": [],
   "source": [
    "#Assignment 4\n",
    "#1. Write a Python Program to Find the Factorial of a Number?\n",
    "#2. Write a Python Program to Display the multiplication Table?\n",
    "#3. Write a Python Program to Print the Fibonacci sequence?\n",
    "#4. Write a Python Program to Check Armstrong Number?\n",
    "#5. Write a Python Program to Find Armstrong Number in an Interval?\n",
    "#6. Write a Python Program to Find the Sum of Natural Numbers?"
   ]
  },
  {
   "cell_type": "code",
   "execution_count": 10,
   "id": "eb44a6fe",
   "metadata": {},
   "outputs": [
    {
     "name": "stdout",
     "output_type": "stream",
     "text": [
      "Enter a number: 5\n",
      "Factorial number is:  120\n"
     ]
    }
   ],
   "source": [
    "#1. Write a Python Program to Find the Factorial of a Number?\n",
    "num = int(input(\"Enter a number: \"))\n",
    "fact = 1\n",
    "for i in range(num):\n",
    "    fact = fact * (i+1)\n",
    "print(\"Factorial number is: \", fact)\n",
    "\n",
    "    "
   ]
  },
  {
   "cell_type": "code",
   "execution_count": 13,
   "id": "97c770ef",
   "metadata": {},
   "outputs": [
    {
     "name": "stdout",
     "output_type": "stream",
     "text": [
      "Enter a number: 3\n",
      "1  *  3  =  3\n",
      "2  *  3  =  6\n",
      "3  *  3  =  9\n",
      "4  *  3  =  12\n",
      "5  *  3  =  15\n",
      "6  *  3  =  18\n",
      "7  *  3  =  21\n",
      "8  *  3  =  24\n",
      "9  *  3  =  27\n",
      "10  *  3  =  30\n"
     ]
    }
   ],
   "source": [
    "#2. Write a Python Program to Display the multiplication Table?\n",
    "num = int(input(\"Enter a number: \"))\n",
    "for i in range(10):\n",
    "    print(i+1,\" * \",num,\" = \", (i+1)*num)"
   ]
  },
  {
   "cell_type": "code",
   "execution_count": 19,
   "id": "e8e5d27b",
   "metadata": {},
   "outputs": [
    {
     "name": "stdout",
     "output_type": "stream",
     "text": [
      "0 1 1 2 3 5 8 13 21 34 55 89 144 233 377 610 987 "
     ]
    }
   ],
   "source": [
    "#3. Write a Python Program to Print the Fibonacci sequence?\n",
    "a,b = 0,1\n",
    "while a < 1000:\n",
    "    a,b = b+a,a\n",
    "    print(b,end = \" \")\n",
    "    \n",
    "    "
   ]
  },
  {
   "cell_type": "code",
   "execution_count": 49,
   "id": "26bd6882",
   "metadata": {},
   "outputs": [
    {
     "name": "stdout",
     "output_type": "stream",
     "text": [
      "Enter a number: 371\n",
      "This is an Armstrong number\n"
     ]
    }
   ],
   "source": [
    "#4. Write a Python Program to Check Armstrong Number?\n",
    "num = int(input(\"Enter a number: \"))\n",
    "st = str(num)\n",
    "l = []\n",
    "arm = 0\n",
    "#type(num)\n",
    "for i in range(len(st)):\n",
    "    l.append(st[i])\n",
    "#print(l)\n",
    "for i in range(len(l)):\n",
    "    arm = arm + int(l[i])**3\n",
    "if arm == num:\n",
    "    print(\"This is an Armstrong number\")\n",
    "else:\n",
    "    print(\"This is not an Armstrong number\")\n"
   ]
  },
  {
   "cell_type": "code",
   "execution_count": 3,
   "id": "a1820b18",
   "metadata": {},
   "outputs": [
    {
     "name": "stdout",
     "output_type": "stream",
     "text": [
      "0 1 153 370 371 407 "
     ]
    }
   ],
   "source": [
    "#5. Write a Python Program to Find Armstrong Number in an Interval?\n",
    "num = 1000\n",
    "j = 0\n",
    "while j <= num:\n",
    "    st = str(j)\n",
    "    l = []\n",
    "    arm = 0\n",
    "    #print(st)\n",
    "    for i in range(len(st)):\n",
    "        l.append(st[i])\n",
    "    #print(l)\n",
    "    for i in range(len(l)):\n",
    "        arm = arm + int(l[i])**3\n",
    "    if arm == j:\n",
    "        print(arm,end=\" \")\n",
    "    j += 1\n"
   ]
  },
  {
   "cell_type": "code",
   "execution_count": 19,
   "id": "e363312c",
   "metadata": {},
   "outputs": [
    {
     "name": "stdout",
     "output_type": "stream",
     "text": [
      "Enter a number: 2344\n",
      "[2, 3, 4, 4]\n",
      "13\n"
     ]
    }
   ],
   "source": [
    "#6. Write a Python Program to Find the Sum of Natural Numbers?\n",
    "num = int(input(\"Enter a number: \"))\n",
    "l = [int(i) for i in str(num)]\n",
    "sum = 0\n",
    "print(l)\n",
    "for j in l:\n",
    "    sum = sum + j\n",
    "print(sum)    "
   ]
  },
  {
   "cell_type": "code",
   "execution_count": null,
   "id": "5984c099",
   "metadata": {},
   "outputs": [],
   "source": []
  }
 ],
 "metadata": {
  "kernelspec": {
   "display_name": "Python 3 (ipykernel)",
   "language": "python",
   "name": "python3"
  },
  "language_info": {
   "codemirror_mode": {
    "name": "ipython",
    "version": 3
   },
   "file_extension": ".py",
   "mimetype": "text/x-python",
   "name": "python",
   "nbconvert_exporter": "python",
   "pygments_lexer": "ipython3",
   "version": "3.9.7"
  }
 },
 "nbformat": 4,
 "nbformat_minor": 5
}
