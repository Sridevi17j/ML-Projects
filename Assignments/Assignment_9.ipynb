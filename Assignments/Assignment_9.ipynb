{
 "cells": [
  {
   "cell_type": "code",
   "execution_count": 51,
   "id": "5a9a7fc7",
   "metadata": {},
   "outputs": [
    {
     "name": "stdout",
     "output_type": "stream",
     "text": [
      "Current Directory is-    /Users/mac/Desktop/ML-Projects/Assignments\n",
      "Relative path is-       ../../../Downloads/new1.ipynb\n"
     ]
    }
   ],
   "source": [
    "\"\"\"\n",
    "\n",
    "1. To what does a relative path refer?\n",
    "\n",
    "Relative path refers to the location from current directory.\n",
    "\n",
    "It is a path from current directory to the mentioned location. It uses . or .. to move to respective location.\n",
    "\n",
    "Example:\n",
    "\n",
    "Relative path of file \"new1.ipynb\"\n",
    "\n",
    "\"\"\"\n",
    "\n",
    "import os\n",
    "os.chdir(\"/Users/mac/Desktop/ML-Projects/Assignments/\")\n",
    "print(\"Current Directory is-   \",os.getcwd())\n",
    "relativepath=os.path.relpath('/Users/mac/Downloads/new1.ipynb',start=os.curdir) \n",
    "print(\"Relative path is-      \", relativepath)\n",
    "\n"
   ]
  },
  {
   "cell_type": "code",
   "execution_count": 52,
   "id": "444faec9",
   "metadata": {},
   "outputs": [
    {
     "name": "stdout",
     "output_type": "stream",
     "text": [
      "absolute path of the file is-    \n"
     ]
    },
    {
     "data": {
      "text/plain": [
       "'/Users/mac/Desktop/ML-Projects/Assignments/Assignments/Assignment_1.pdf'"
      ]
     },
     "execution_count": 52,
     "metadata": {},
     "output_type": "execute_result"
    }
   ],
   "source": [
    "\"\"\"\n",
    "\n",
    "2. What does an absolute path start with your operating system?\n",
    "\n",
    "Absolute path refers to the location from the root directory.\n",
    "\n",
    "In my operating system it starts with /.\n",
    "\n",
    "\"\"\"\n",
    "\n",
    "import os\n",
    "print(\"absolute path of the file is-    \")\n",
    "os.path.abspath(\"Assignments/Assignment_1.pdf\")"
   ]
  },
  {
   "cell_type": "code",
   "execution_count": 53,
   "id": "7458ab77",
   "metadata": {},
   "outputs": [
    {
     "name": "stdout",
     "output_type": "stream",
     "text": [
      "output of os.getcwd is-current dir-       /Users/mac/Desktop/ML-Projects/Assignments\n",
      "os.chdir() -  changed new dir-    /Users/mac/Desktop/AI Project\n"
     ]
    }
   ],
   "source": [
    "\"\"\"\n",
    "\n",
    "3. What do the functions os.getcwd() and os.chdir() do?\n",
    "\n",
    "os.getcwd()- returns current working directory\n",
    "os.chdir()- Used to change the current working directory to specified path\n",
    "\n",
    "\"\"\"\n",
    "\n",
    "print(\"output of os.getcwd is-current dir-      \",os.getcwd())\n",
    "\n",
    "os.chdir('/Users/mac/Desktop/AI Project')\n",
    "\n",
    "print(\"os.chdir() -  changed new dir-   \",os.getcwd())"
   ]
  },
  {
   "cell_type": "code",
   "execution_count": null,
   "id": "72c04050",
   "metadata": {},
   "outputs": [],
   "source": [
    "\"\"\"\n",
    "\n",
    "4. What are the . and .. folders?\n",
    "\n",
    "The single dot (.) is used to refer to the current directory.\n",
    "\n",
    "Double dot (..) is used to refer to the directory above the current directory(Parent Directory), \n",
    "\n",
    "\"\"\"\n"
   ]
  },
  {
   "cell_type": "code",
   "execution_count": 54,
   "id": "e2956159",
   "metadata": {},
   "outputs": [
    {
     "name": "stdout",
     "output_type": "stream",
     "text": [
      "dir name:::-   C:/bacon/eggs\n",
      "basename:::-   spam.txt\n"
     ]
    }
   ],
   "source": [
    "\"\"\"\n",
    "\n",
    "5. In C:\\bacon\\eggs\\spam.txt, which part is the dir name, and which part is the base name?\n",
    "    \n",
    "\"\"\"\n",
    "\n",
    "path = \"C:/bacon/eggs/spam.txt\"\n",
    "print(\"dir name:::-  \",os.path.dirname(path))\n",
    "print(\"basename:::-  \",os.path.basename(path))\n"
   ]
  },
  {
   "cell_type": "code",
   "execution_count": 55,
   "id": "3b518ce2",
   "metadata": {},
   "outputs": [
    {
     "name": "stdout",
     "output_type": "stream",
     "text": [
      "This is the first line\n",
      "This is the second line\n"
     ]
    }
   ],
   "source": [
    "\"\"\"\n",
    "\n",
    "6. What are the three “mode” arguments that can be passed to the open() function?\n",
    "\n",
    "Few modes of open() function,\n",
    "\n",
    "\"r\" - Read - It opens a file for reading, throws error, if file does not exist\n",
    "\n",
    "\"a\" - Append - It opens a file for appending, It creates the file if it does not exist\n",
    "\n",
    "\"w\" - Write - It opens a file for writing, and creates the file if it does not exist,\n",
    "overwrites the file if file already exists.\n",
    "\n",
    "\"x\" - Create - It creates the new file with the name specified, returns an error if the file \n",
    "with that name already exists\n",
    "\n",
    "\"\"\"\n",
    "\n",
    "\n",
    "os.chdir(\"/Users/mac/Desktop/ML-Projects/New Project/\")\n",
    "a= open(\"TestFile7.txt\",'x')\n",
    "a.close()\n",
    "b= open(\"TestFile7.txt\",'w')\n",
    "b.write(\"This is the first line\\n\")\n",
    "b.close()\n",
    "c= open(\"TestFile7.txt\",'a')\n",
    "c.write(\"This is the second line\")\n",
    "c.close()\n",
    "d= open(\"TestFile7.txt\",'r')\n",
    "print(d.read())\n",
    "d.close()\n",
    "\n"
   ]
  },
  {
   "cell_type": "code",
   "execution_count": 56,
   "id": "7905b346",
   "metadata": {},
   "outputs": [
    {
     "name": "stdout",
     "output_type": "stream",
     "text": [
      "First Test Line written\n",
      "Second Test Line written\n"
     ]
    }
   ],
   "source": [
    "\"\"\"\n",
    "\n",
    "7. What happens if an existing file is opened in write mode?\n",
    "\n",
    "write mode is for writing. Overwrites the file if it already exists.\n",
    "\n",
    "If file does not exist, it creates a new file for writing.\n",
    "\n",
    "\"\"\"\n",
    "\n",
    "e = open(\"TFile1.txt\",'w')\n",
    "e.write(\"First Test Line written\")\n",
    "e.close()\n",
    "f = open(\"TFile1.txt\",'r')\n",
    "print(f.read())\n",
    "f.close()\n",
    "x= open(\"TFile1.txt\",'w')\n",
    "x.write(\"Second Test Line written\")\n",
    "x.close()\n",
    "y = open(\"TFile1.txt\",'r')\n",
    "print(y.read())\n",
    "y.close()\n"
   ]
  },
  {
   "cell_type": "code",
   "execution_count": 57,
   "id": "c45465a7",
   "metadata": {},
   "outputs": [
    {
     "name": "stdout",
     "output_type": "stream",
     "text": [
      "output of read():\n",
      "This is first line\n",
      " This is Second line\n",
      "\n",
      "output of readlines():\n",
      "['This is first line\\n', ' This is Second line']\n",
      "\n",
      "output of read(7):\n",
      "This is\n",
      "\n",
      "Output of readlines(1):\n",
      "['This is first line\\n']\n"
     ]
    }
   ],
   "source": [
    "\"\"\"\n",
    "\n",
    "8. How do you tell the difference between read() and readlines()?\n",
    "\n",
    "read- reads and returns all characters at single string at a time, if no number is specified..\n",
    "If number is specified like read(7)-7 characters will be returned.\n",
    "\n",
    "readlines- reads and returns all lines if no number is specified.\n",
    "If number is specified like readlines(1)- 1 line will be displayed.\n",
    "\n",
    "\"\"\"\n",
    "\n",
    "g = open(\"Tfile2.txt\",'w')\n",
    "g.write(\"This is first line\\n This is Second line\")\n",
    "g.close()\n",
    "h = open(\"Tfile2.txt\",'r')\n",
    "print(\"output of read():\")\n",
    "print(h.read())\n",
    "h.close()\n",
    "print(\"\\noutput of readlines():\")\n",
    "i = open(\"Tfile2.txt\",'r')\n",
    "print(i.readlines())\n",
    "i.close()\n",
    "print(\"\\noutput of read(7):\")\n",
    "j = open(\"Tfile2.txt\",'r')\n",
    "print(j.read(7))\n",
    "j.close()\n",
    "k = open(\"Tfile2.txt\",'r')\n",
    "print(\"\\nOutput of readlines(1):\")\n",
    "print(k.readlines(1))\n",
    "k.close()\n"
   ]
  },
  {
   "cell_type": "code",
   "execution_count": 58,
   "id": "d4416724",
   "metadata": {},
   "outputs": [
    {
     "data": {
      "text/plain": [
       "[('name', 'Ajay'), ('id', 23), ('age', 28)]"
      ]
     },
     "execution_count": 58,
     "metadata": {},
     "output_type": "execute_result"
    }
   ],
   "source": [
    "\"\"\"\n",
    "\n",
    "9. What data structure does a shelf value resemble?\n",
    "\n",
    "Dictionary resembles a shelf value. Below is the example for creating shelf object and accessing it.\n",
    "\n",
    "It has key pair values just like Dictionary.\n",
    "\n",
    "\"\"\"\n",
    "\n",
    "import shelve\n",
    "nf = shelve.open(\"testfile\")\n",
    "nf['name'] = \"Ajay\"\n",
    "nf['id'] = 23\n",
    "nf['age'] = 28\n",
    "nf.close()\n",
    "nf = shelve.open(\"testfile\")\n",
    "list(nf.items())\n",
    "\n"
   ]
  },
  {
   "cell_type": "code",
   "execution_count": null,
   "id": "83ab2850",
   "metadata": {},
   "outputs": [],
   "source": []
  }
 ],
 "metadata": {
  "kernelspec": {
   "display_name": "Python 3 (ipykernel)",
   "language": "python",
   "name": "python3"
  },
  "language_info": {
   "codemirror_mode": {
    "name": "ipython",
    "version": 3
   },
   "file_extension": ".py",
   "mimetype": "text/x-python",
   "name": "python",
   "nbconvert_exporter": "python",
   "pygments_lexer": "ipython3",
   "version": "3.9.7"
  }
 },
 "nbformat": 4,
 "nbformat_minor": 5
}
