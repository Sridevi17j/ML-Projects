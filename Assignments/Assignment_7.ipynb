{
 "cells": [
  {
   "cell_type": "code",
   "execution_count": 29,
   "id": "d18dee88",
   "metadata": {},
   "outputs": [
    {
     "data": {
      "text/plain": [
       "['0xB0']"
      ]
     },
     "execution_count": 29,
     "metadata": {},
     "output_type": "execute_result"
    }
   ],
   "source": [
    "\"\"\"\n",
    "\n",
    "1. What is the name of the feature responsible for generating Regex objects? \n",
    "\n",
    "Answer:\n",
    "\n",
    "re.complie() will generate regex objects.\n",
    "\n",
    "Example:\n",
    "\n",
    "\"\"\"\n",
    "### Checking whether below string contains 0xB0 or not\n",
    "\n",
    "import re\n",
    "\n",
    "line1 = 'end address: 0xFF, func2 address: 0xB0'\n",
    "\n",
    "## re.compile generate regex object\n",
    "\n",
    "line1_pattern= re.compile(r\"0xB0\") \n",
    "\n",
    "line1_pattern.findall(line1)\n"
   ]
  },
  {
   "cell_type": "code",
   "execution_count": null,
   "id": "b3459f85",
   "metadata": {},
   "outputs": [],
   "source": [
    "\"\"\"\n",
    "\n",
    "2. Why do raw strings often appear in Regex objects? \n",
    "\n",
    "Answer:\n",
    "\n",
    "Because /’backslash’ need not to be skipped. Without raw notation, every backslash has to be prefixed by \n",
    "another one to escape it.\n",
    "\n",
    "It is useful when we want to have a string that contains backslash(\\) \n",
    "and don’t want it to be treated as an escape character.\n",
    "\n",
    "\"\"\"\n"
   ]
  },
  {
   "cell_type": "code",
   "execution_count": 30,
   "id": "f9ea581e",
   "metadata": {},
   "outputs": [
    {
     "data": {
      "text/plain": [
       "re.Match"
      ]
     },
     "execution_count": 30,
     "metadata": {},
     "output_type": "execute_result"
    }
   ],
   "source": [
    "\"\"\"\n",
    "3. What is the return value of the search() method? \n",
    "\n",
    "Answer:\n",
    "\n",
    "re.search() returns a match object. (re.Match object)\n",
    "\n",
    "Example :\n",
    "\n",
    "\"\"\"\n",
    "\n",
    "line3 = \"Cloud computing the evolving technology. Learning cloud is the best way of surviving in the industry.\"\n",
    "\n",
    "line3_pattern = re.compile(r'cloud',re.IGNORECASE)\n",
    "\n",
    "type(line3_pattern.search(line3))\n",
    "    "
   ]
  },
  {
   "cell_type": "code",
   "execution_count": 31,
   "id": "6a27a04d",
   "metadata": {},
   "outputs": [
    {
     "data": {
      "text/plain": [
       "'(021)1234567'"
      ]
     },
     "execution_count": 31,
     "metadata": {},
     "output_type": "execute_result"
    }
   ],
   "source": [
    "\"\"\"\n",
    "4. From a Match item, how do you get the actual strings that match the pattern? \n",
    "\n",
    "Answer:\n",
    "\n",
    "Group() method used to return the original string that matches with the pattern. \n",
    "\n",
    "Example:\n",
    "\n",
    "\"\"\"\n",
    "\n",
    "### Trying to extract the phone number from the string and using group method to return\n",
    "\n",
    "line4 = \"Here is the number of the shope. It goes like this (021)1234567. And the postal code is 12345.\"\n",
    "\n",
    "line4_pattern = re.compile(r\"\\W\\d{3}\\W\\d*\")\n",
    "\n",
    "line4_pattern_search = line4_pattern.search(line4)\n",
    "\n",
    "line4_pattern_search.group()  "
   ]
  },
  {
   "cell_type": "code",
   "execution_count": 32,
   "id": "b26e85f4",
   "metadata": {},
   "outputs": [
    {
     "name": "stdout",
     "output_type": "stream",
     "text": [
      "DavidJhonson@xyz.com\n",
      "DavidJhonson\n",
      "xyz\n",
      "com\n"
     ]
    }
   ],
   "source": [
    "\"\"\"\n",
    "\n",
    "5. In the regex which created from the r'(\\d\\d\\d)-(\\d\\d\\d-\\d\\d\\d\\d)', what does group zero cover? Group 2? Group 1? \n",
    "\n",
    "Answer:\n",
    "\n",
    "Group(0) covers – Entire match- Here it covers - (\\d\\d\\d)-(\\d\\d\\d-\\d\\d\\d\\d)\n",
    "\n",
    "Group (1) covers - First Paranthesis-First subgroup-(\\d\\d\\d)\n",
    "\n",
    "Group(2) covers - Second Paranthesis - Second subgroup- (\\d\\d\\d-\\d\\d\\d\\d)\n",
    "\n",
    "Example Below:\n",
    "\n",
    "\"\"\"\n",
    "### Using group method\n",
    "\n",
    "line5=\"His name is David Jhonson. His mail id is DavidJhonson@xyz.com\"\n",
    "line5_pattern=re.compile(r\"(\\w+)@(\\w+).(com)\")\n",
    "line5_pattern_search=line5_pattern.search(line5)\n",
    "\n",
    "print(line5_pattern_search.group(0))\n",
    "print(line5_pattern_search.group(1))\n",
    "print(line5_pattern_search.group(2))\n",
    "print(line5_pattern_search.group(3))"
   ]
  },
  {
   "cell_type": "code",
   "execution_count": 33,
   "id": "20ebbff9",
   "metadata": {},
   "outputs": [
    {
     "data": {
      "text/plain": [
       "'(012)-(123-.4567)'"
      ]
     },
     "execution_count": 33,
     "metadata": {},
     "output_type": "execute_result"
    }
   ],
   "source": [
    "\"\"\"\n",
    "6. In standard expression syntax, parentheses and intervals have distinct meanings.\n",
    "\n",
    "How can you tell a regex that you want it to fit real parentheses and periods? \n",
    "\n",
    "Answer:\n",
    "    \n",
    "    By providing backslash before paranthesis and periods, \n",
    "    we can inform regex that those are real paranthesis and dot.\n",
    "    \n",
    "Example below:\n",
    "    \n",
    "\"\"\"\n",
    "\n",
    "line6 = \"The postal code is 12345. The other number is (012)-(123-.4567) and the postal code is 54321.\"\n",
    "\n",
    "line6_pattern = re.compile(r'\\(\\d{3}\\)-\\(\\d{3}-\\.\\d{4}\\)')\n",
    "\n",
    "line6_pattern_search=line6_pattern.search(line6)\n",
    "\n",
    "line6_pattern_search.group()\n"
   ]
  },
  {
   "cell_type": "code",
   "execution_count": 34,
   "id": "970b7ac5",
   "metadata": {},
   "outputs": [
    {
     "name": "stdout",
     "output_type": "stream",
     "text": [
      "Printing in list as findall has no Groups\n",
      "['Cloud', 'cloud']\n",
      "\n",
      "\n",
      "Printing in tuples as findall has groups\n",
      "[('rises', ''), ('', '18%')]\n"
     ]
    }
   ],
   "source": [
    "\"\"\"\n",
    "\n",
    "7. The findall() method returns a string list or a list of string tuples.\n",
    "\n",
    "What causes it to return one of the two options? \n",
    "\n",
    "Answer:\n",
    "\n",
    "findall() returns a list of strings if it has no groups.\n",
    "\n",
    "findall() returns list of string tuples if it has groups.\n",
    "\n",
    "Example:\n",
    "\n",
    "\"\"\"\n",
    "\n",
    "### findall returns list of strings- when it does not have groups\n",
    "\n",
    "line7 = \"Cloud computing the evolving technology. Learning cloud is the best way of surviving in the industry.\"\n",
    "\n",
    "line7_pattern = re.compile(r'cloud',re.IGNORECASE)\n",
    "\n",
    "print(\"Printing in list as findall has no Groups\")\n",
    "print(line7_pattern.findall(line7))\n",
    "\n",
    "### findall returns list of string tuples- when it has groups\n",
    "\n",
    "line8 = \"Zomato share price rises 18% despite losses widen in Q4\"\n",
    "\n",
    "line8_pattern = re.compile(r\"(rise\\w*)|(\\d{1,2}%)\")\n",
    "\n",
    "print(\"\\n\")\n",
    "print(\"Printing in tuples as findall has groups\")\n",
    "print(line8_pattern.findall(line8))"
   ]
  },
  {
   "cell_type": "code",
   "execution_count": 35,
   "id": "e408dc79",
   "metadata": {},
   "outputs": [
    {
     "name": "stdout",
     "output_type": "stream",
     "text": [
      "Tried extracting mail id or phone number, any one of two will be returned\n"
     ]
    },
    {
     "data": {
      "text/plain": [
       "'DavidJhonson@xyz.com'"
      ]
     },
     "execution_count": 35,
     "metadata": {},
     "output_type": "execute_result"
    }
   ],
   "source": [
    "\"\"\"\n",
    "8. In standard expressions, what does the | character mean? \n",
    "\n",
    "| means OR operator in \n",
    "\n",
    "Example below:\n",
    "\n",
    "\"\"\"\n",
    "\n",
    "line8 = \"His name is David Jhonson. His mail id is DavidJhonson@xyz.com. His phone number is (012)-(456-4378)\"\n",
    "\n",
    "line8_pattern=re.compile(r\"(\\w+@\\w+.com)|(.\\d+..)\")\n",
    "\n",
    "line8_pattern_search=line8_pattern.search(line8)\n",
    "\n",
    "print(\"Tried extracting mail id or phone number, any one of two will be returned\")\n",
    "line8_pattern_search.group()\n",
    "\n"
   ]
  },
  {
   "cell_type": "code",
   "execution_count": 36,
   "id": "020716e3",
   "metadata": {},
   "outputs": [
    {
     "name": "stdout",
     "output_type": "stream",
     "text": [
      "Extracting 'This','string','123'from the actual string- All these characters stands for themselves\n",
      "['This', 'string', '123']\n",
      "\n",
      "\n",
      "Trying to extract .(dot) from the string. But dot in regex matches all single character in string check below\n",
      "['W', 'e', 'l', 'c', 'o', 'm', 'e', ' ', 't', 'o', ' ', 'R', 'e', 'g', 'e', 'x', '!', ',', ' ', 'T', 'h', 'i', 's', ' ', 's', 't', 'r', 'i', 'n', 'g', ' ', 'c', 'o', 'n', 't', 'a', 'i', 'n', 's', ' ', 'n', 'u', 'm', 'b', 'e', 'r', 's', ' ', 'e', 'x', '.', '1', '2', '3', ',', ' ', 'e', 't', 'c', '.', '.']\n"
     ]
    }
   ],
   "source": [
    "\"\"\"\n",
    "9. In regular expressions, what does the character stand for? \n",
    "\n",
    "Answer:\n",
    "\n",
    "All characters except special characters those are having special meaning in regex, matches themselves.\n",
    "\n",
    "Example:\n",
    "\n",
    "\"\"\"\n",
    "\n",
    "line9 = \"Welcome to Regex!, This string contains numbers ex.123, etc..\"\n",
    "\n",
    "line9_pattern1=re.compile(r\"This|string|123\")\n",
    "\n",
    "print(\"Extracting 'This','string','123'from the actual string- All these characters stands for themselves\")\n",
    "\n",
    "print(line9_pattern1.findall(line9))\n",
    "\n",
    "line9_pattern2=re.compile(r\".\")\n",
    "\n",
    "print(\"\\n\")\n",
    "print(\"Trying to extract .(dot) from the string. But dot in regex matches all single character in string check below\")\n",
    "\n",
    "print(line9_pattern2.findall(line9))\n"
   ]
  },
  {
   "cell_type": "code",
   "execution_count": 37,
   "id": "3bed539e",
   "metadata": {},
   "outputs": [
    {
     "name": "stdout",
     "output_type": "stream",
     "text": [
      "Using + in regex\n",
      "['test10']\n",
      "\n",
      "\n",
      "Using * in regex\n",
      "['test10', 'test']\n"
     ]
    }
   ],
   "source": [
    "\"\"\"\n",
    "10.In regular expressions, what is the difference between the + and * characters? \n",
    "\n",
    "Answer:\n",
    "    \n",
    "* means preceding expression, must match zero or more times.\n",
    "+ means preceding expression, must match atleast one or more times.\n",
    "\n",
    "Example below:\n",
    "\n",
    "\"\"\"\n",
    "\n",
    "line10 = \"test10,test\"\n",
    "\n",
    "## using + Regex- Lists the matched string(matched atleast one or more times)\n",
    "\n",
    "line10_pattern1 = re.compile(r\"test\\d+\")\n",
    "\n",
    "print(\"Using + in regex\")\n",
    "\n",
    "print(line10_pattern1.findall(line10))\n",
    "\n",
    "## Using * in Regex- Lists the matched string(matched zero or more times)\n",
    "\n",
    "line10_pattern2= re.compile(r\"test\\d*\")\n",
    "\n",
    "print(\"\\n\")\n",
    "print(\"Using * in regex\")\n",
    "\n",
    "print(line10_pattern2.findall(line10))\n",
    "\n"
   ]
  },
  {
   "cell_type": "code",
   "execution_count": 38,
   "id": "0a883c36",
   "metadata": {},
   "outputs": [
    {
     "name": "stdout",
     "output_type": "stream",
     "text": [
      "Printing for {4}\n",
      "['7895', '6358', '9403']\n",
      "\n",
      "\n",
      "Printing for {4,5}\n",
      "['78956', '35894']\n"
     ]
    }
   ],
   "source": [
    "\"\"\"\n",
    "11. What is the difference between {4} and {4,5} in regular expression? \n",
    "\n",
    "Answer below:\n",
    "    \n",
    "{4}- matches the previous token exactly 4 times \n",
    "\n",
    "{4,5} matches the previous token between 4 and 5 times, as many times as possible, giving back as needed\n",
    "\n",
    "Example below:\n",
    "\n",
    "\"\"\"\n",
    "\n",
    "line11 =\"7895635894035\"\n",
    "\n",
    "line11_pattern1=re.compile(r\"\\d{4}\")\n",
    "\n",
    "print(\"Printing for {4}\")\n",
    "\n",
    "print(line11_pattern1.findall(line11))\n",
    "\n",
    "line11_pattern2=re.compile(r\"\\d{4,5}\")\n",
    "\n",
    "print(\"\\n\")\n",
    "print(\"Printing for {4,5}\")\n",
    "\n",
    "print(line11_pattern2.findall(line11))\n"
   ]
  },
  {
   "cell_type": "code",
   "execution_count": 39,
   "id": "5a5f4202",
   "metadata": {},
   "outputs": [
    {
     "name": "stdout",
     "output_type": "stream",
     "text": [
      "\\d-matches the digit in the string\n",
      "['1', '2', '3']\n",
      "\n",
      "\n",
      "\\w-matches any word character\n",
      "['W', 'e', 'l', 'c', 'o', 'm', 'e', 't', 'o', 'R', 'e', 'g', 'e', 'x', 'T', 'h', 'i', 's', 's', 't', 'r', 'i', 'n', 'g', 'c', 'o', 'n', 't', 'a', 'i', 'n', 's', 'n', 'u', 'm', 'b', 'e', 'r', 's', 'e', 'x', '1', '2', '3', 'e', 't', 'c']\n",
      "\n",
      "\n",
      "\\s matches any whitespace character\n",
      "[' ', ' ', ' ', ' ', ' ', ' ', ' ', ' ']\n",
      "\n",
      "\n"
     ]
    }
   ],
   "source": [
    "\"\"\"\n",
    "\n",
    "12. What do you mean by the \\d, \\w, and \\s shorthand character classes signify in regular expressions? \n",
    "\n",
    "Answer:\n",
    "\n",
    "\\d matches a digit (equivalent to [0-9])\n",
    "\n",
    "\\w matches any word character (equivalent to [a-zA-Z0-9_])\n",
    "\n",
    "\\s matches any whitespace character (equivalent to [\\r\\n\\t\\f\\v ])\n",
    "\n",
    "Example:\n",
    "\n",
    "\"\"\"\n",
    "\n",
    "line12 = \"Welcome to Regex!, This string contains numbers ex.123, etc..\"\n",
    "\n",
    "line12_pattern1 = re.compile(r\"\\d\")\n",
    "\n",
    "line12_pattern2 = re.compile(r\"\\w\")\n",
    "\n",
    "line12_pattern3 = re.compile(r\"\\s\")\n",
    "\n",
    "print(\"\\d-matches the digit in the string\")\n",
    "print(line12_pattern1.findall(line12))\n",
    "print(\"\\n\")\n",
    "\n",
    "print(\"\\w-matches any word character\")\n",
    "print(line12_pattern2.findall(line12))\n",
    "print(\"\\n\")\n",
    "\n",
    "print(\"\\s matches any whitespace character\")\n",
    "print(line12_pattern3.findall(line12))\n",
    "print(\"\\n\")\n",
    "\n"
   ]
  },
  {
   "cell_type": "code",
   "execution_count": 40,
   "id": "f9ee2c9a",
   "metadata": {},
   "outputs": [
    {
     "name": "stdout",
     "output_type": "stream",
     "text": [
      "\\D matches any non digit character\n",
      "['W', 'e', 'l', 'c', 'o', 'm', 'e', ' ', 't', 'o', ' ', 'R', 'e', 'g', 'e', 'x', '!', ',', ' ', 'T', 'h', 'i', 's', ' ', 's', 't', 'r', 'i', 'n', 'g', ' ', 'c', 'o', 'n', 't', 'a', 'i', 'n', 's', ' ', 'n', 'u', 'm', 'b', 'e', 'r', 's', ' ', 'e', 'x', '.', ',', ' ', 'e', 't', 'c', '.', '.']\n",
      "\n",
      "\n",
      "\\W matches any non word character\n",
      "[' ', ' ', '!', ',', ' ', ' ', ' ', ' ', ' ', '.', ',', ' ', '.', '.']\n",
      "\n",
      "\n",
      "\\S matches any non whitespace character\n",
      "['W', 'e', 'l', 'c', 'o', 'm', 'e', 't', 'o', 'R', 'e', 'g', 'e', 'x', '!', ',', 'T', 'h', 'i', 's', 's', 't', 'r', 'i', 'n', 'g', 'c', 'o', 'n', 't', 'a', 'i', 'n', 's', 'n', 'u', 'm', 'b', 'e', 'r', 's', 'e', 'x', '.', '1', '2', '3', ',', 'e', 't', 'c', '.', '.']\n",
      "\n",
      "\n"
     ]
    }
   ],
   "source": [
    "\"\"\"\n",
    "\n",
    "13. What do means by \\D, \\W, and \\S shorthand character classes signify in regular expressions? \n",
    "\n",
    "Answer:\n",
    "\n",
    "\\D matches any character that's not a digit (equivalent to [^0-9])\n",
    "\n",
    "\\W matches any non-word character (equivalent to [^a-zA-Z0-9_])\n",
    "\n",
    "\\S matches any non-whitespace character (equivalent to [^\\r\\n\\t\\f\\v ])\n",
    "\n",
    "Example:\n",
    "\n",
    "\"\"\"\n",
    "\n",
    "line13 = \"Welcome to Regex!, This string contains numbers ex.123, etc..\"\n",
    "\n",
    "line13_pattern1 = re.compile(r\"\\D\")\n",
    "\n",
    "line13_pattern2 = re.compile(r\"\\W\")\n",
    "\n",
    "line13_pattern3 = re.compile(r\"\\S\")\n",
    "\n",
    "print(\"\\D matches any non digit character\")\n",
    "print(line13_pattern1.findall(line13))\n",
    "print(\"\\n\")\n",
    "\n",
    "print(\"\\W matches any non word character\")\n",
    "print(line13_pattern2.findall(line13))\n",
    "print(\"\\n\")\n",
    "\n",
    "print(\"\\S matches any non whitespace character\")\n",
    "print(line13_pattern3.findall(line13))\n",
    "print(\"\\n\")\n"
   ]
  },
  {
   "cell_type": "code",
   "execution_count": 41,
   "id": "c0d26034",
   "metadata": {},
   "outputs": [
    {
     "name": "stdout",
     "output_type": "stream",
     "text": [
      "printing for pattern Da.*? \n",
      "['Da', 'Da']\n",
      "\n",
      "\n",
      "printing for pattern Da.* ( It prints entire string after Da.*)\n",
      "['David Jhonson. His mail id is DavidJhonson@xyz.com. His phone number is (012)-(456-4378)']\n"
     ]
    }
   ],
   "source": [
    "\"\"\"\n",
    "\n",
    "14. What is the difference between .*? and .* ? \n",
    "\n",
    "Answer:\n",
    "\n",
    ".*? matches the previous token between zero and unlimited times, \n",
    "as few times as possible, expanding as needed (lazy)\n",
    "\n",
    ".* matches the previous token(.-dot) between zero and unlimited times,\n",
    "as many times as possible, giving back as needed (greedy)\n",
    "\n",
    "Example:\n",
    "\n",
    "\"\"\"\n",
    "\n",
    "line14 = \"His name is David Jhonson. His mail id is DavidJhonson@xyz.com. His phone number is (012)-(456-4378)\"\n",
    "\n",
    "line14_pattern1=re.compile(r\"Da.*?\")\n",
    "\n",
    "print(\"printing for pattern Da.*? \")\n",
    "\n",
    "print(line14_pattern1.findall(line14))\n",
    "\n",
    "line14_pattern2=re.compile(r\"Da.*\")\n",
    "\n",
    "print(\"\\n\")\n",
    "print(\"printing for pattern Da.* ( It prints entire string after Da.*)\")\n",
    "\n",
    "print(line14_pattern2.findall(line14))\n",
    "\n",
    "    "
   ]
  },
  {
   "cell_type": "code",
   "execution_count": 42,
   "id": "67882982",
   "metadata": {},
   "outputs": [
    {
     "name": "stdout",
     "output_type": "stream",
     "text": [
      "printing numbers and lowercase in string using pattern1\n",
      "['1', '5', 'e', 'l', 'c', 'o', 'm', 'e', 't', 'o', 'e', 'g', 'e', 'x', '2', '3', '5', 'h', 'i', 's', 's', 't', 'r', 'i', 'n', 'g', 'c', 'o', 'n', 't', 'a', 'i', 'n', 's', 'n', 'u', 'm', 'b', 'e', 'r', 's', 'e', 'x', '1', '2', '3', 'e', 't', 'c']\n",
      "\n",
      "\n",
      "printing numbers and lowercase in string using pattern2\n",
      "['1', '5', 'e', 'l', 'c', 'o', 'm', 'e', 't', 'o', 'e', 'g', 'e', 'x', '2', '3', '5', 'h', 'i', 's', 's', 't', 'r', 'i', 'n', 'g', 'c', 'o', 'n', 't', 'a', 'i', 'n', 's', 'n', 'u', 'm', 'b', 'e', 'r', 's', 'e', 'x', '1', '2', '3', 'e', 't', 'c']\n"
     ]
    }
   ],
   "source": [
    "\"\"\"\n",
    "\n",
    "15. What is the syntax for matching both numbers and lowercase letters with a character class? \n",
    "\n",
    "Answer:\n",
    "\n",
    "we can mention regex to match numbers and lowercase letters with below expressions:\n",
    "\n",
    "\n",
    "[\\da-z]\n",
    "[a-z\\d]\n",
    "\n",
    "Example below:\n",
    "\n",
    "\"\"\"\n",
    "line15=\"15Welcome to Regex235!, This string contains numbers ex.123, etc..\"\n",
    "\n",
    "line15_pattern1=re.compile(r\"[a-z\\d]\")\n",
    "\n",
    "line15_pattern2=re.compile(r\"[\\da-z]\")\n",
    "\n",
    "print(\"printing numbers and lowercase in string using pattern1\")\n",
    "print(line15_pattern1.findall(line15))\n",
    "\n",
    "print(\"\\n\")\n",
    "print(\"printing numbers and lowercase in string using pattern2\")\n",
    "print(line15_pattern2.findall(line15))\n",
    "\n"
   ]
  },
  {
   "cell_type": "code",
   "execution_count": 43,
   "id": "fe69a2d8",
   "metadata": {},
   "outputs": [
    {
     "name": "stdout",
     "output_type": "stream",
     "text": [
      "Printing cloud -Case insensitivity\n",
      "['CLOUD', 'cloud']\n"
     ]
    }
   ],
   "source": [
    "\"\"\"\n",
    "\n",
    "16. What is the procedure for making a normal expression in regax case insensitive?\n",
    "\n",
    "Answer:\n",
    "\n",
    "Using re.IGNORECASE is used as a flag to enable case insensitivity.\n",
    "\n",
    "Example:\n",
    "\n",
    "\"\"\"\n",
    "line16 = \"CLOUD computing the evolving technology. Learning cloud is the best way of surviving in the industry.\"\n",
    "\n",
    "line16_pattern = re.compile(r'cloud',re.IGNORECASE)\n",
    "\n",
    "print(\"Printing cloud -Case insensitivity\")\n",
    "print(line16_pattern.findall(line16))\n"
   ]
  },
  {
   "cell_type": "code",
   "execution_count": null,
   "id": "a6fca007",
   "metadata": {},
   "outputs": [],
   "source": [
    "\"\"\"\n",
    "\n",
    "17. What does the . character normally match? What does it match if re.DOTALL is passed as 2nd argument in re.compile()? \n",
    "\n",
    "Answer:\n",
    "\n",
    ". Matches any character other than new line including line terminators. \n",
    "\n",
    "If we pass re.DOTALL , it extends the functionality of dot ., which tries to include new line character also. \n",
    " \n",
    " \n",
    "\"\"\"\n"
   ]
  },
  {
   "cell_type": "code",
   "execution_count": 44,
   "id": "8cbe0294",
   "metadata": {},
   "outputs": [
    {
     "data": {
      "text/plain": [
       "'X drummers, X pipers, five rings, X hen'"
      ]
     },
     "execution_count": 44,
     "metadata": {},
     "output_type": "execute_result"
    }
   ],
   "source": [
    "\"\"\"\n",
    "\n",
    "18. If numReg = re.compile(r'\\d+'), what will numRegex.sub('X', '11 drummers, 10 pipers, five rings, 4 hen') return? \n",
    "\n",
    "Answer Below:\n",
    " \n",
    "\"\"\"\n",
    "\n",
    "numReg = re.compile(r'\\d+') \n",
    "\n",
    "numReg.sub('X', '11 drummers, 10 pipers, five rings, 4 hen') \n",
    "\n",
    " "
   ]
  },
  {
   "cell_type": "code",
   "execution_count": null,
   "id": "f16f8f87",
   "metadata": {},
   "outputs": [],
   "source": [
    "\"\"\"\n",
    "\n",
    "19. What does passing re.VERBOSE as the 2nd argument to re.compile() allow to do? \n",
    "\n",
    "Answer:\n",
    "\n",
    "Passing re.VERBOSE as a second arguement, \n",
    "\n",
    "let us write regex pattern by separating the logical pattern and adding comments for better understanding. \n",
    "\n",
    "\"\"\"\n",
    "\n"
   ]
  },
  {
   "cell_type": "code",
   "execution_count": 45,
   "id": "9d50304a",
   "metadata": {},
   "outputs": [
    {
     "name": "stdout",
     "output_type": "stream",
     "text": [
      "[\"'42','1,234','6,368,745'\"]\n"
     ]
    }
   ],
   "source": [
    "\"\"\"\n",
    "\n",
    "20. How would you write a regex that match a number with comma for every three digits? It must match the given following: \n",
    "\n",
    "'42' \n",
    "\n",
    "'1,234' \n",
    "\n",
    "'6,368,745' \n",
    "\n",
    "but not the following: \n",
    "\n",
    "'12,34,567' (which has only two digits between the commas) \n",
    "\n",
    "'1234' (which lacks commas) \n",
    "\n",
    "\"\"\"\n",
    "\n",
    "line20= \"'42','1,234','6,368,745','12,34,567','1234'\" \n",
    "\n",
    "line20_pattern=re.compile(r\"^'\\d{1,2}','\\d,\\d{3}','\\d,\\d{3},\\d{3}'\") \n",
    "\n",
    "print(line20_pattern.findall(line20))\n"
   ]
  },
  {
   "cell_type": "code",
   "execution_count": 46,
   "id": "5cb49025",
   "metadata": {},
   "outputs": [
    {
     "name": "stdout",
     "output_type": "stream",
     "text": [
      "[\"'Haruto Watanabe\", \"'Alice Watanabe\", \"'RoboCop Watanabe\"]\n"
     ]
    }
   ],
   "source": [
    "\"\"\"\n",
    "\n",
    "21. How would you write a regex that matches the full name of someone whose last name is Watanabe? You can assume that the first name that comes before it will always be one word that begins with a capital letter. The regex must match the following: \n",
    "\n",
    "'Haruto Watanabe' \n",
    "\n",
    "'Alice Watanabe' \n",
    "\n",
    "'RoboCop Watanabe' \n",
    "\n",
    "but not the following: \n",
    "\n",
    "'haruto Watanabe' (where the first name is not capitalized) \n",
    "\n",
    "'Mr. Watanabe' (where the preceding word has a nonletter character) \n",
    "\n",
    "'Watanabe' (which has no first name) \n",
    "\n",
    "'Haruto watanabe' (where Watanabe is not capitalized) \n",
    "\n",
    "Answer\n",
    "\n",
    "\"\"\"\n",
    "\n",
    "line21 = \"'Haruto Watanabe' ,'Alice Watanabe' ,'RoboCop Watanabe' ,'haruto Watanabe','Mr. Watanabe', 'Watanabe' 'Haruto watanabe'\" \n",
    "\n",
    "line21_pattern = re.compile(r\"'\\b[A-Z]\\w*\\s\\b[A-Z]\\w*\") \n",
    "\n",
    "print(line21_pattern.findall(line21))\n",
    " "
   ]
  },
  {
   "cell_type": "code",
   "execution_count": 47,
   "id": "28307e12",
   "metadata": {},
   "outputs": [
    {
     "name": "stdout",
     "output_type": "stream",
     "text": [
      "[('Alice', 'eats', 'apples'), ('Bob', 'pets', 'cats'), ('Carol', 'throws', 'baseballs'), ('Alice', 'throws', 'Apples'), ('BOB', 'EATS', 'CATS')]\n"
     ]
    }
   ],
   "source": [
    "\"\"\"\n",
    "\n",
    "22. How would you write a regex that matches a sentence where the first word is either Alice, Bob, or Carol; the second word is either eats, pets, or throws; the third word is apples, cats, or baseballs; and the sentence ends with a period? This regex should be case-insensitive. It must match the following: \n",
    "\n",
    "'Alice eats apples.' \n",
    "\n",
    "'Bob pets cats.' \n",
    "\n",
    "'Carol throws baseballs.' \n",
    "\n",
    "'Alice throws Apples.' \n",
    "\n",
    "'BOB EATS CATS.' \n",
    "\n",
    "but not the following: \n",
    "\n",
    "'RoboCop eats apples.' \n",
    "\n",
    "'ALICE THROWS FOOTBALLS.' \n",
    "\n",
    "'Carol eats 7 cats.' \n",
    "\n",
    "Answer:\n",
    "\n",
    "\"\"\"\n",
    "\n",
    "line22=\"'Alice eats apples.','Bob pets cats.','Carol throws baseballs.','Alice throws Apples.','BOB EATS CATS.','RoboCop eats apples.','ALICE THROWS FOOTBALLS.','Carol eats 7 cats.'\" \n",
    "\n",
    "line22_pattern=re.compile(r'(Alice|Bob|Carol)\\s(eats|pets|throws)\\s(apples|cats|baseballs)\\.',re.IGNORECASE) \n",
    "\n",
    "print(line22_pattern.findall(line22))\n",
    " "
   ]
  },
  {
   "cell_type": "code",
   "execution_count": null,
   "id": "b019ffcc",
   "metadata": {},
   "outputs": [],
   "source": []
  }
 ],
 "metadata": {
  "kernelspec": {
   "display_name": "Python 3 (ipykernel)",
   "language": "python",
   "name": "python3"
  },
  "language_info": {
   "codemirror_mode": {
    "name": "ipython",
    "version": 3
   },
   "file_extension": ".py",
   "mimetype": "text/x-python",
   "name": "python",
   "nbconvert_exporter": "python",
   "pygments_lexer": "ipython3",
   "version": "3.9.7"
  }
 },
 "nbformat": 4,
 "nbformat_minor": 5
}
