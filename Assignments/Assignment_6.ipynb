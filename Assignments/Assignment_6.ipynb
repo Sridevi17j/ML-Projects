{
 "cells": [
  {
   "cell_type": "code",
   "execution_count": null,
   "id": "584732bf",
   "metadata": {},
   "outputs": [],
   "source": [
    "\"\"\"\n",
    "1. What are escape characters, and how do you use them? \n",
    "\n",
    "Answer:\n",
    "\n",
    "To insert characters that are illegal in a string, We use an escape character.\n",
    "An escape character is a backslash \\ followed by the character you want to insert.\n",
    "\n",
    "Example:\n",
    "\n",
    "    \\n,\\t,\\r,\\\\,\\'   ....\n",
    "    \n",
    "    \\n - for new line\n",
    "    \\t - for tab \n",
    "    like this it goes\n",
    "\n",
    "\"\"\""
   ]
  },
  {
   "cell_type": "code",
   "execution_count": 26,
   "id": "30fa87bc",
   "metadata": {},
   "outputs": [
    {
     "name": "stdout",
     "output_type": "stream",
     "text": [
      "Hi\n",
      "How are you\n",
      "Nice meeting you\n",
      "Hi\tHow are you\tNice meeting you\n"
     ]
    }
   ],
   "source": [
    "\"\"\"\n",
    "\n",
    "2. What do the escape characters n and t stand for? \n",
    "\n",
    "Answer:\n",
    "\n",
    "n stands for new line\n",
    "t stands for tab\n",
    "\n",
    "Example:\n",
    "\n",
    "\"\"\"\n",
    "print(\"Hi\\nHow are you\\nNice meeting you\")\n",
    "print(\"Hi\\tHow are you\\tNice meeting you\")\n",
    "\n"
   ]
  },
  {
   "cell_type": "code",
   "execution_count": 27,
   "id": "cdd62f10",
   "metadata": {},
   "outputs": [
    {
     "name": "stdout",
     "output_type": "stream",
     "text": [
      "Including single \\  backslash\n",
      "Another way of Including single \\backslash\n"
     ]
    }
   ],
   "source": [
    "\"\"\"\n",
    "\n",
    "3. What is the way to include backslash characters in a string?  \n",
    "\n",
    "There are multiple ways. Check below.\n",
    "If we include double backslash then single backslash will be included. \n",
    "\n",
    "Example:\n",
    "\n",
    "\"\"\"\n",
    "\n",
    "s = \"Including single \\  backslash\"\n",
    "print(s)\n",
    "a = \"Another way of Including single \\\\backslash\"\n",
    "print(a)\n",
    "\n",
    "\n",
    "\n"
   ]
  },
  {
   "cell_type": "code",
   "execution_count": 28,
   "id": "08805dc9",
   "metadata": {},
   "outputs": [
    {
     "name": "stdout",
     "output_type": "stream",
     "text": [
      "Howl's Moving Castle\n",
      "Howl's Moving Castle\n"
     ]
    }
   ],
   "source": [
    "\"\"\"\n",
    "\n",
    "4. The string \"Howl's Moving Castle\" is a correct value. \n",
    "Why isn't the single quote character in the word Howl's not escaped a problem? \n",
    "\n",
    "Answer:\n",
    "\n",
    "Here we use single quote within double quotes, so it is not creating any problem\n",
    "Single quote is also treated as a character between double quotes. \n",
    "Single and double quotes are used together alternatively so that they can be distinguished \n",
    "\n",
    "If we want to use single quote within single quote we have to use \\, like below\n",
    "\n",
    "'Howl\\'s Moving Castle'\n",
    "\n",
    "\"\"\"\n",
    "\n",
    "print(\"Howl's Moving Castle\")\n",
    "print('Howl\\'s Moving Castle')"
   ]
  },
  {
   "cell_type": "code",
   "execution_count": 29,
   "id": "48ef3e84",
   "metadata": {},
   "outputs": [
    {
     "name": "stdout",
     "output_type": "stream",
     "text": [
      "*** First way of adding new lines without \\n ***\n",
      "This is the first line\n",
      "This is the second line\n",
      "*** Second way of adding new lines without \\n ***\n",
      " This string to explain\n",
      "adding new line without adding \\n\n",
      "so if we give three double quotes and \n",
      "print in this way, it will be printed as it is\n",
      "*** Third way of adding new lines without \\n ***\n",
      "This is the first line\n",
      "This is the second line\n"
     ]
    }
   ],
   "source": [
    "\"\"\"\n",
    "\n",
    "5. How do you write a string of newlines if you don't want to use the n character? \n",
    "\n",
    "we can write in below ways. \n",
    "\n",
    "\"\"\"\n",
    "\n",
    "###First Way (Using print statement one by one)\n",
    "\n",
    "str1= \"This is the first line\"\n",
    "str2= \"This is the second line\" \n",
    "\n",
    "print(\"*** First way of adding new lines without \\\\n ***\")\n",
    "print(str1)\n",
    "print(str2)\n",
    "\n",
    "### Second way (Using new lines within \"\"\")\n",
    "\n",
    "str3 = \"\"\" This string to explain\n",
    "adding new line without adding \\\\n\n",
    "so if we give three double quotes and \n",
    "print in this way, it will be printed as it is\"\"\"\n",
    "\n",
    "print(\"*** Second way of adding new lines without \\\\n ***\")\n",
    "print(str3)\n",
    "\n",
    "### Third way(Using os.linesep)\n",
    "\n",
    "import os\n",
    "print(\"*** Third way of adding new lines without \\\\n ***\")\n",
    "print(\"This is the first line\"+os.linesep+\"This is the second line\")\n"
   ]
  },
  {
   "cell_type": "code",
   "execution_count": 30,
   "id": "f6472062",
   "metadata": {},
   "outputs": [
    {
     "name": "stdout",
     "output_type": "stream",
     "text": [
      "e\n",
      "Hello\n",
      "Hello\n",
      "lo, world!\n"
     ]
    }
   ],
   "source": [
    "\"\"\"\n",
    "\n",
    "6. What are the values of the given expressions? \n",
    "\n",
    "'Hello, world!'[1]\n",
    "'Hello, world!'[0:5]\n",
    "'Hello, world!'[:5]\n",
    "'Hello, world!'[3:]\n",
    "\n",
    "\n",
    "Answer below:\n",
    "\n",
    "\"\"\"\n",
    "    \n",
    "print('Hello, world!'[1]) \n",
    "\n",
    "print('Hello, world!'[0:5]) \n",
    "\n",
    "print('Hello, world!'[:5]) \n",
    "\n",
    "print('Hello, world!'[3:])\n"
   ]
  },
  {
   "cell_type": "code",
   "execution_count": 31,
   "id": "e57a16ec",
   "metadata": {},
   "outputs": [
    {
     "name": "stdout",
     "output_type": "stream",
     "text": [
      "HELLO\n",
      "True\n",
      "hello\n"
     ]
    }
   ],
   "source": [
    "\"\"\"\n",
    "\n",
    "7. What are the values of the following expressions? \n",
    "\n",
    "'Hello'.upper()\n",
    "'Hello'.upper().isupper()\n",
    "'Hello'.upper().lower()\n",
    "\n",
    "Answer Below:\n",
    "\n",
    "\"\"\"\n",
    "\n",
    "print('Hello'.upper()) \n",
    "\n",
    "print('Hello'.upper().isupper()) \n",
    "\n",
    "print('Hello'.upper().lower())"
   ]
  },
  {
   "cell_type": "code",
   "execution_count": 32,
   "id": "996c0e6a",
   "metadata": {},
   "outputs": [
    {
     "name": "stdout",
     "output_type": "stream",
     "text": [
      "['Remember,', 'remember,', 'the', 'fifth', 'of', 'July.']\n",
      "There-can-only-one.\n"
     ]
    }
   ],
   "source": [
    "\"\"\"\n",
    "\n",
    "8. What are the values of the following expressions? \n",
    "\n",
    "\n",
    "'Remember, remember, the fifth of July.'.split() \n",
    "\n",
    "'-'.join('There can only one.'.split()) \n",
    "\n",
    "Answer Below:\n",
    "\n",
    "\"\"\"\n",
    "    \n",
    "print('Remember, remember, the fifth of July.'.split())\n",
    "\n",
    "print('-'.join('There can only one.'.split()))\n",
    "\n"
   ]
  },
  {
   "cell_type": "code",
   "execution_count": 33,
   "id": "ef761378",
   "metadata": {},
   "outputs": [
    {
     "name": "stdout",
     "output_type": "stream",
     "text": [
      "***********************************Hello\n",
      "Hello***********************************\n",
      "*****************Hello******************\n"
     ]
    }
   ],
   "source": [
    "\"\"\"\n",
    "\n",
    "9. What are the methods for right-justifying, left-justifying, and centering a string?\n",
    "\n",
    "These functions respectively right-justify, lef-justify and center a string in a field of given width. \n",
    "\n",
    "Methods are rjust(),ljust(),center()\n",
    "\n",
    "Syntax::: rjust(stringtobealtered,width,fillchar)\n",
    "\n",
    "Example:\n",
    "\n",
    "\"\"\"\n",
    "    \n",
    "str1 = \"Hello\"\n",
    "print(str.rjust(str1,40,'*'))\n",
    "print(str.ljust(str1,40,'*'))\n",
    "print(str.center(str1,40,'*'))\n",
    "\n",
    " "
   ]
  },
  {
   "cell_type": "code",
   "execution_count": 34,
   "id": "79da39d5",
   "metadata": {},
   "outputs": [
    {
     "name": "stdout",
     "output_type": "stream",
     "text": [
      "Machine Learning and Artificial Intelligence   \n",
      "     Machine Learning and Artificial Intelligence\n",
      "Machine Learning and Artificial Intelligence\n"
     ]
    }
   ],
   "source": [
    "\"\"\"\n",
    "\n",
    "10. What is the best way to remove whitespace characters from the start or end? \n",
    "\n",
    "strip() method used to remove whitespace from start or end.\n",
    "\n",
    "lstrip() method used to remove whitespace from start\n",
    "\n",
    "rstrip() method used to remove whitespace from end.\n",
    "\n",
    "If we want to remove all spaces in entire string, we can simply use string.replace(\" \",\"\")\n",
    "\n",
    "Example:\n",
    "\n",
    "\"\"\"\n",
    "\n",
    "str1 = \"     Machine Learning and Artificial Intelligence   \"\n",
    "print(str1.lstrip())\n",
    "print(str1.rstrip())\n",
    "print(str1.strip())\n",
    "\n",
    "\n"
   ]
  }
 ],
 "metadata": {
  "kernelspec": {
   "display_name": "Python 3 (ipykernel)",
   "language": "python",
   "name": "python3"
  },
  "language_info": {
   "codemirror_mode": {
    "name": "ipython",
    "version": 3
   },
   "file_extension": ".py",
   "mimetype": "text/x-python",
   "name": "python",
   "nbconvert_exporter": "python",
   "pygments_lexer": "ipython3",
   "version": "3.9.7"
  }
 },
 "nbformat": 4,
 "nbformat_minor": 5
}
