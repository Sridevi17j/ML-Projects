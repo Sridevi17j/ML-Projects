{
 "cells": [
  {
   "cell_type": "code",
   "execution_count": 21,
   "id": "943bdfcb",
   "metadata": {},
   "outputs": [],
   "source": [
    "#Assignment 2\n",
    "#1. Write a Python program to convert kilometers to miles?\n",
    "#2. Write a Python program to convert Celsius to Fahrenheit?\n",
    "#3. Write a Python program to display calendar?\n",
    "#4. Write a Python program to solve quadratic equation?\n",
    "#5. Write a Python program to swap two variables without temp variable?"
   ]
  },
  {
   "cell_type": "code",
   "execution_count": 28,
   "id": "6ff96d01",
   "metadata": {},
   "outputs": [
    {
     "name": "stdout",
     "output_type": "stream",
     "text": [
      "Enter kilometers: 5\n",
      "Miles:  3.107520198881293\n"
     ]
    }
   ],
   "source": [
    "#1. Write a Python program to convert kilometers to miles?\n",
    "km = float(input(\"Enter kilometers: \"))\n",
    "miles = km/1.609\n",
    "print(\"Miles: \", miles)"
   ]
  },
  {
   "cell_type": "code",
   "execution_count": 34,
   "id": "4e9a6c3c",
   "metadata": {},
   "outputs": [
    {
     "name": "stdout",
     "output_type": "stream",
     "text": [
      "Enter degree celsius: -40\n",
      "Degree Fahrenheit:  -40.0\n"
     ]
    }
   ],
   "source": [
    "#2. Write a Python program to convert Celsius to Fahrenheit?\n",
    "centi = float(input(\"Enter degree celsius: \"))\n",
    "fah = (centi * (9/5)) + 32\n",
    "print(\"Degree Fahrenheit: \", fah)"
   ]
  },
  {
   "cell_type": "code",
   "execution_count": 35,
   "id": "25367dfa",
   "metadata": {},
   "outputs": [
    {
     "name": "stdout",
     "output_type": "stream",
     "text": [
      "Enter month: 11\n",
      "Enter year: 2022\n",
      "   November 2022\n",
      "Mo Tu We Th Fr Sa Su\n",
      "    1  2  3  4  5  6\n",
      " 7  8  9 10 11 12 13\n",
      "14 15 16 17 18 19 20\n",
      "21 22 23 24 25 26 27\n",
      "28 29 30\n",
      "\n"
     ]
    }
   ],
   "source": [
    "#3. Write a Python program to display calendar?\n",
    "import calendar\n",
    "month = int(input(\"Enter month: \"))\n",
    "year = int(input(\"Enter year: \"))\n",
    "print(calendar.month(year, month))"
   ]
  },
  {
   "cell_type": "code",
   "execution_count": 42,
   "id": "cfe3b1d0",
   "metadata": {},
   "outputs": [
    {
     "name": "stdout",
     "output_type": "stream",
     "text": [
      "Enter value of a: 1\n",
      "Enter value of b: 2\n",
      "Enter value of c: 3\n",
      "Answer 1:  (-1-1.4142135623730951j)\n",
      "Answer 2:  (-1+1.4142135623730951j)\n"
     ]
    }
   ],
   "source": [
    "#4. Write a Python program to solve quadratic equation?\n",
    "import cmath  \n",
    "a = float(input('Enter value of a: '))  \n",
    "b = float(input('Enter value of b: '))  \n",
    "c = float(input('Enter value of c: '))  \n",
    "  \n",
    "d = (b**2)-(4*a*c)  \n",
    "  \n",
    "ans1 = (-b-cmath.sqrt(d))/(2*a)  \n",
    "ans2 = (-b+cmath.sqrt(d))/(2*a)  \n",
    "\n",
    "print(\"Answer 1: \", ans1)\n",
    "print(\"Answer 2: \", ans2)"
   ]
  },
  {
   "cell_type": "code",
   "execution_count": 47,
   "id": "0042da29",
   "metadata": {},
   "outputs": [
    {
     "name": "stdout",
     "output_type": "stream",
     "text": [
      "c =  20 , d =  10\n"
     ]
    }
   ],
   "source": [
    "#5. Write a Python program to swap two variables without temp variable?\n",
    "c = 10\n",
    "d = 20\n",
    "c,d = d,c\n",
    "print(\"c = \",c , \", d = \", d)"
   ]
  },
  {
   "cell_type": "code",
   "execution_count": null,
   "id": "5984c099",
   "metadata": {},
   "outputs": [],
   "source": []
  }
 ],
 "metadata": {
  "kernelspec": {
   "display_name": "Python 3 (ipykernel)",
   "language": "python",
   "name": "python3"
  },
  "language_info": {
   "codemirror_mode": {
    "name": "ipython",
    "version": 3
   },
   "file_extension": ".py",
   "mimetype": "text/x-python",
   "name": "python",
   "nbconvert_exporter": "python",
   "pygments_lexer": "ipython3",
   "version": "3.9.7"
  }
 },
 "nbformat": 4,
 "nbformat_minor": 5
}
