{
 "cells": [
  {
   "cell_type": "code",
   "execution_count": null,
   "id": "48c57db4",
   "metadata": {},
   "outputs": [],
   "source": [
    "\"\"\"\n",
    "\n",
    "1. What advantages do Excel spreadsheets have over CSV spreadsheets?\n",
    "\n",
    "Excel spreadsheets have built in feature for data manipulation, formatting, charts,and for calculations...\n",
    "\n",
    "CSV file is a simple file which stores values separated by comma.\n",
    "\n",
    "\"\"\""
   ]
  },
  {
   "cell_type": "code",
   "execution_count": 7,
   "id": "23a3b2e9",
   "metadata": {},
   "outputs": [
    {
     "name": "stdout",
     "output_type": "stream",
     "text": [
      "Reading 'covid-variants.csv':column names:\n",
      "\n",
      "ColumnNames are:\n",
      " ['location', 'date', 'variant', 'num_sequences', 'perc_sequences', 'num_sequences_total']\n",
      "\n",
      "Creating a NewCSVTestFile.csv and writing some data\n",
      "\n",
      "After writing the content of NewCSVTestFile.csv is:\n",
      "\n",
      "ColumnNames are:\n",
      " ['Name', 'Age', 'CovidTestResult']\n"
     ]
    }
   ],
   "source": [
    "\"\"\"\n",
    "\n",
    "2.What do you pass to csv.reader() and csv.writer() to create reader and writer objects?\n",
    "\n",
    "Answer:\n",
    "\n",
    "We can use like csv.readerder(csvfile), csv.writer(csvfile) this.\n",
    "\n",
    "Example:\n",
    "\n",
    "\"\"\"\n",
    "\n",
    "\n",
    "def loadmodules():\n",
    "    import csv \n",
    "    import os\n",
    "    os.chdir(\"/Users/mac/Downloads/\")\n",
    "def csvreadfun(filename):\n",
    "    loadmodules()\n",
    "    file1 = open(filename,'r')\n",
    "    file1_csvreadobj = csv.reader(file1)\n",
    "    csv_list=[]\n",
    "    for row in file1_csvreadobj:\n",
    "        csv_list.append(row)\n",
    "        break\n",
    "    print(\"ColumnNames are:\\n\",csv_list[0])\n",
    "    file1.close()\n",
    "def csvwritefun():\n",
    "    loadmodules()\n",
    "    file2 = open(\"NewCSVTestFile.csv\",'w')\n",
    "    csvwriter=csv.writer(file2)\n",
    "    columnname=['Name','Age','CovidTestResult']\n",
    "    rows=[['Adhi','23','positive'],\n",
    "         ['Badhri','45','Negative'],\n",
    "         ['Mahi','67','Positive']\n",
    "         ]\n",
    "    csvwriter.writerow(columnname)\n",
    "    csvwriter.writerows(rows)\n",
    "    file2.close()\n",
    "def main():\n",
    "    print(\"Reading 'covid-variants.csv':column names:\\n\")\n",
    "    csvreadfun('covid-variants.csv')\n",
    "    print(\"\\nCreating a NewCSVTestFile.csv and writing some data\\n\")\n",
    "    print(\"After writing the content of NewCSVTestFile.csv is:\\n\")\n",
    "    csvwritefun()\n",
    "    csvreadfun('NewCSVTestFile.csv')\n",
    "    \n",
    "    \n",
    "main()"
   ]
  },
  {
   "cell_type": "code",
   "execution_count": 2,
   "id": "cc81f092",
   "metadata": {},
   "outputs": [
    {
     "name": "stdout",
     "output_type": "stream",
     "text": [
      "reading existing csv file and column names are:\n",
      "\n",
      "['Sno', 'Date', 'State/UnionTerritory', 'ConfirmedIndianNational', 'ConfirmedForeignNational', 'Cured', 'Deaths', 'Confirmed']\n",
      "\n",
      " New CSV file created and written\n",
      "The column names are:\n",
      "\n",
      "['Name', 'Age']\n",
      "\n",
      "First row is:\n",
      "['Abi', '6']\n"
     ]
    }
   ],
   "source": [
    "\"\"\"\n",
    "\n",
    "3. What modes do File objects for reader and writer objects need to be opened in?\n",
    "\n",
    "Answer:\n",
    "\n",
    "For reading the file, the mode should be 'r', for writing the file the mode should be 'w'\n",
    "\n",
    "Example:\n",
    "\n",
    "\"\"\"\n",
    "    \n",
    "import os\n",
    "import csv\n",
    "os.chdir('/Users/mac/Downloads/')\n",
    "with open('covid_19_india.csv','r') as file3:\n",
    "    csvfilereader = csv.reader(file3)\n",
    "    columname=[]\n",
    "    for lines in csvfilereader:\n",
    "        columname.append(lines)\n",
    "    print(\"reading existing csv file and column names are:\\n\")\n",
    "    print(columname[0])\n",
    "with open(\"CSVTestFile2.csv\",'w') as file4:\n",
    "    csvfilewriter=csv.writer(file4)\n",
    "    columnname1=[]\n",
    "    title =['Name','Age']\n",
    "    fields = [['Abi','6'],['Aki','5']]\n",
    "    csvfilewriter.writerow(title)\n",
    "    csvfilewriter.writerows(fields)\n",
    "    file4.close()\n",
    "with open(\"CSVTestFile2.csv\",'r') as file5:\n",
    "    csvfilereader1=csv.reader(file5)\n",
    "    data=[]\n",
    "    for lines in csvfilereader1:\n",
    "        data.append(lines)\n",
    "    print(\"\\n New CSV file created and written\")\n",
    "    print(\"The column names are:\\n\")\n",
    "    print(data[0])\n",
    "    print(\"\\nFirst row is:\")\n",
    "    print(data[1])\n",
    "    file5.close()"
   ]
  },
  {
   "cell_type": "code",
   "execution_count": 9,
   "id": "6a2d0f41",
   "metadata": {},
   "outputs": [
    {
     "name": "stdout",
     "output_type": "stream",
     "text": [
      "Written a CSV file using writerow and writerows\n",
      "\n",
      "And their column name with rows are here:\n",
      "\n",
      "['name', 'area', 'country_code2', 'country_code3']\n",
      "['Albania', '28748', 'AL', 'ALB']\n",
      "['Algeria', '2381741', 'DZ', 'DZA']\n",
      "['American Samoa', '199', 'AS', 'ASM']\n"
     ]
    }
   ],
   "source": [
    "\"\"\"\n",
    "\n",
    "4. What method takes a list argument and writes it to a CSV file?\n",
    "\n",
    "Answer:\n",
    "\n",
    "writerow takes a single list argument(single row) and writes to CSV file.\n",
    "\n",
    "and writerows takes a multiple list as rows arguements and writes it to a CSV file.\n",
    "\n",
    "Example:\n",
    "\n",
    "\"\"\"\n",
    "\n",
    "def function4():\n",
    "    import os\n",
    "    import csv\n",
    "    os.chdir(\"/Users/mac/Downloads/\")\n",
    "    with open('NewTestCSVFile3.csv','w') as file6:\n",
    "        writerfile1= csv.writer(file6)\n",
    "        header=['name', 'area', 'country_code2', 'country_code3']\n",
    "        rows=[['Albania', 28748,'AL','ALB'],\n",
    "        ['Algeria',2381741,'DZ','DZA'],\n",
    "        ['American Samoa', 199,'AS','ASM']]\n",
    "        writerfile1.writerow(header)\n",
    "        writerfile1.writerows(rows)\n",
    "        file6.close()\n",
    "    with open('NewTestCSVFile3.csv','r') as file7:\n",
    "        filereader1= csv.reader(file7)\n",
    "        for lines in filereader1:\n",
    "            print(lines)\n",
    "\n",
    "def main():\n",
    "    print(\"Written a CSV file using writerow and writerows\\n\")\n",
    "    print(\"And their column name with rows are here:\\n\")\n",
    "    function4()\n",
    "    \n",
    "main()\n",
    "\n",
    "\n"
   ]
  },
  {
   "cell_type": "code",
   "execution_count": 10,
   "id": "38c14166",
   "metadata": {},
   "outputs": [
    {
     "name": "stdout",
     "output_type": "stream",
     "text": [
      "['Name|\"Quantity\"    \"Apple\"|\"5\"    \"Mango\"|\"7\"    \"Orange\"|\"10\"    ']\n"
     ]
    }
   ],
   "source": [
    "\"\"\"\n",
    "5. What do the keyword arguments delimiter and line terminator do?\n",
    "\n",
    "Answer:\n",
    "\n",
    "delimeter specifies which separates each field in a row. \n",
    "Line terminator separates each row.  \n",
    "\n",
    "Here in below example, i have given space as a line terminator and '|' as a delimeter. Please see the output.\n",
    "\n",
    "Example:\n",
    "\n",
    "\"\"\"\n",
    "\n",
    "\n",
    "import csv\n",
    "csv.register_dialect('customdialect',delimiter= '|',skipinitialspace=True,quoting=csv.QUOTE_NONNUMERIC,\n",
    "                      lineterminator='    ')\n",
    "with open('CSVTestFile12.csv','w') as file6:\n",
    "    CSVTestFile_writer= csv.writer(file6,dialect='customdialect')\n",
    "    header1=['Name','Quantity']\n",
    "    rows=[['Apple','5'],['Mango','7'],['Orange','10']]\n",
    "    CSVTestFile_writer.writerow(header1)\n",
    "    CSVTestFile_writer.writerows(rows)\n",
    "    file6.close()\n",
    "file7 = open('CSVTestFile12.csv','r')\n",
    "CSVTestFile_reader=csv.reader(file7)\n",
    "for lines in CSVTestFile_reader:\n",
    "    print(lines)\n",
    "\n"
   ]
  },
  {
   "cell_type": "code",
   "execution_count": 35,
   "id": "dccc4f37",
   "metadata": {},
   "outputs": [
    {
     "name": "stdout",
     "output_type": "stream",
     "text": [
      "Dump- Takes json input(Dict here), and converting to python object(here string)\n",
      "\n",
      "Type of x is <class 'dict'>\n",
      "After dump(x) function type of a is  <class 'str'>\n",
      "The values of a {\"Name\": \"Abi\", \"Age\": 7}\n"
     ]
    }
   ],
   "source": [
    "\"\"\"\n",
    "6. What function takes a string of JSON data and returns a Python data structure?\n",
    "\n",
    "Asnwer:\n",
    "\n",
    "json.dump() function takes  json input and returns a python object. \n",
    "\n",
    "json stores the data within {} and keys will always be string and values can be of anything.\n",
    "\n",
    "\n",
    "\"\"\"\n",
    "\n",
    "import json\n",
    "x = {'Name':'Abi', 'Age':7}\n",
    "a=json.dumps(x)\n",
    "print(\"Dump- Takes json input(Dict here), and converting to python object(here string)\\n\")\n",
    "print(\"Type of x is\",type(x))\n",
    "print(\"After dump(x) function type of a is \",type(a))\n",
    "print(\"The values of a\",a)\n",
    "\n"
   ]
  },
  {
   "cell_type": "code",
   "execution_count": 36,
   "id": "ad02d22f",
   "metadata": {},
   "outputs": [
    {
     "name": "stdout",
     "output_type": "stream",
     "text": [
      "Load function takes python object(str here) and converts to json(Dict in json)\n",
      "\n",
      "Type of x is : <class 'str'>\n",
      "Type of a(Now converted to json object) <class 'dict'>\n",
      "The values of json objects are: {'data': 'json', 'number': 2, 'type': 'Example'}\n"
     ]
    }
   ],
   "source": [
    "\"\"\"\n",
    "7. What function takes a Python data structure and returns a string of JSON data?\n",
    "\n",
    "Asnwer:\n",
    "\n",
    "json.load() function takes python object (string) and converts to JSON data. \n",
    "\n",
    "Example:\n",
    "\n",
    "\"\"\"\n",
    "    \n",
    "import json\n",
    "x = '{\"data\":\"json\",\"number\":2,\"type\":\"Example\"}'\n",
    "a = json.loads(x)\n",
    "print(\"Load function takes python object(str here) and converts to json(Dict in json)\\n\")\n",
    "print(\"Type of x is :\",type(x))\n",
    "print(\"Type of a(Now converted to json object)\",type(a))\n",
    "print(\"The values of json objects are:\",a)\n"
   ]
  },
  {
   "cell_type": "code",
   "execution_count": null,
   "id": "f96dc413",
   "metadata": {},
   "outputs": [],
   "source": []
  }
 ],
 "metadata": {
  "kernelspec": {
   "display_name": "Python 3 (ipykernel)",
   "language": "python",
   "name": "python3"
  },
  "language_info": {
   "codemirror_mode": {
    "name": "ipython",
    "version": 3
   },
   "file_extension": ".py",
   "mimetype": "text/x-python",
   "name": "python",
   "nbconvert_exporter": "python",
   "pygments_lexer": "ipython3",
   "version": "3.9.7"
  }
 },
 "nbformat": 4,
 "nbformat_minor": 5
}
