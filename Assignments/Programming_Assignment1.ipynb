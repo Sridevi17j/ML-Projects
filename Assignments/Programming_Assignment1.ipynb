{
 "cells": [
  {
   "cell_type": "code",
   "execution_count": 1,
   "id": "3b9e4abe",
   "metadata": {},
   "outputs": [],
   "source": [
    "#Assignment 1:\n",
    "#1. Write a Python program to print &quot;Hello Python&quot;?\n",
    "#2. Write a Python program to do arithmetical operations addition and division.?\n",
    "#3. Write a Python program to find the area of a triangle?\n",
    "#4. Write a Python program to swap two variables?\n",
    "#5. Write a Python program to generate a random number?"
   ]
  },
  {
   "cell_type": "code",
   "execution_count": 3,
   "id": "1d151352",
   "metadata": {},
   "outputs": [
    {
     "name": "stdout",
     "output_type": "stream",
     "text": [
      "Hello Python\n"
     ]
    }
   ],
   "source": [
    "#1. Write a Python program to print &quot;Hello Python&quot;?\n",
    "print(\"Hello Python\")"
   ]
  },
  {
   "cell_type": "code",
   "execution_count": 4,
   "id": "63a3816c",
   "metadata": {},
   "outputs": [
    {
     "name": "stdout",
     "output_type": "stream",
     "text": [
      "Addition:  35\n",
      "Division:  0.75\n"
     ]
    }
   ],
   "source": [
    "#2. Write a Python program to do arithmetical operations addition and division.?\n",
    "a = 15\n",
    "b = 20\n",
    "c = a + b\n",
    "d = a / b\n",
    "print(\"Addition: \", c)\n",
    "print(\"Division: \", d)"
   ]
  },
  {
   "cell_type": "code",
   "execution_count": 7,
   "id": "3c4d6b0b",
   "metadata": {},
   "outputs": [
    {
     "name": "stdout",
     "output_type": "stream",
     "text": [
      "Enter height: 10\n",
      "Enter base: 10\n",
      "Area of trianle is:  50.0\n"
     ]
    }
   ],
   "source": [
    "#3. Write a Python program to find the area of a triangle?\n",
    "hi = int(input(\"Enter height: \"))\n",
    "bs = int(input(\"Enter base: \"))\n",
    "area = (hi*bs)/2\n",
    "print(\"Area of trianle is: \", area)"
   ]
  },
  {
   "cell_type": "code",
   "execution_count": 46,
   "id": "71d9e64f",
   "metadata": {},
   "outputs": [
    {
     "name": "stdout",
     "output_type": "stream",
     "text": [
      "c =  25 , d =  10\n"
     ]
    }
   ],
   "source": [
    "#4. Write a Python program to swap two variables?\n",
    "c = 10\n",
    "d = 25\n",
    "e = c\n",
    "c = d\n",
    "d = e\n",
    "print(\"c = \",c , \", d = \", d)"
   ]
  },
  {
   "cell_type": "code",
   "execution_count": 20,
   "id": "ad83ab28",
   "metadata": {},
   "outputs": [
    {
     "name": "stdout",
     "output_type": "stream",
     "text": [
      "Random number:  83\n"
     ]
    }
   ],
   "source": [
    "#5. Write a Python program to generate a random number?\n",
    "import random\n",
    "n = random.randint(1,100)\n",
    "print(\"Random number: \", n)"
   ]
  },
  {
   "cell_type": "code",
   "execution_count": null,
   "id": "5984c099",
   "metadata": {},
   "outputs": [],
   "source": []
  }
 ],
 "metadata": {
  "kernelspec": {
   "display_name": "Python 3 (ipykernel)",
   "language": "python",
   "name": "python3"
  },
  "language_info": {
   "codemirror_mode": {
    "name": "ipython",
    "version": 3
   },
   "file_extension": ".py",
   "mimetype": "text/x-python",
   "name": "python",
   "nbconvert_exporter": "python",
   "pygments_lexer": "ipython3",
   "version": "3.9.7"
  }
 },
 "nbformat": 4,
 "nbformat_minor": 5
}
