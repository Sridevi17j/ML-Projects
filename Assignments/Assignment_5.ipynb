{
 "cells": [
  {
   "cell_type": "code",
   "execution_count": 116,
   "id": "9ffe9de1",
   "metadata": {},
   "outputs": [
    {
     "data": {
      "text/plain": [
       "dict"
      ]
     },
     "execution_count": 116,
     "metadata": {},
     "output_type": "execute_result"
    }
   ],
   "source": [
    "\"\"\"\n",
    "1. What does an empty dictionary's code look like? \n",
    "Answer : We can create empty dictionary using {} or dict() function\n",
    "\"\"\"\n",
    "a = {}\n",
    "type(a)\n",
    "b = dict()\n",
    "type(b)"
   ]
  },
  {
   "cell_type": "code",
   "execution_count": 117,
   "id": "c2cfde2e",
   "metadata": {},
   "outputs": [
    {
     "data": {
      "text/plain": [
       "{'foo': 42}"
      ]
     },
     "execution_count": 117,
     "metadata": {},
     "output_type": "execute_result"
    }
   ],
   "source": [
    "\"\"\"\n",
    "2. What is the value of a dictionary value with the key 'foo' and the value 42? \n",
    "\n",
    "\"\"\"\n",
    "temp_dict = {'foo':42}\n",
    "temp_dict"
   ]
  },
  {
   "cell_type": "code",
   "execution_count": 118,
   "id": "a5331f27",
   "metadata": {},
   "outputs": [
    {
     "name": "stdout",
     "output_type": "stream",
     "text": [
      "<class 'dict'>\n",
      "<class 'list'>\n"
     ]
    }
   ],
   "source": [
    "\"\"\"\n",
    "3. What is the most significant distinction between a dictionary and a list? \n",
    "\n",
    "Answer:\n",
    "\n",
    "list stores collection of data and data can be integers, tuples,dictionaries,strings..etc \n",
    "and list looks like []\n",
    "dictionaries store data in a form of key value pair\n",
    "dictionary looks like {}\n",
    "\n",
    "Example below\n",
    "\n",
    "\"\"\"\n",
    "\n",
    "a = {'name':'Sridevi','email id':'xyz@gmail.com','age':32}\n",
    "b = ['Sridevi','xyz@gmail.com',32]\n",
    "print(type(a))\n",
    "print(type(b))"
   ]
  },
  {
   "cell_type": "code",
   "execution_count": 119,
   "id": "ed112847",
   "metadata": {},
   "outputs": [
    {
     "ename": "KeyError",
     "evalue": "'foo'",
     "output_type": "error",
     "traceback": [
      "\u001b[0;31m---------------------------------------------------------------------------\u001b[0m",
      "\u001b[0;31mKeyError\u001b[0m                                  Traceback (most recent call last)",
      "\u001b[0;32m/var/folders/vm/9rqr0wpd07lg5xh3wk8xnr3w0000gn/T/ipykernel_586/802646929.py\u001b[0m in \u001b[0;36m<module>\u001b[0;34m\u001b[0m\n\u001b[1;32m      7\u001b[0m \u001b[0;34m\u001b[0m\u001b[0m\n\u001b[1;32m      8\u001b[0m \u001b[0mspam\u001b[0m \u001b[0;34m=\u001b[0m \u001b[0;34m{\u001b[0m\u001b[0;34m'bar'\u001b[0m\u001b[0;34m:\u001b[0m \u001b[0;36m100\u001b[0m\u001b[0;34m}\u001b[0m\u001b[0;34m\u001b[0m\u001b[0;34m\u001b[0m\u001b[0m\n\u001b[0;32m----> 9\u001b[0;31m \u001b[0mspam\u001b[0m\u001b[0;34m[\u001b[0m\u001b[0;34m'foo'\u001b[0m\u001b[0;34m]\u001b[0m\u001b[0;34m\u001b[0m\u001b[0;34m\u001b[0m\u001b[0m\n\u001b[0m",
      "\u001b[0;31mKeyError\u001b[0m: 'foo'"
     ]
    }
   ],
   "source": [
    "\"\"\"\n",
    "4. What happens if you try to access spam['foo'] if spam is {'bar': 100}? \n",
    "\n",
    "Answer: We get below key error as we dont have 'foo' key in spam.\n",
    "\n",
    "\"\"\"\n",
    "\n",
    "spam = {'bar': 100}\n",
    "spam['foo']\n"
   ]
  },
  {
   "cell_type": "code",
   "execution_count": 120,
   "id": "7bc39349",
   "metadata": {},
   "outputs": [
    {
     "name": "stdout",
     "output_type": "stream",
     "text": [
      "True\n",
      "True\n"
     ]
    }
   ],
   "source": [
    "\"\"\"\n",
    "5. If a dictionary is stored in spam, \n",
    "what is the difference between the expressions 'cat' in spam and 'cat' in spam.keys()? \n",
    "\n",
    "Answer : They both return true if cat is present in spam as a key\n",
    "\n",
    "Let us imagine we have a spam dictionary like below\n",
    "\n",
    "\"\"\"\n",
    "spam = {'cat':'pet',23:'newvalue'}\n",
    "print('cat' in spam)\n",
    "print('cat' in spam.keys())\n"
   ]
  },
  {
   "cell_type": "code",
   "execution_count": 121,
   "id": "714e387d",
   "metadata": {},
   "outputs": [
    {
     "name": "stdout",
     "output_type": "stream",
     "text": [
      "False\n",
      "True\n"
     ]
    }
   ],
   "source": [
    "\"\"\"\n",
    "6. If a dictionary is stored in spam, \n",
    "what is the difference between the expressions 'cat' in spam and 'cat' in spam.values()? \n",
    "\n",
    "Answer : 'cat' in spam returns false and 'cat' in spam.values() return True if cat in spam is stored as value\n",
    "\n",
    "Let us imagine we have a spam dictionary like below\n",
    "\n",
    "\"\"\"\n",
    "\n",
    "spam = {'animal':'cat',23:'newvalue'}\n",
    "print('cat' in spam)\n",
    "print('cat' in spam.values())\n",
    "\n"
   ]
  },
  {
   "cell_type": "code",
   "execution_count": 122,
   "id": "fdf6af34",
   "metadata": {},
   "outputs": [
    {
     "data": {
      "text/plain": [
       "{'animal': 'cat', 23: 'newvalue', 'color': 'black'}"
      ]
     },
     "execution_count": 122,
     "metadata": {},
     "output_type": "execute_result"
    }
   ],
   "source": [
    "\"\"\"\n",
    "7. What is a shortcut for the following code? \n",
    "\n",
    "if 'color' not in spam: \n",
    "spam['color'] = 'black' \n",
    "\n",
    "Answer: setdefault function we can use....\n",
    "\n",
    "\n",
    "\"\"\"\n",
    "\n",
    "spam.setdefault('color','black')\n",
    "spam"
   ]
  },
  {
   "cell_type": "code",
   "execution_count": 123,
   "id": "477fed9b",
   "metadata": {},
   "outputs": [
    {
     "name": "stdout",
     "output_type": "stream",
     "text": [
      "{'details1': {'Name': 'Temp_Name1', 'Place': 'Temp_Place1', 'id': 234},\n",
      " 'details2': {'Name': 'Temp_Name2', 'Place': 'Temp_Place2', 'id': 235}}\n"
     ]
    }
   ],
   "source": [
    "\"\"\"\n",
    "\n",
    "8. How do you \"pretty print\" dictionary values using which module and function?\n",
    "\n",
    "Answer:\n",
    "pretty print module is pprint and function is pprint\n",
    "So we use like pprint.pprint(dict_name)\n",
    "\n",
    "\"\"\"\n",
    "\n",
    "import pprint\n",
    "temp_dict1 = {'details1':{'Name': 'Temp_Name1','id':234, 'Place':'Temp_Place1'},'details2':{'Name': 'Temp_Name2','id':235, 'Place':'Temp_Place2'} }\n",
    "pprint.pprint(temp_dict1)\n",
    "\n"
   ]
  },
  {
   "cell_type": "code",
   "execution_count": null,
   "id": "74bcf182",
   "metadata": {},
   "outputs": [],
   "source": []
  }
 ],
 "metadata": {
  "kernelspec": {
   "display_name": "Python 3 (ipykernel)",
   "language": "python",
   "name": "python3"
  },
  "language_info": {
   "codemirror_mode": {
    "name": "ipython",
    "version": 3
   },
   "file_extension": ".py",
   "mimetype": "text/x-python",
   "name": "python",
   "nbconvert_exporter": "python",
   "pygments_lexer": "ipython3",
   "version": "3.9.7"
  }
 },
 "nbformat": 4,
 "nbformat_minor": 5
}
