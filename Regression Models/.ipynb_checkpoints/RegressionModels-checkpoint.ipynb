{
 "cells": [
  {
   "cell_type": "markdown",
   "id": "3f3c12f2",
   "metadata": {},
   "source": [
    "## World Population Calculation - using Decision Tree/ Random Forest/ Linear Regression"
   ]
  },
  {
   "cell_type": "markdown",
   "id": "8693aa92",
   "metadata": {},
   "source": [
    "## Trying Decision Tree Regression First"
   ]
  },
  {
   "cell_type": "code",
   "execution_count": 277,
   "id": "9127e9e5",
   "metadata": {},
   "outputs": [],
   "source": [
    "### Import Libraries\n",
    "import pandas as pd"
   ]
  },
  {
   "cell_type": "code",
   "execution_count": 278,
   "id": "ddde9c7b",
   "metadata": {},
   "outputs": [],
   "source": [
    "### Reading the CSV\n",
    "T1=pd.read_csv(\"population 2.csv\")"
   ]
  },
  {
   "cell_type": "code",
   "execution_count": 279,
   "id": "800bffc9",
   "metadata": {},
   "outputs": [
    {
     "data": {
      "text/plain": [
       "(24, 13)"
      ]
     },
     "execution_count": 279,
     "metadata": {},
     "output_type": "execute_result"
    }
   ],
   "source": [
    "### Checking no of rows and columns\n",
    "T1.shape"
   ]
  },
  {
   "cell_type": "code",
   "execution_count": 280,
   "id": "f86c9f43",
   "metadata": {},
   "outputs": [
    {
     "data": {
      "text/html": [
       "<div>\n",
       "<style scoped>\n",
       "    .dataframe tbody tr th:only-of-type {\n",
       "        vertical-align: middle;\n",
       "    }\n",
       "\n",
       "    .dataframe tbody tr th {\n",
       "        vertical-align: top;\n",
       "    }\n",
       "\n",
       "    .dataframe thead th {\n",
       "        text-align: right;\n",
       "    }\n",
       "</style>\n",
       "<table border=\"1\" class=\"dataframe\">\n",
       "  <thead>\n",
       "    <tr style=\"text-align: right;\">\n",
       "      <th></th>\n",
       "      <th>Year</th>\n",
       "      <th>Yearly % \\nChange</th>\n",
       "      <th>Yearly\\nChange</th>\n",
       "      <th>Migrants (net)</th>\n",
       "      <th>Median Age</th>\n",
       "      <th>Fertility Rate</th>\n",
       "      <th>Density (P/Km²)</th>\n",
       "      <th>Urban\\nPop %</th>\n",
       "      <th>Urban Population</th>\n",
       "      <th>Country's Share of\\nWorld Pop</th>\n",
       "      <th>World Population</th>\n",
       "      <th>India\\nGlobal Rank</th>\n",
       "      <th>Population</th>\n",
       "    </tr>\n",
       "  </thead>\n",
       "  <tbody>\n",
       "    <tr>\n",
       "      <th>0</th>\n",
       "      <td>2050</td>\n",
       "      <td>0.23</td>\n",
       "      <td>3711367</td>\n",
       "      <td>NaN</td>\n",
       "      <td>38.1</td>\n",
       "      <td>2.24</td>\n",
       "      <td>551</td>\n",
       "      <td>53.5</td>\n",
       "      <td>876613025</td>\n",
       "      <td>16.84</td>\n",
       "      <td>9735033990</td>\n",
       "      <td>1</td>\n",
       "      <td>1639176033</td>\n",
       "    </tr>\n",
       "    <tr>\n",
       "      <th>1</th>\n",
       "      <td>2045</td>\n",
       "      <td>0.35</td>\n",
       "      <td>5585537</td>\n",
       "      <td>-414772.0</td>\n",
       "      <td>36.6</td>\n",
       "      <td>2.24</td>\n",
       "      <td>545</td>\n",
       "      <td>50.1</td>\n",
       "      <td>811749463</td>\n",
       "      <td>17.09</td>\n",
       "      <td>9481803274</td>\n",
       "      <td>1</td>\n",
       "      <td>1620619200</td>\n",
       "    </tr>\n",
       "    <tr>\n",
       "      <th>2</th>\n",
       "      <td>2040</td>\n",
       "      <td>0.50</td>\n",
       "      <td>7793541</td>\n",
       "      <td>-415736.0</td>\n",
       "      <td>35.0</td>\n",
       "      <td>2.24</td>\n",
       "      <td>536</td>\n",
       "      <td>46.7</td>\n",
       "      <td>744380367</td>\n",
       "      <td>17.31</td>\n",
       "      <td>9198847240</td>\n",
       "      <td>1</td>\n",
       "      <td>1592691513</td>\n",
       "    </tr>\n",
       "    <tr>\n",
       "      <th>3</th>\n",
       "      <td>2035</td>\n",
       "      <td>0.66</td>\n",
       "      <td>10016298</td>\n",
       "      <td>-415732.0</td>\n",
       "      <td>33.3</td>\n",
       "      <td>2.24</td>\n",
       "      <td>523</td>\n",
       "      <td>43.5</td>\n",
       "      <td>675456367</td>\n",
       "      <td>17.48</td>\n",
       "      <td>8887524213</td>\n",
       "      <td>1</td>\n",
       "      <td>1553723810</td>\n",
       "    </tr>\n",
       "    <tr>\n",
       "      <th>4</th>\n",
       "      <td>2030</td>\n",
       "      <td>0.80</td>\n",
       "      <td>11726140</td>\n",
       "      <td>-440124.0</td>\n",
       "      <td>31.7</td>\n",
       "      <td>2.24</td>\n",
       "      <td>506</td>\n",
       "      <td>40.4</td>\n",
       "      <td>607341981</td>\n",
       "      <td>17.59</td>\n",
       "      <td>8548487400</td>\n",
       "      <td>1</td>\n",
       "      <td>1503642322</td>\n",
       "    </tr>\n",
       "  </tbody>\n",
       "</table>\n",
       "</div>"
      ],
      "text/plain": [
       "   Year  Yearly % \\nChange  Yearly\\nChange  Migrants (net)  Median Age  \\\n",
       "0  2050               0.23         3711367             NaN        38.1   \n",
       "1  2045               0.35         5585537       -414772.0        36.6   \n",
       "2  2040               0.50         7793541       -415736.0        35.0   \n",
       "3  2035               0.66        10016298       -415732.0        33.3   \n",
       "4  2030               0.80        11726140       -440124.0        31.7   \n",
       "\n",
       "   Fertility Rate  Density (P/Km²)  Urban\\nPop %  Urban Population  \\\n",
       "0            2.24              551          53.5         876613025   \n",
       "1            2.24              545          50.1         811749463   \n",
       "2            2.24              536          46.7         744380367   \n",
       "3            2.24              523          43.5         675456367   \n",
       "4            2.24              506          40.4         607341981   \n",
       "\n",
       "   Country's Share of\\nWorld Pop World Population  India\\nGlobal Rank  \\\n",
       "0                          16.84       9735033990                   1   \n",
       "1                          17.09       9481803274                   1   \n",
       "2                          17.31       9198847240                   1   \n",
       "3                          17.48       8887524213                   1   \n",
       "4                          17.59       8548487400                   1   \n",
       "\n",
       "   Population  \n",
       "0  1639176033  \n",
       "1  1620619200  \n",
       "2  1592691513  \n",
       "3  1553723810  \n",
       "4  1503642322  "
      ]
     },
     "execution_count": 280,
     "metadata": {},
     "output_type": "execute_result"
    }
   ],
   "source": [
    "### Checking the Data\n",
    "T1.head()"
   ]
  },
  {
   "cell_type": "code",
   "execution_count": 281,
   "id": "142f0d70",
   "metadata": {},
   "outputs": [],
   "source": [
    "### Correlation Matrix\n",
    "cor=T1.corr()"
   ]
  },
  {
   "cell_type": "code",
   "execution_count": 327,
   "id": "62f8e106",
   "metadata": {},
   "outputs": [],
   "source": [
    "### Importing libraries for visualization\n",
    "import matplotlib.pyplot as mlt\n",
    "import seaborn as sns"
   ]
  },
  {
   "cell_type": "code",
   "execution_count": 283,
   "id": "f1ed1392",
   "metadata": {},
   "outputs": [
    {
     "data": {
      "text/plain": [
       "<AxesSubplot:>"
      ]
     },
     "execution_count": 283,
     "metadata": {},
     "output_type": "execute_result"
    },
    {
     "data": {
      "image/png": "[encoded data removed]",
      "text/plain": [
       "<Figure size 432x288 with 2 Axes>"
      ]
     },
     "metadata": {
      "needs_background": "light"
     },
     "output_type": "display_data"
    }
   ],
   "source": [
    "### Correlation Graph\n",
    "sns.heatmap(cor,annot=True,cmap=mlt.cm.CMRmap_r)"
   ]
  },
  {
   "cell_type": "code",
   "execution_count": 284,
   "id": "e5bec8bd",
   "metadata": {},
   "outputs": [],
   "source": [
    "### Function defining for extracting correlated features (Source Code from : Krish Naik's ML Playlist)\n",
    "def correlation(dataset, threshold):\n",
    "    col_corr=set()\n",
    "    corr_matrix = dataset.corr()\n",
    "    for i in range(len(corr_matrix.columns)):\n",
    "        for j in range(i):\n",
    "            if abs(corr_matrix.iloc[i,j]) > threshold:\n",
    "               colname=corr_matrix.columns[i]\n",
    "               col_corr.add(colname)\n",
    "    return col_corr\n",
    "        \n",
    "    "
   ]
  },
  {
   "cell_type": "code",
   "execution_count": 285,
   "id": "c1910cc4",
   "metadata": {},
   "outputs": [],
   "source": [
    "### Calling the function to extract variables to be removed ( If two variables are highly correlated, it retains only one and extract the other one)\n",
    "cor_features=correlation(T1,0.8)"
   ]
  },
  {
   "cell_type": "code",
   "execution_count": 286,
   "id": "8102956d",
   "metadata": {},
   "outputs": [
    {
     "data": {
      "text/plain": [
       "10"
      ]
     },
     "execution_count": 286,
     "metadata": {},
     "output_type": "execute_result"
    }
   ],
   "source": [
    "### Checking tge length\n",
    "len(cor_features)"
   ]
  },
  {
   "cell_type": "code",
   "execution_count": 287,
   "id": "eaefb89f",
   "metadata": {},
   "outputs": [
    {
     "data": {
      "text/plain": [
       "{\"Country's Share of\\nWorld Pop\",\n",
       " 'Density (P/Km²)',\n",
       " 'Fertility Rate',\n",
       " 'India\\nGlobal Rank',\n",
       " 'Median Age',\n",
       " 'Migrants (net)',\n",
       " 'Population',\n",
       " 'Urban\\nPop %',\n",
       " 'Urban Population',\n",
       " 'Yearly % \\nChange'}"
      ]
     },
     "execution_count": 287,
     "metadata": {},
     "output_type": "execute_result"
    }
   ],
   "source": [
    "### Checking out Correlated Variables\n",
    "cor_features"
   ]
  },
  {
   "cell_type": "code",
   "execution_count": 288,
   "id": "e08e6133",
   "metadata": {},
   "outputs": [],
   "source": [
    "### Dropping out correlated variables \n",
    "T2=T1.drop(cor_features,axis=1)"
   ]
  },
  {
   "cell_type": "code",
   "execution_count": 289,
   "id": "f697af53",
   "metadata": {},
   "outputs": [
    {
     "data": {
      "text/html": [
       "<div>\n",
       "<style scoped>\n",
       "    .dataframe tbody tr th:only-of-type {\n",
       "        vertical-align: middle;\n",
       "    }\n",
       "\n",
       "    .dataframe tbody tr th {\n",
       "        vertical-align: top;\n",
       "    }\n",
       "\n",
       "    .dataframe thead th {\n",
       "        text-align: right;\n",
       "    }\n",
       "</style>\n",
       "<table border=\"1\" class=\"dataframe\">\n",
       "  <thead>\n",
       "    <tr style=\"text-align: right;\">\n",
       "      <th></th>\n",
       "      <th>Year</th>\n",
       "      <th>Yearly\\nChange</th>\n",
       "      <th>World Population</th>\n",
       "    </tr>\n",
       "  </thead>\n",
       "  <tbody>\n",
       "    <tr>\n",
       "      <th>0</th>\n",
       "      <td>2050</td>\n",
       "      <td>3711367</td>\n",
       "      <td>9735033990</td>\n",
       "    </tr>\n",
       "    <tr>\n",
       "      <th>1</th>\n",
       "      <td>2045</td>\n",
       "      <td>5585537</td>\n",
       "      <td>9481803274</td>\n",
       "    </tr>\n",
       "    <tr>\n",
       "      <th>2</th>\n",
       "      <td>2040</td>\n",
       "      <td>7793541</td>\n",
       "      <td>9198847240</td>\n",
       "    </tr>\n",
       "    <tr>\n",
       "      <th>3</th>\n",
       "      <td>2035</td>\n",
       "      <td>10016298</td>\n",
       "      <td>8887524213</td>\n",
       "    </tr>\n",
       "    <tr>\n",
       "      <th>4</th>\n",
       "      <td>2030</td>\n",
       "      <td>11726140</td>\n",
       "      <td>8548487400</td>\n",
       "    </tr>\n",
       "  </tbody>\n",
       "</table>\n",
       "</div>"
      ],
      "text/plain": [
       "   Year  Yearly\\nChange World Population\n",
       "0  2050         3711367       9735033990\n",
       "1  2045         5585537       9481803274\n",
       "2  2040         7793541       9198847240\n",
       "3  2035        10016298       8887524213\n",
       "4  2030        11726140       8548487400"
      ]
     },
     "execution_count": 289,
     "metadata": {},
     "output_type": "execute_result"
    }
   ],
   "source": [
    "### Final Dataset\n",
    "T2.head()"
   ]
  },
  {
   "cell_type": "code",
   "execution_count": 290,
   "id": "487f73b1",
   "metadata": {},
   "outputs": [
    {
     "data": {
      "text/html": [
       "<div>\n",
       "<style scoped>\n",
       "    .dataframe tbody tr th:only-of-type {\n",
       "        vertical-align: middle;\n",
       "    }\n",
       "\n",
       "    .dataframe tbody tr th {\n",
       "        vertical-align: top;\n",
       "    }\n",
       "\n",
       "    .dataframe thead th {\n",
       "        text-align: right;\n",
       "    }\n",
       "</style>\n",
       "<table border=\"1\" class=\"dataframe\">\n",
       "  <thead>\n",
       "    <tr style=\"text-align: right;\">\n",
       "      <th></th>\n",
       "      <th>Year</th>\n",
       "      <th>Yearly\\nChange</th>\n",
       "      <th>World Population</th>\n",
       "    </tr>\n",
       "  </thead>\n",
       "  <tbody>\n",
       "    <tr>\n",
       "      <th>23</th>\n",
       "      <td>1955</td>\n",
       "      <td>6711079</td>\n",
       "      <td>2,77,30,19,936</td>\n",
       "    </tr>\n",
       "  </tbody>\n",
       "</table>\n",
       "</div>"
      ],
      "text/plain": [
       "    Year  Yearly\\nChange World Population\n",
       "23  1955         6711079   2,77,30,19,936"
      ]
     },
     "execution_count": 290,
     "metadata": {},
     "output_type": "execute_result"
    }
   ],
   "source": [
    "### Checking one value in a column (Instead of this value 2773019936, it was mentioned 2,77,30,19,936. in the dataset)\n",
    "T2[T2['World Population'].str.contains(r'2,77(?!$)')] "
   ]
  },
  {
   "cell_type": "code",
   "execution_count": 291,
   "id": "6bb22b94",
   "metadata": {},
   "outputs": [],
   "source": [
    "### Replacing a value with the right one\n",
    "T2['World Population']= T2['World Population'].str.replace(\"2,77,30,19,936\",\"2773019936\")"
   ]
  },
  {
   "cell_type": "code",
   "execution_count": 292,
   "id": "4c0236c6",
   "metadata": {},
   "outputs": [],
   "source": [
    "### Changing the Datatypes As fit function will not accept string values in regression\n",
    "T2['Year']=T2['Year'].astype(float)\n",
    "T2['Yearly\\nChange']=T2['Yearly\\nChange'].astype(float)\n",
    "T2['World Population']=T2['World Population'].astype(float)"
   ]
  },
  {
   "cell_type": "code",
   "execution_count": 293,
   "id": "0a255d92",
   "metadata": {},
   "outputs": [],
   "source": [
    "### Loading Libraries for Decision Tree \n",
    "from sklearn.tree import DecisionTreeRegressor\n",
    "from sklearn.model_selection import train_test_split\n",
    "from sklearn.metrics import accuracy_score"
   ]
  },
  {
   "cell_type": "code",
   "execution_count": 294,
   "id": "2748f631",
   "metadata": {},
   "outputs": [],
   "source": [
    "### Train and Test Split\n",
    "x= T2.values[:,0:2]\n",
    "y=T2.values[:,2]\n",
    "x_train,y_train,x_test,y_test= train_test_split(x,y,test_size=0.2)"
   ]
  },
  {
   "cell_type": "code",
   "execution_count": 295,
   "id": "aa81916a",
   "metadata": {},
   "outputs": [
    {
     "data": {
      "text/plain": [
       "(19, 2)"
      ]
     },
     "execution_count": 295,
     "metadata": {},
     "output_type": "execute_result"
    }
   ],
   "source": [
    "### Checking the no of rows and columns in the numpy array of train and test after split\n",
    "x_train.shape"
   ]
  },
  {
   "cell_type": "code",
   "execution_count": 296,
   "id": "1a7b10ae",
   "metadata": {},
   "outputs": [
    {
     "data": {
      "text/plain": [
       "(19,)"
      ]
     },
     "execution_count": 296,
     "metadata": {},
     "output_type": "execute_result"
    }
   ],
   "source": [
    "x_test.shape"
   ]
  },
  {
   "cell_type": "code",
   "execution_count": 297,
   "id": "26a6c11c",
   "metadata": {},
   "outputs": [
    {
     "data": {
      "text/plain": [
       "(5, 2)"
      ]
     },
     "execution_count": 297,
     "metadata": {},
     "output_type": "execute_result"
    }
   ],
   "source": [
    "y_train.shape"
   ]
  },
  {
   "cell_type": "code",
   "execution_count": 298,
   "id": "095e158c",
   "metadata": {},
   "outputs": [
    {
     "data": {
      "text/plain": [
       "(5,)"
      ]
     },
     "execution_count": 298,
     "metadata": {},
     "output_type": "execute_result"
    }
   ],
   "source": [
    "y_test.shape"
   ]
  },
  {
   "cell_type": "code",
   "execution_count": 299,
   "id": "8d42a0c2",
   "metadata": {},
   "outputs": [],
   "source": [
    "### Loading Numpy Library for MAPE Function\n",
    "import numpy as np"
   ]
  },
  {
   "cell_type": "code",
   "execution_count": 300,
   "id": "21f87801",
   "metadata": {},
   "outputs": [],
   "source": [
    "### Decision Tree Regression Model\n",
    "clfr = DecisionTreeRegressor(max_depth=2).fit(x_train,x_test)"
   ]
  },
  {
   "cell_type": "code",
   "execution_count": 301,
   "id": "9c8d04b5",
   "metadata": {},
   "outputs": [],
   "source": [
    "### Prediction for Test Values\n",
    "Predictions=clfr.predict(y_train)"
   ]
  },
  {
   "cell_type": "code",
   "execution_count": 302,
   "id": "08851854",
   "metadata": {},
   "outputs": [],
   "source": [
    "### Defining MAPE\n",
    "def MAPE(truevalues,predictions):\n",
    "    mape = np.mean(np.abs((test.iloc[:,2] - Predictions)/ test.iloc[:,2]))\n",
    "    return mape"
   ]
  },
  {
   "cell_type": "code",
   "execution_count": 303,
   "id": "c65be255",
   "metadata": {},
   "outputs": [
    {
     "data": {
      "text/plain": [
       "40.45311774943887"
      ]
     },
     "execution_count": 303,
     "metadata": {},
     "output_type": "execute_result"
    }
   ],
   "source": [
    "### Calculating Accuracy using MAPE\n",
    "MAPE(y_test,Predictions)*100"
   ]
  },
  {
   "cell_type": "code",
   "execution_count": 304,
   "id": "ed3924ba",
   "metadata": {},
   "outputs": [],
   "source": [
    "### Changing train and test samples to improve some accuracy"
   ]
  },
  {
   "cell_type": "code",
   "execution_count": 305,
   "id": "e5cf97b8",
   "metadata": {},
   "outputs": [],
   "source": [
    "x,y = train_test_split(T2,test_size=0.2)"
   ]
  },
  {
   "cell_type": "code",
   "execution_count": 306,
   "id": "0a6b5ac5",
   "metadata": {},
   "outputs": [],
   "source": [
    "clfr1 = DecisionTreeRegressor(max_depth=2).fit(x.iloc[:,0:2],x.iloc[:,2])"
   ]
  },
  {
   "cell_type": "code",
   "execution_count": 307,
   "id": "d7323147",
   "metadata": {},
   "outputs": [],
   "source": [
    "Predictions1 = clfr1.predict(y.iloc[:,0:2])"
   ]
  },
  {
   "cell_type": "code",
   "execution_count": null,
   "id": "e17617d7",
   "metadata": {},
   "outputs": [],
   "source": [
    "### Calculating Accuracy"
   ]
  },
  {
   "cell_type": "code",
   "execution_count": 308,
   "id": "958d8466",
   "metadata": {},
   "outputs": [
    {
     "data": {
      "text/plain": [
       "40.45311774943887"
      ]
     },
     "execution_count": 308,
     "metadata": {},
     "output_type": "execute_result"
    }
   ],
   "source": [
    "MAPE(y.iloc[:,2],Predictions1)*100"
   ]
  },
  {
   "cell_type": "markdown",
   "id": "99cd141c",
   "metadata": {},
   "source": [
    "## Trying Random Forest Regression as Decision Tree Regression accuracy is low"
   ]
  },
  {
   "cell_type": "code",
   "execution_count": 309,
   "id": "d9769c80",
   "metadata": {},
   "outputs": [],
   "source": [
    "### Import Library\n",
    "from sklearn.ensemble import RandomForestRegressor"
   ]
  },
  {
   "cell_type": "code",
   "execution_count": 310,
   "id": "a8650a19",
   "metadata": {},
   "outputs": [],
   "source": [
    "### Build Random Forest\n",
    "clfr_RF = RandomForestRegressor(n_estimators=100).fit(x_train,x_test)"
   ]
  },
  {
   "cell_type": "code",
   "execution_count": 311,
   "id": "5459857f",
   "metadata": {},
   "outputs": [],
   "source": [
    "### Predict Test Cases\n",
    "RF_Predictions=clfr_RF.predict(y_train)"
   ]
  },
  {
   "cell_type": "code",
   "execution_count": 312,
   "id": "0b96eb7e",
   "metadata": {},
   "outputs": [
    {
     "data": {
      "text/plain": [
       "40.45311774943887"
      ]
     },
     "execution_count": 312,
     "metadata": {},
     "output_type": "execute_result"
    }
   ],
   "source": [
    "### Calculate Accuracy\n",
    "MAPE(y_test,RF_Predictions)*100"
   ]
  },
  {
   "cell_type": "code",
   "execution_count": 313,
   "id": "6f252f72",
   "metadata": {},
   "outputs": [],
   "source": [
    "### Changing the train and test split- DIfferent samples to improve some accuracy "
   ]
  },
  {
   "cell_type": "code",
   "execution_count": 314,
   "id": "e4e682f4",
   "metadata": {},
   "outputs": [],
   "source": [
    "x,y = train_test_split(T2,test_size=0.2)"
   ]
  },
  {
   "cell_type": "code",
   "execution_count": 315,
   "id": "9396fd69",
   "metadata": {},
   "outputs": [],
   "source": [
    "clfr_RF1 = RandomForestRegressor(n_estimators=100).fit(x.iloc[:,0:2],x.iloc[:,2])"
   ]
  },
  {
   "cell_type": "code",
   "execution_count": 316,
   "id": "241ba89e",
   "metadata": {},
   "outputs": [],
   "source": [
    "RF_Predictions1 = clfr_RF1.predict(y.iloc[:,0:2])"
   ]
  },
  {
   "cell_type": "code",
   "execution_count": null,
   "id": "76cc1df2",
   "metadata": {},
   "outputs": [],
   "source": [
    "### Calculating Accuracy"
   ]
  },
  {
   "cell_type": "code",
   "execution_count": 317,
   "id": "2b408e9e",
   "metadata": {},
   "outputs": [
    {
     "data": {
      "text/plain": [
       "40.45311774943887"
      ]
     },
     "execution_count": 317,
     "metadata": {},
     "output_type": "execute_result"
    }
   ],
   "source": [
    "MAPE(y.iloc[:,2],RF_Predictions1)*100"
   ]
  },
  {
   "cell_type": "markdown",
   "id": "c44f964f",
   "metadata": {},
   "source": [
    "## Trying Linear Regression As DecisionTree and RandomForest giving same low accuracy "
   ]
  },
  {
   "cell_type": "code",
   "execution_count": 336,
   "id": "b5cde906",
   "metadata": {},
   "outputs": [],
   "source": [
    "### Import Library\n",
    "import statsmodels.api as sm"
   ]
  },
  {
   "cell_type": "markdown",
   "id": "51132854",
   "metadata": {},
   "source": [
    "## Scatter Plot between Target Variable(World Population) and Independent Variable(Yearly Change)"
   ]
  },
  {
   "cell_type": "code",
   "execution_count": 331,
   "id": "3b06d7aa",
   "metadata": {},
   "outputs": [
    {
     "data": {
      "text/plain": [
       "<matplotlib.collections.PathCollection at 0x129fcd490>"
      ]
     },
     "execution_count": 331,
     "metadata": {},
     "output_type": "execute_result"
    },
    {
     "data": {
      "image/png": "[encoded data removed]",
      "text/plain": [
       "<Figure size 864x576 with 1 Axes>"
      ]
     },
     "metadata": {
      "needs_background": "light"
     },
     "output_type": "display_data"
    }
   ],
   "source": [
    "mlt.scatter(T2['Yearly\\nChange'],T2['World Population'])"
   ]
  },
  {
   "cell_type": "markdown",
   "id": "39bdc4a8",
   "metadata": {},
   "source": [
    "## Scatter Plot between Target Variable(World Population) and Another Independent Variable( Finding Linear Line Between)"
   ]
  },
  {
   "cell_type": "code",
   "execution_count": 332,
   "id": "ba254b13",
   "metadata": {},
   "outputs": [
    {
     "data": {
      "text/plain": [
       "<matplotlib.collections.PathCollection at 0x12a200be0>"
      ]
     },
     "execution_count": 332,
     "metadata": {},
     "output_type": "execute_result"
    },
    {
     "data": {
      "image/png": "[encoded data removed]",
      "text/plain": [
       "<Figure size 864x576 with 1 Axes>"
      ]
     },
     "metadata": {
      "needs_background": "light"
     },
     "output_type": "display_data"
    }
   ],
   "source": [
    "mlt.scatter(T2['Year'],T2['World Population'])"
   ]
  },
  {
   "cell_type": "markdown",
   "id": "d4f5c3eb",
   "metadata": {},
   "source": [
    "## We see a linear line between year and World Population variable, so we take these two and try to implement Linear Regression"
   ]
  },
  {
   "cell_type": "markdown",
   "id": "0c7870f3",
   "metadata": {},
   "source": [
    "## Linear Regression"
   ]
  },
  {
   "cell_type": "code",
   "execution_count": 334,
   "id": "d4ba9df6",
   "metadata": {},
   "outputs": [],
   "source": [
    "### Dropping unncessary variable\n",
    "T3 = T2.drop('Yearly\\nChange',axis=1)"
   ]
  },
  {
   "cell_type": "code",
   "execution_count": 335,
   "id": "4a24d4fd",
   "metadata": {},
   "outputs": [
    {
     "data": {
      "text/html": [
       "<div>\n",
       "<style scoped>\n",
       "    .dataframe tbody tr th:only-of-type {\n",
       "        vertical-align: middle;\n",
       "    }\n",
       "\n",
       "    .dataframe tbody tr th {\n",
       "        vertical-align: top;\n",
       "    }\n",
       "\n",
       "    .dataframe thead th {\n",
       "        text-align: right;\n",
       "    }\n",
       "</style>\n",
       "<table border=\"1\" class=\"dataframe\">\n",
       "  <thead>\n",
       "    <tr style=\"text-align: right;\">\n",
       "      <th></th>\n",
       "      <th>Year</th>\n",
       "      <th>World Population</th>\n",
       "    </tr>\n",
       "  </thead>\n",
       "  <tbody>\n",
       "    <tr>\n",
       "      <th>0</th>\n",
       "      <td>2050.0</td>\n",
       "      <td>9.735034e+09</td>\n",
       "    </tr>\n",
       "    <tr>\n",
       "      <th>1</th>\n",
       "      <td>2045.0</td>\n",
       "      <td>9.481803e+09</td>\n",
       "    </tr>\n",
       "    <tr>\n",
       "      <th>2</th>\n",
       "      <td>2040.0</td>\n",
       "      <td>9.198847e+09</td>\n",
       "    </tr>\n",
       "    <tr>\n",
       "      <th>3</th>\n",
       "      <td>2035.0</td>\n",
       "      <td>8.887524e+09</td>\n",
       "    </tr>\n",
       "    <tr>\n",
       "      <th>4</th>\n",
       "      <td>2030.0</td>\n",
       "      <td>8.548487e+09</td>\n",
       "    </tr>\n",
       "  </tbody>\n",
       "</table>\n",
       "</div>"
      ],
      "text/plain": [
       "     Year  World Population\n",
       "0  2050.0      9.735034e+09\n",
       "1  2045.0      9.481803e+09\n",
       "2  2040.0      9.198847e+09\n",
       "3  2035.0      8.887524e+09\n",
       "4  2030.0      8.548487e+09"
      ]
     },
     "execution_count": 335,
     "metadata": {},
     "output_type": "execute_result"
    }
   ],
   "source": [
    "T3.head()"
   ]
  },
  {
   "cell_type": "code",
   "execution_count": 337,
   "id": "d1a2acce",
   "metadata": {},
   "outputs": [],
   "source": [
    "### Train/test split\n",
    "train, test = train_test_split(T3,test_size=0.2)"
   ]
  },
  {
   "cell_type": "code",
   "execution_count": 339,
   "id": "a32641ba",
   "metadata": {},
   "outputs": [],
   "source": [
    "### Building Linear Regression Model\n",
    "Model = sm.OLS(train.iloc[:,0:1],train.iloc[:,1]).fit()"
   ]
  },
  {
   "cell_type": "code",
   "execution_count": 340,
   "id": "763afc08",
   "metadata": {},
   "outputs": [
    {
     "name": "stderr",
     "output_type": "stream",
     "text": [
      "/Users/mac/opt/anaconda3/lib/python3.9/site-packages/scipy/stats/stats.py:1541: UserWarning: kurtosistest only valid for n>=20 ... continuing anyway, n=19\n",
      "  warnings.warn(\"kurtosistest only valid for n>=20 ... continuing \"\n"
     ]
    },
    {
     "data": {
      "text/html": [
       "<table class=\"simpletable\">\n",
       "<caption>OLS Regression Results</caption>\n",
       "<tr>\n",
       "  <th>Dep. Variable:</th>          <td>Year</td>       <th>  R-squared (uncentered):</th>      <td>   0.905</td>\n",
       "</tr>\n",
       "<tr>\n",
       "  <th>Model:</th>                   <td>OLS</td>       <th>  Adj. R-squared (uncentered):</th> <td>   0.900</td>\n",
       "</tr>\n",
       "<tr>\n",
       "  <th>Method:</th>             <td>Least Squares</td>  <th>  F-statistic:       </th>          <td>   171.8</td>\n",
       "</tr>\n",
       "<tr>\n",
       "  <th>Date:</th>             <td>Fri, 01 Apr 2022</td> <th>  Prob (F-statistic):</th>          <td>1.20e-10</td>\n",
       "</tr>\n",
       "<tr>\n",
       "  <th>Time:</th>                 <td>16:44:30</td>     <th>  Log-Likelihood:    </th>          <td> -149.05</td>\n",
       "</tr>\n",
       "<tr>\n",
       "  <th>No. Observations:</th>      <td>    19</td>      <th>  AIC:               </th>          <td>   300.1</td>\n",
       "</tr>\n",
       "<tr>\n",
       "  <th>Df Residuals:</th>          <td>    18</td>      <th>  BIC:               </th>          <td>   301.0</td>\n",
       "</tr>\n",
       "<tr>\n",
       "  <th>Df Model:</th>              <td>     1</td>      <th>                     </th>              <td> </td>   \n",
       "</tr>\n",
       "<tr>\n",
       "  <th>Covariance Type:</th>      <td>nonrobust</td>    <th>                     </th>              <td> </td>   \n",
       "</tr>\n",
       "</table>\n",
       "<table class=\"simpletable\">\n",
       "<tr>\n",
       "          <td></td>            <th>coef</th>     <th>std err</th>      <th>t</th>      <th>P>|t|</th>  <th>[0.025</th>    <th>0.975]</th>  \n",
       "</tr>\n",
       "<tr>\n",
       "  <th>World Population</th> <td> 2.762e-07</td> <td> 2.11e-08</td> <td>   13.106</td> <td> 0.000</td> <td> 2.32e-07</td> <td> 3.21e-07</td>\n",
       "</tr>\n",
       "</table>\n",
       "<table class=\"simpletable\">\n",
       "<tr>\n",
       "  <th>Omnibus:</th>       <td> 3.099</td> <th>  Durbin-Watson:     </th> <td>   1.418</td>\n",
       "</tr>\n",
       "<tr>\n",
       "  <th>Prob(Omnibus):</th> <td> 0.212</td> <th>  Jarque-Bera (JB):  </th> <td>   1.511</td>\n",
       "</tr>\n",
       "<tr>\n",
       "  <th>Skew:</th>          <td> 0.352</td> <th>  Prob(JB):          </th> <td>   0.470</td>\n",
       "</tr>\n",
       "<tr>\n",
       "  <th>Kurtosis:</th>      <td> 1.811</td> <th>  Cond. No.          </th> <td>    1.00</td>\n",
       "</tr>\n",
       "</table><br/><br/>Notes:<br/>[1] R² is computed without centering (uncentered) since the model does not contain a constant.<br/>[2] Standard Errors assume that the covariance matrix of the errors is correctly specified."
      ],
      "text/plain": [
       "<class 'statsmodels.iolib.summary.Summary'>\n",
       "\"\"\"\n",
       "                                 OLS Regression Results                                \n",
       "=======================================================================================\n",
       "Dep. Variable:                   Year   R-squared (uncentered):                   0.905\n",
       "Model:                            OLS   Adj. R-squared (uncentered):              0.900\n",
       "Method:                 Least Squares   F-statistic:                              171.8\n",
       "Date:                Fri, 01 Apr 2022   Prob (F-statistic):                    1.20e-10\n",
       "Time:                        16:44:30   Log-Likelihood:                         -149.05\n",
       "No. Observations:                  19   AIC:                                      300.1\n",
       "Df Residuals:                      18   BIC:                                      301.0\n",
       "Df Model:                           1                                                  \n",
       "Covariance Type:            nonrobust                                                  \n",
       "====================================================================================\n",
       "                       coef    std err          t      P>|t|      [0.025      0.975]\n",
       "------------------------------------------------------------------------------------\n",
       "World Population  2.762e-07   2.11e-08     13.106      0.000    2.32e-07    3.21e-07\n",
       "==============================================================================\n",
       "Omnibus:                        3.099   Durbin-Watson:                   1.418\n",
       "Prob(Omnibus):                  0.212   Jarque-Bera (JB):                1.511\n",
       "Skew:                           0.352   Prob(JB):                        0.470\n",
       "Kurtosis:                       1.811   Cond. No.                         1.00\n",
       "==============================================================================\n",
       "\n",
       "Notes:\n",
       "[1] R² is computed without centering (uncentered) since the model does not contain a constant.\n",
       "[2] Standard Errors assume that the covariance matrix of the errors is correctly specified.\n",
       "\"\"\""
      ]
     },
     "execution_count": 340,
     "metadata": {},
     "output_type": "execute_result"
    }
   ],
   "source": [
    "### Checking the Model\n",
    "Model.summary()"
   ]
  },
  {
   "cell_type": "code",
   "execution_count": 341,
   "id": "4a801caa",
   "metadata": {},
   "outputs": [],
   "source": [
    "### Predicting test cases\n",
    "Predictions_LR = Model.predict(test.iloc[:,0:1])"
   ]
  },
  {
   "cell_type": "code",
   "execution_count": 344,
   "id": "f7f5d649",
   "metadata": {},
   "outputs": [
    {
     "data": {
      "text/plain": [
       "14    0.000552\n",
       "18    0.000547\n",
       "16    0.000550\n",
       "4     0.000561\n",
       "6     0.000558\n",
       "dtype: float64"
      ]
     },
     "execution_count": 344,
     "metadata": {},
     "output_type": "execute_result"
    }
   ],
   "source": [
    "Predictions_LR"
   ]
  },
  {
   "cell_type": "code",
   "execution_count": 365,
   "id": "0d3d0898",
   "metadata": {},
   "outputs": [],
   "source": [
    "### Calculating Accuracy\n",
    "Accuracy=np.mean(np.abs((test.iloc[:,1] - Predictions_LR)/ test.iloc[:,1]))*100"
   ]
  },
  {
   "cell_type": "code",
   "execution_count": 366,
   "id": "a25b37aa",
   "metadata": {},
   "outputs": [
    {
     "data": {
      "text/plain": [
       "99.99999999999093"
      ]
     },
     "execution_count": 366,
     "metadata": {},
     "output_type": "execute_result"
    }
   ],
   "source": [
    "Accuracy"
   ]
  },
  {
   "cell_type": "code",
   "execution_count": null,
   "id": "45f59ec7",
   "metadata": {},
   "outputs": [],
   "source": [
    "### With Linear Regression, we get high Accuracy, so the best fit could be Linear Regression"
   ]
  }
 ],
 "metadata": {
  "kernelspec": {
   "display_name": "Python 3 (ipykernel)",
   "language": "python",
   "name": "python3"
  },
  "language_info": {
   "codemirror_mode": {
    "name": "ipython",
    "version": 3
   },
   "file_extension": ".py",
   "mimetype": "text/x-python",
   "name": "python",
   "nbconvert_exporter": "python",
   "pygments_lexer": "ipython3",
   "version": "3.9.13"
  }
 },
 "nbformat": 4,
 "nbformat_minor": 5
}
