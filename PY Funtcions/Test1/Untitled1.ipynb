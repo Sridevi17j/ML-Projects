{
 "cells": [
  {
   "cell_type": "code",
   "execution_count": 1,
   "id": "b3c244dc",
   "metadata": {},
   "outputs": [
    {
     "data": {
      "text/plain": [
       "'/Users/mac/Desktop/ML-Projects/PY Funtcions/Test1'"
      ]
     },
     "execution_count": 1,
     "metadata": {},
     "output_type": "execute_result"
    }
   ],
   "source": [
    "pwd()"
   ]
  },
  {
   "cell_type": "code",
   "execution_count": 2,
   "id": "1b08029c",
   "metadata": {},
   "outputs": [],
   "source": [
    "import Test"
   ]
  },
  {
   "cell_type": "code",
   "execution_count": 3,
   "id": "8ac116f2",
   "metadata": {},
   "outputs": [],
   "source": [
    "from Test import mod1"
   ]
  },
  {
   "cell_type": "code",
   "execution_count": 4,
   "id": "19955f56",
   "metadata": {},
   "outputs": [
    {
     "name": "stdout",
     "output_type": "stream",
     "text": [
      "abc\n"
     ]
    }
   ],
   "source": [
    "mod1.fn1()"
   ]
  },
  {
   "cell_type": "code",
   "execution_count": null,
   "id": "726416f3",
   "metadata": {},
   "outputs": [],
   "source": []
  }
 ],
 "metadata": {
  "kernelspec": {
   "display_name": "Python 3 (ipykernel)",
   "language": "python",
   "name": "python3"
  },
  "language_info": {
   "codemirror_mode": {
    "name": "ipython",
    "version": 3
   },
   "file_extension": ".py",
   "mimetype": "text/x-python",
   "name": "python",
   "nbconvert_exporter": "python",
   "pygments_lexer": "ipython3",
   "version": "3.9.7"
  }
 },
 "nbformat": 4,
 "nbformat_minor": 5
}
