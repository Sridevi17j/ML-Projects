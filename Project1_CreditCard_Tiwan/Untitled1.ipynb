{
 "cells": [
  {
   "cell_type": "code",
   "execution_count": 1,
   "id": "1e78f5ff",
   "metadata": {},
   "outputs": [],
   "source": [
    "import os\n",
    "import pandas as pd\n",
    "import seaborn as sns\n",
    "import matplotlib.pyplot as plt\n",
    "%matplotlib inline"
   ]
  },
  {
   "cell_type": "code",
   "execution_count": 2,
   "id": "9b21b276",
   "metadata": {},
   "outputs": [],
   "source": [
    "import mysql.connector"
   ]
  },
  {
   "cell_type": "code",
   "execution_count": 3,
   "id": "fb75bf76",
   "metadata": {},
   "outputs": [],
   "source": [
    "df=pd.read_csv(\"/Users/mac/Downloads/hungary_chickenpox/hungary_chickenpox.csv\")"
   ]
  },
  {
   "cell_type": "code",
   "execution_count": 4,
   "id": "a3f0bb75",
   "metadata": {},
   "outputs": [],
   "source": [
    "conn=mysql.connector.connect(\n",
    "host='127.0.0.1',\n",
    "user='root',\n",
    "password='',\n",
    "database='mysql'\n",
    ")\n"
   ]
  },
  {
   "cell_type": "code",
   "execution_count": 5,
   "id": "cf341e4d",
   "metadata": {},
   "outputs": [],
   "source": [
    "cursor=conn.cursor(buffered=True)"
   ]
  },
  {
   "cell_type": "code",
   "execution_count": 6,
   "id": "ba13551d",
   "metadata": {},
   "outputs": [],
   "source": [
    "cursor.execute('DROP TABLE IF EXISTS TAIWAN_CP')"
   ]
  },
  {
   "cell_type": "code",
   "execution_count": 19,
   "id": "07b53267",
   "metadata": {},
   "outputs": [
    {
     "data": {
      "text/plain": [
       "numpy.int64"
      ]
     },
     "execution_count": 19,
     "metadata": {},
     "output_type": "execute_result"
    }
   ],
   "source": [
    "type(df[df.columns[1]][1])"
   ]
  },
  {
   "cell_type": "code",
   "execution_count": null,
   "id": "b7061999",
   "metadata": {},
   "outputs": [],
   "source": [
    "dtype(df)"
   ]
  },
  {
   "cell_type": "code",
   "execution_count": 55,
   "id": "e11e8c6b",
   "metadata": {},
   "outputs": [],
   "source": [
    "a=df.columns"
   ]
  },
  {
   "cell_type": "code",
   "execution_count": 63,
   "id": "9fbc8624",
   "metadata": {},
   "outputs": [
    {
     "data": {
      "text/plain": [
       "str"
      ]
     },
     "execution_count": 63,
     "metadata": {},
     "output_type": "execute_result"
    }
   ],
   "source": [
    "type(df[a[i]][0])"
   ]
  },
  {
   "cell_type": "code",
   "execution_count": 58,
   "id": "cc275f82",
   "metadata": {},
   "outputs": [
    {
     "name": "stdout",
     "output_type": "stream",
     "text": [
      "Date\n",
      "BUDAPEST\n",
      "BARANYA\n",
      "BACS\n",
      "BEKES\n",
      "BORSOD\n",
      "CSONGRAD\n",
      "FEJER\n",
      "GYOR\n",
      "HAJDU\n",
      "HEVES\n",
      "JASZ\n",
      "KOMAROM\n",
      "NOGRAD\n",
      "PEST\n",
      "SOMOGY\n",
      "SZABOLCS\n",
      "TOLNA\n",
      "VAS\n",
      "VESZPREM\n",
      "ZALA\n"
     ]
    }
   ],
   "source": [
    "for i in a:\n",
    "    print(dtype(i))\n",
    "    "
   ]
  },
  {
   "cell_type": "code",
   "execution_count": 26,
   "id": "b604203d",
   "metadata": {},
   "outputs": [
    {
     "name": "stderr",
     "output_type": "stream",
     "text": [
      "/Users/mac/opt/anaconda3/lib/python3.9/site-packages/pandas/core/indexes/base.py:4616: FutureWarning: Using a non-tuple sequence for multidimensional indexing is deprecated; use `arr[tuple(seq)]` instead of `arr[seq]`. In the future this will be interpreted as an array index, `arr[np.array(seq)]`, which will result either in an error or a different result.\n",
      "  result = getitem(key)\n"
     ]
    },
    {
     "ename": "IndexError",
     "evalue": "only integers, slices (`:`), ellipsis (`...`), numpy.newaxis (`None`) and integer or boolean arrays are valid indices",
     "output_type": "error",
     "traceback": [
      "\u001b[0;31m---------------------------------------------------------------------------\u001b[0m",
      "\u001b[0;31mIndexError\u001b[0m                                Traceback (most recent call last)",
      "\u001b[0;32m/var/folders/vm/9rqr0wpd07lg5xh3wk8xnr3w0000gn/T/ipykernel_24220/1263124911.py\u001b[0m in \u001b[0;36m<module>\u001b[0;34m\u001b[0m\n\u001b[1;32m      1\u001b[0m \u001b[0;32mfor\u001b[0m \u001b[0mi\u001b[0m \u001b[0;32min\u001b[0m \u001b[0ma\u001b[0m\u001b[0;34m:\u001b[0m\u001b[0;34m\u001b[0m\u001b[0;34m\u001b[0m\u001b[0m\n\u001b[0;32m----> 2\u001b[0;31m     \u001b[0mprint\u001b[0m\u001b[0;34m(\u001b[0m\u001b[0mdf\u001b[0m\u001b[0;34m[\u001b[0m\u001b[0mdf\u001b[0m\u001b[0;34m.\u001b[0m\u001b[0mcolumns\u001b[0m\u001b[0;34m[\u001b[0m\u001b[0ma\u001b[0m\u001b[0;34m]\u001b[0m\u001b[0;34m]\u001b[0m\u001b[0;34m)\u001b[0m\u001b[0;34m\u001b[0m\u001b[0;34m\u001b[0m\u001b[0m\n\u001b[0m\u001b[1;32m      3\u001b[0m \u001b[0;34m\u001b[0m\u001b[0m\n",
      "\u001b[0;32m~/opt/anaconda3/lib/python3.9/site-packages/pandas/core/indexes/base.py\u001b[0m in \u001b[0;36m__getitem__\u001b[0;34m(self, key)\u001b[0m\n\u001b[1;32m   4614\u001b[0m             \u001b[0mkey\u001b[0m \u001b[0;34m=\u001b[0m \u001b[0mnp\u001b[0m\u001b[0;34m.\u001b[0m\u001b[0masarray\u001b[0m\u001b[0;34m(\u001b[0m\u001b[0mkey\u001b[0m\u001b[0;34m,\u001b[0m \u001b[0mdtype\u001b[0m\u001b[0;34m=\u001b[0m\u001b[0mbool\u001b[0m\u001b[0;34m)\u001b[0m\u001b[0;34m\u001b[0m\u001b[0;34m\u001b[0m\u001b[0m\n\u001b[1;32m   4615\u001b[0m \u001b[0;34m\u001b[0m\u001b[0m\n\u001b[0;32m-> 4616\u001b[0;31m         \u001b[0mresult\u001b[0m \u001b[0;34m=\u001b[0m \u001b[0mgetitem\u001b[0m\u001b[0;34m(\u001b[0m\u001b[0mkey\u001b[0m\u001b[0;34m)\u001b[0m\u001b[0;34m\u001b[0m\u001b[0;34m\u001b[0m\u001b[0m\n\u001b[0m\u001b[1;32m   4617\u001b[0m         \u001b[0;32mif\u001b[0m \u001b[0;32mnot\u001b[0m \u001b[0mis_scalar\u001b[0m\u001b[0;34m(\u001b[0m\u001b[0mresult\u001b[0m\u001b[0;34m)\u001b[0m\u001b[0;34m:\u001b[0m\u001b[0;34m\u001b[0m\u001b[0;34m\u001b[0m\u001b[0m\n\u001b[1;32m   4618\u001b[0m             \u001b[0;31m# error: Argument 1 to \"ndim\" has incompatible type \"Union[ExtensionArray,\u001b[0m\u001b[0;34m\u001b[0m\u001b[0;34m\u001b[0m\u001b[0m\n",
      "\u001b[0;31mIndexError\u001b[0m: only integers, slices (`:`), ellipsis (`...`), numpy.newaxis (`None`) and integer or boolean arrays are valid indices"
     ]
    }
   ],
   "source": [
    "for i in df.columns:\n",
    "    print(df[])\n",
    "    "
   ]
  },
  {
   "cell_type": "code",
   "execution_count": 52,
   "id": "4e6e9fab",
   "metadata": {},
   "outputs": [
    {
     "name": "stdout",
     "output_type": "stream",
     "text": [
      "<class 'pandas.core.frame.DataFrame'>\n",
      "RangeIndex: 522 entries, 0 to 521\n",
      "Data columns (total 21 columns):\n",
      " #   Column    Non-Null Count  Dtype \n",
      "---  ------    --------------  ----- \n",
      " 0   Date      522 non-null    object\n",
      " 1   BUDAPEST  522 non-null    int64 \n",
      " 2   BARANYA   522 non-null    int64 \n",
      " 3   BACS      522 non-null    int64 \n",
      " 4   BEKES     522 non-null    int64 \n",
      " 5   BORSOD    522 non-null    int64 \n",
      " 6   CSONGRAD  522 non-null    int64 \n",
      " 7   FEJER     522 non-null    int64 \n",
      " 8   GYOR      522 non-null    int64 \n",
      " 9   HAJDU     522 non-null    int64 \n",
      " 10  HEVES     522 non-null    int64 \n",
      " 11  JASZ      522 non-null    int64 \n",
      " 12  KOMAROM   522 non-null    int64 \n",
      " 13  NOGRAD    522 non-null    int64 \n",
      " 14  PEST      522 non-null    int64 \n",
      " 15  SOMOGY    522 non-null    int64 \n",
      " 16  SZABOLCS  522 non-null    int64 \n",
      " 17  TOLNA     522 non-null    int64 \n",
      " 18  VAS       522 non-null    int64 \n",
      " 19  VESZPREM  522 non-null    int64 \n",
      " 20  ZALA      522 non-null    int64 \n",
      "dtypes: int64(20), object(1)\n",
      "memory usage: 85.8+ KB\n"
     ]
    }
   ],
   "source": [
    "df.info()"
   ]
  },
  {
   "cell_type": "code",
   "execution_count": 25,
   "id": "34d45b91",
   "metadata": {},
   "outputs": [],
   "source": [
    "def dtypemap(dtype):\n",
    "   # print(dtype)\n",
    "    if dtype==int:\n",
    "        dtype='INT'\n",
    "        a=dtype\n",
    "        print(a)\n",
    "    if dtype==object or str:\n",
    "        dtype='VARCHAR'\n",
    "        a=dtype\n",
    "        print(a)\n",
    "        "
   ]
  },
  {
   "cell_type": "code",
   "execution_count": 19,
   "id": "69c2908e",
   "metadata": {},
   "outputs": [
    {
     "name": "stdout",
     "output_type": "stream",
     "text": [
      "INT\n"
     ]
    }
   ],
   "source": [
    "dtypemap(int)"
   ]
  },
  {
   "cell_type": "code",
   "execution_count": 93,
   "id": "f96a8502",
   "metadata": {},
   "outputs": [
    {
     "name": "stdout",
     "output_type": "stream",
     "text": [
      "20\n"
     ]
    }
   ],
   "source": [
    "a=10\n",
    "if a==10:\n",
    "    a=20\n",
    "print(a)"
   ]
  },
  {
   "cell_type": "code",
   "execution_count": 21,
   "id": "b52562ab",
   "metadata": {},
   "outputs": [
    {
     "name": "stdout",
     "output_type": "stream",
     "text": [
      "VARCHAR\n",
      "INT\n",
      "INT\n",
      "INT\n",
      "INT\n",
      "INT\n",
      "INT\n",
      "INT\n",
      "INT\n",
      "INT\n",
      "INT\n",
      "INT\n",
      "INT\n",
      "INT\n",
      "INT\n",
      "INT\n",
      "INT\n",
      "INT\n",
      "INT\n",
      "INT\n",
      "INT\n"
     ]
    }
   ],
   "source": [
    "for columns in df.columns:\n",
    "    a= df[columns].dtypes\n",
    "    dtypemap(a)\n",
    "   "
   ]
  },
  {
   "cell_type": "code",
   "execution_count": null,
   "id": "66d1de38",
   "metadata": {},
   "outputs": [],
   "source": []
  },
  {
   "cell_type": "code",
   "execution_count": 104,
   "id": "4813e4ff",
   "metadata": {},
   "outputs": [
    {
     "data": {
      "text/plain": [
       "'\\nfor columns in df.columns:\\n    a= df[columns].dtypes\\n    print(a)\\n'"
      ]
     },
     "execution_count": 104,
     "metadata": {},
     "output_type": "execute_result"
    }
   ],
   "source": [
    "\"\"\"\n",
    "for columns in df.columns:\n",
    "    a= df[columns].dtypes\n",
    "    print(a)\n",
    "\"\"\""
   ]
  },
  {
   "cell_type": "code",
   "execution_count": 106,
   "id": "bcaafc1c",
   "metadata": {},
   "outputs": [],
   "source": [
    "f=df.dtypes"
   ]
  },
  {
   "cell_type": "code",
   "execution_count": 121,
   "id": "61128a61",
   "metadata": {},
   "outputs": [
    {
     "data": {
      "text/plain": [
       "dtype('int64')"
      ]
     },
     "execution_count": 121,
     "metadata": {},
     "output_type": "execute_result"
    }
   ],
   "source": [
    "f[1]"
   ]
  },
  {
   "cell_type": "code",
   "execution_count": 98,
   "id": "aeea7173",
   "metadata": {},
   "outputs": [
    {
     "data": {
      "text/plain": [
       "dtype('int64')"
      ]
     },
     "execution_count": 98,
     "metadata": {},
     "output_type": "execute_result"
    }
   ],
   "source": [
    "a"
   ]
  },
  {
   "cell_type": "code",
   "execution_count": 70,
   "id": "5b2f61e2",
   "metadata": {},
   "outputs": [
    {
     "name": "stdout",
     "output_type": "stream",
     "text": [
      "<class 'str'>\n",
      "<class 'numpy.int64'>\n",
      "<class 'numpy.int64'>\n",
      "<class 'numpy.int64'>\n",
      "<class 'numpy.int64'>\n",
      "<class 'numpy.int64'>\n",
      "<class 'numpy.int64'>\n",
      "<class 'numpy.int64'>\n",
      "<class 'numpy.int64'>\n",
      "<class 'numpy.int64'>\n",
      "<class 'numpy.int64'>\n",
      "<class 'numpy.int64'>\n",
      "<class 'numpy.int64'>\n",
      "<class 'numpy.int64'>\n",
      "<class 'numpy.int64'>\n",
      "<class 'numpy.int64'>\n",
      "<class 'numpy.int64'>\n",
      "<class 'numpy.int64'>\n",
      "<class 'numpy.int64'>\n",
      "<class 'numpy.int64'>\n",
      "<class 'numpy.int64'>\n"
     ]
    }
   ],
   "source": [
    "for i in df.columns:\n",
    "    dtype=type(df[i][0])\n",
    "    print(dtype)\n",
    "    \"\"\"\n",
    "    dtypemap(dtype)\n",
    "    print(\"After\")\n",
    "    print(dtype)\n",
    "    \n",
    "    \"\"\"\n"
   ]
  },
  {
   "cell_type": "code",
   "execution_count": 45,
   "id": "f2a854b9",
   "metadata": {},
   "outputs": [
    {
     "ename": "SyntaxError",
     "evalue": "invalid syntax (2446580607.py, line 6)",
     "output_type": "error",
     "traceback": [
      "\u001b[0;36m  File \u001b[0;32m\"/var/folders/vm/9rqr0wpd07lg5xh3wk8xnr3w0000gn/T/ipykernel_26760/2446580607.py\"\u001b[0;36m, line \u001b[0;32m6\u001b[0m\n\u001b[0;31m    cursor.execute(ALTER TABLE TAIWAN_CP ADD COLUMN(Date DATE, BUDAPEST INT, BARANYA INT, BACS INT, BEKES INT, BORSOD INT, CSONGRAD INT,FEJER INT, GYOR INT, HAJDU INT, HEVES INT, JASZ INT, KOMAROM INT, NOGRAD INT, PEST INT,SOMOGY INT, SZABOLCS INT, TOLNA INT,VAS INT, VESZPREM INT, ZALA INT);)\u001b[0m\n\u001b[0m                         ^\u001b[0m\n\u001b[0;31mSyntaxError\u001b[0m\u001b[0;31m:\u001b[0m invalid syntax\n"
     ]
    }
   ],
   "source": [
    "for i in df.columns:\n",
    "    a=type(df[i][0])\n",
    "    dtypemap(a)\n",
    "    #print(a)\n",
    "    try:\n",
    "        cursor.execute(ALTER TABLE TAIWAN_CP ADD COLUMN(Date DATE, BUDAPEST INT, BARANYA INT, BACS INT, BEKES INT, BORSOD INT, CSONGRAD INT,FEJER INT, GYOR INT, HAJDU INT, HEVES INT, JASZ INT, KOMAROM INT, NOGRAD INT, PEST INT,SOMOGY INT, SZABOLCS INT, TOLNA INT,VAS INT, VESZPREM INT, ZALA INT);)\n",
    "    except:\n",
    "        cursor.execute(CREATE TABLE TAIWAN_CP ADD COLUMN(Date DATE, BUDAPEST INT, BARANYA INT, BACS INT, BEKES INT, BORSOD INT, CSONGRAD INT,FEJER INT, GYOR INT, HAJDU INT, HEVES INT, JASZ INT, KOMAROM INT, NOGRAD INT, PEST INT,SOMOGY INT, SZABOLCS INT, TOLNA INT, VAS INT, VESZPREM INT, ZALA INT);)"
   ]
  },
  {
   "cell_type": "code",
   "execution_count": 31,
   "id": "0a4f4e9b",
   "metadata": {},
   "outputs": [],
   "source": [
    "import csv"
   ]
  },
  {
   "cell_type": "code",
   "execution_count": 37,
   "id": "752a68cb",
   "metadata": {},
   "outputs": [
    {
     "data": {
      "text/plain": [
       "['Date',\n",
       " 'BUDAPEST',\n",
       " 'BARANYA',\n",
       " 'BACS',\n",
       " 'BEKES',\n",
       " 'BORSOD',\n",
       " 'CSONGRAD',\n",
       " 'FEJER',\n",
       " 'GYOR',\n",
       " 'HAJDU',\n",
       " 'HEVES',\n",
       " 'JASZ',\n",
       " 'KOMAROM',\n",
       " 'NOGRAD',\n",
       " 'PEST',\n",
       " 'SOMOGY',\n",
       " 'SZABOLCS',\n",
       " 'TOLNA',\n",
       " 'VAS',\n",
       " 'VESZPREM',\n",
       " 'ZALA']"
      ]
     },
     "execution_count": 37,
     "metadata": {},
     "output_type": "execute_result"
    }
   ],
   "source": [
    "with open(\"/Users/mac/Downloads/hungary_chickenpox/hungary_chickenpox.csv\",'r') as file:\n",
    "    reader=csv.reader(file)\n",
    "    header=next(reader)\n",
    "header"
   ]
  },
  {
   "cell_type": "code",
   "execution_count": 35,
   "id": "869a6f56",
   "metadata": {},
   "outputs": [
    {
     "ename": "ValueError",
     "evalue": "I/O operation on closed file.",
     "output_type": "error",
     "traceback": [
      "\u001b[0;31m---------------------------------------------------------------------------\u001b[0m",
      "\u001b[0;31mValueError\u001b[0m                                Traceback (most recent call last)",
      "\u001b[0;32m/var/folders/vm/9rqr0wpd07lg5xh3wk8xnr3w0000gn/T/ipykernel_24220/630807333.py\u001b[0m in \u001b[0;36m<module>\u001b[0;34m\u001b[0m\n\u001b[0;32m----> 1\u001b[0;31m \u001b[0mheader\u001b[0m\u001b[0;34m=\u001b[0m\u001b[0mnext\u001b[0m\u001b[0;34m(\u001b[0m\u001b[0mreader\u001b[0m\u001b[0;34m)\u001b[0m\u001b[0;34m\u001b[0m\u001b[0;34m\u001b[0m\u001b[0m\n\u001b[0m",
      "\u001b[0;31mValueError\u001b[0m: I/O operation on closed file."
     ]
    }
   ],
   "source": [
    "header=next(reader)"
   ]
  },
  {
   "cell_type": "code",
   "execution_count": 41,
   "id": "8c51b519",
   "metadata": {},
   "outputs": [],
   "source": [
    "header_types = []\n",
    "for header in header:\n",
    "    header_types.append(type_map.get(header, 'VARCHAR(255)'))"
   ]
  },
  {
   "cell_type": "code",
   "execution_count": 40,
   "id": "c20e8597",
   "metadata": {},
   "outputs": [],
   "source": [
    "type_map = {\n",
    "    'int': 'INT',\n",
    "    'float': 'FLOAT',\n",
    "    'str': 'VARCHAR(255)'\n",
    "}\n"
   ]
  },
  {
   "cell_type": "code",
   "execution_count": null,
   "id": "972e6c21",
   "metadata": {},
   "outputs": [],
   "source": [
    "print(f'CREATE TABLE data ({\", \".join([f\"{header} {header_type}\" for header, header_type in zip(headers, header_types)})};')"
   ]
  },
  {
   "cell_type": "code",
   "execution_count": 43,
   "id": "388f6dbe",
   "metadata": {},
   "outputs": [
    {
     "ename": "ProgrammingError",
     "evalue": "1064 (42000): You have an error in your SQL syntax; check the manual that corresponds to your MySQL server version for the right syntax to use near '{\", \".join([f\"{header} {header_type}\" for header, header_type in zip(headers, he' at line 1",
     "output_type": "error",
     "traceback": [
      "\u001b[0;31m---------------------------------------------------------------------------\u001b[0m",
      "\u001b[0;31mProgrammingError\u001b[0m                          Traceback (most recent call last)",
      "\u001b[0;32m/var/folders/vm/9rqr0wpd07lg5xh3wk8xnr3w0000gn/T/ipykernel_24220/3119814753.py\u001b[0m in \u001b[0;36m<module>\u001b[0;34m\u001b[0m\n\u001b[0;32m----> 1\u001b[0;31m \u001b[0mcursor\u001b[0m\u001b[0;34m.\u001b[0m\u001b[0mexecute\u001b[0m\u001b[0;34m(\u001b[0m\u001b[0;34m'CREATE TABLE data ({\", \".join([f\"{header} {header_type}\" for header, header_type in zip(headers, header_types)})};'\u001b[0m\u001b[0;34m)\u001b[0m\u001b[0;34m\u001b[0m\u001b[0;34m\u001b[0m\u001b[0m\n\u001b[0m",
      "\u001b[0;32m~/opt/anaconda3/lib/python3.9/site-packages/mysql/connector/cursor.py\u001b[0m in \u001b[0;36mexecute\u001b[0;34m(self, operation, params, multi)\u001b[0m\n\u001b[1;32m    549\u001b[0m         \u001b[0;32melse\u001b[0m\u001b[0;34m:\u001b[0m\u001b[0;34m\u001b[0m\u001b[0;34m\u001b[0m\u001b[0m\n\u001b[1;32m    550\u001b[0m             \u001b[0;32mtry\u001b[0m\u001b[0;34m:\u001b[0m\u001b[0;34m\u001b[0m\u001b[0;34m\u001b[0m\u001b[0m\n\u001b[0;32m--> 551\u001b[0;31m                 \u001b[0mself\u001b[0m\u001b[0;34m.\u001b[0m\u001b[0m_handle_result\u001b[0m\u001b[0;34m(\u001b[0m\u001b[0mself\u001b[0m\u001b[0;34m.\u001b[0m\u001b[0m_connection\u001b[0m\u001b[0;34m.\u001b[0m\u001b[0mcmd_query\u001b[0m\u001b[0;34m(\u001b[0m\u001b[0mstmt\u001b[0m\u001b[0;34m)\u001b[0m\u001b[0;34m)\u001b[0m\u001b[0;34m\u001b[0m\u001b[0;34m\u001b[0m\u001b[0m\n\u001b[0m\u001b[1;32m    552\u001b[0m             \u001b[0;32mexcept\u001b[0m \u001b[0merrors\u001b[0m\u001b[0;34m.\u001b[0m\u001b[0mInterfaceError\u001b[0m\u001b[0;34m:\u001b[0m\u001b[0;34m\u001b[0m\u001b[0;34m\u001b[0m\u001b[0m\n\u001b[1;32m    553\u001b[0m                 \u001b[0;32mif\u001b[0m \u001b[0mself\u001b[0m\u001b[0;34m.\u001b[0m\u001b[0m_connection\u001b[0m\u001b[0;34m.\u001b[0m\u001b[0m_have_next_result\u001b[0m\u001b[0;34m:\u001b[0m  \u001b[0;31m# pylint: disable=W0212\u001b[0m\u001b[0;34m\u001b[0m\u001b[0;34m\u001b[0m\u001b[0m\n",
      "\u001b[0;32m~/opt/anaconda3/lib/python3.9/site-packages/mysql/connector/connection.py\u001b[0m in \u001b[0;36mcmd_query\u001b[0;34m(self, query, raw, buffered, raw_as_string)\u001b[0m\n\u001b[1;32m    488\u001b[0m         \u001b[0;32mif\u001b[0m \u001b[0;32mnot\u001b[0m \u001b[0misinstance\u001b[0m\u001b[0;34m(\u001b[0m\u001b[0mquery\u001b[0m\u001b[0;34m,\u001b[0m \u001b[0mbytes\u001b[0m\u001b[0;34m)\u001b[0m\u001b[0;34m:\u001b[0m\u001b[0;34m\u001b[0m\u001b[0;34m\u001b[0m\u001b[0m\n\u001b[1;32m    489\u001b[0m             \u001b[0mquery\u001b[0m \u001b[0;34m=\u001b[0m \u001b[0mquery\u001b[0m\u001b[0;34m.\u001b[0m\u001b[0mencode\u001b[0m\u001b[0;34m(\u001b[0m\u001b[0;34m'utf-8'\u001b[0m\u001b[0;34m)\u001b[0m\u001b[0;34m\u001b[0m\u001b[0;34m\u001b[0m\u001b[0m\n\u001b[0;32m--> 490\u001b[0;31m         \u001b[0mresult\u001b[0m \u001b[0;34m=\u001b[0m \u001b[0mself\u001b[0m\u001b[0;34m.\u001b[0m\u001b[0m_handle_result\u001b[0m\u001b[0;34m(\u001b[0m\u001b[0mself\u001b[0m\u001b[0;34m.\u001b[0m\u001b[0m_send_cmd\u001b[0m\u001b[0;34m(\u001b[0m\u001b[0mServerCmd\u001b[0m\u001b[0;34m.\u001b[0m\u001b[0mQUERY\u001b[0m\u001b[0;34m,\u001b[0m \u001b[0mquery\u001b[0m\u001b[0;34m)\u001b[0m\u001b[0;34m)\u001b[0m\u001b[0;34m\u001b[0m\u001b[0;34m\u001b[0m\u001b[0m\n\u001b[0m\u001b[1;32m    491\u001b[0m \u001b[0;34m\u001b[0m\u001b[0m\n\u001b[1;32m    492\u001b[0m         \u001b[0;32mif\u001b[0m \u001b[0mself\u001b[0m\u001b[0;34m.\u001b[0m\u001b[0m_have_next_result\u001b[0m\u001b[0;34m:\u001b[0m\u001b[0;34m\u001b[0m\u001b[0;34m\u001b[0m\u001b[0m\n",
      "\u001b[0;32m~/opt/anaconda3/lib/python3.9/site-packages/mysql/connector/connection.py\u001b[0m in \u001b[0;36m_handle_result\u001b[0;34m(self, packet)\u001b[0m\n\u001b[1;32m    393\u001b[0m             \u001b[0;32mreturn\u001b[0m \u001b[0mself\u001b[0m\u001b[0;34m.\u001b[0m\u001b[0m_handle_eof\u001b[0m\u001b[0;34m(\u001b[0m\u001b[0mpacket\u001b[0m\u001b[0;34m)\u001b[0m\u001b[0;34m\u001b[0m\u001b[0;34m\u001b[0m\u001b[0m\n\u001b[1;32m    394\u001b[0m         \u001b[0;32melif\u001b[0m \u001b[0mpacket\u001b[0m\u001b[0;34m[\u001b[0m\u001b[0;36m4\u001b[0m\u001b[0;34m]\u001b[0m \u001b[0;34m==\u001b[0m \u001b[0;36m255\u001b[0m\u001b[0;34m:\u001b[0m\u001b[0;34m\u001b[0m\u001b[0;34m\u001b[0m\u001b[0m\n\u001b[0;32m--> 395\u001b[0;31m             \u001b[0;32mraise\u001b[0m \u001b[0merrors\u001b[0m\u001b[0;34m.\u001b[0m\u001b[0mget_exception\u001b[0m\u001b[0;34m(\u001b[0m\u001b[0mpacket\u001b[0m\u001b[0;34m)\u001b[0m\u001b[0;34m\u001b[0m\u001b[0;34m\u001b[0m\u001b[0m\n\u001b[0m\u001b[1;32m    396\u001b[0m \u001b[0;34m\u001b[0m\u001b[0m\n\u001b[1;32m    397\u001b[0m         \u001b[0;31m# We have a text result set\u001b[0m\u001b[0;34m\u001b[0m\u001b[0;34m\u001b[0m\u001b[0m\n",
      "\u001b[0;31mProgrammingError\u001b[0m: 1064 (42000): You have an error in your SQL syntax; check the manual that corresponds to your MySQL server version for the right syntax to use near '{\", \".join([f\"{header} {header_type}\" for header, header_type in zip(headers, he' at line 1"
     ]
    }
   ],
   "source": [
    "cursor.execute('CREATE TABLE data ({\", \".join([f\"{header} {header_type}\" for header, header_type in zip(headers, header_types)})};')"
   ]
  },
  {
   "cell_type": "code",
   "execution_count": 45,
   "id": "a0e46abb",
   "metadata": {},
   "outputs": [],
   "source": [
    "headers=df.columns\n",
    "dtypes = {}\n",
    "for header in headers:\n",
    "    dtypes[header] = df[header].dtype\n"
   ]
  },
  {
   "cell_type": "code",
   "execution_count": 46,
   "id": "00f6a829",
   "metadata": {},
   "outputs": [
    {
     "ename": "ProgrammingError",
     "evalue": "1064 (42000): You have an error in your SQL syntax; check the manual that corresponds to your MySQL server version for the right syntax to use near 'object, BUDAPEST int64, BARANYA int64, BACS int64, BEKES int64, BORSOD int64, CS' at line 1",
     "output_type": "error",
     "traceback": [
      "\u001b[0;31m---------------------------------------------------------------------------\u001b[0m",
      "\u001b[0;31mProgrammingError\u001b[0m                          Traceback (most recent call last)",
      "\u001b[0;32m/var/folders/vm/9rqr0wpd07lg5xh3wk8xnr3w0000gn/T/ipykernel_24220/1718102936.py\u001b[0m in \u001b[0;36m<module>\u001b[0;34m\u001b[0m\n\u001b[1;32m      3\u001b[0m     \u001b[0mquery\u001b[0m \u001b[0;34m+=\u001b[0m \u001b[0;34m\"{} {}, \"\u001b[0m\u001b[0;34m.\u001b[0m\u001b[0mformat\u001b[0m\u001b[0;34m(\u001b[0m\u001b[0mheader\u001b[0m\u001b[0;34m,\u001b[0m \u001b[0mdtypes\u001b[0m\u001b[0;34m[\u001b[0m\u001b[0mheader\u001b[0m\u001b[0;34m]\u001b[0m\u001b[0;34m.\u001b[0m\u001b[0mname\u001b[0m\u001b[0;34m)\u001b[0m\u001b[0;34m\u001b[0m\u001b[0;34m\u001b[0m\u001b[0m\n\u001b[1;32m      4\u001b[0m \u001b[0mquery\u001b[0m \u001b[0;34m=\u001b[0m \u001b[0mquery\u001b[0m\u001b[0;34m[\u001b[0m\u001b[0;34m:\u001b[0m\u001b[0;34m-\u001b[0m\u001b[0;36m2\u001b[0m\u001b[0;34m]\u001b[0m \u001b[0;34m+\u001b[0m \u001b[0;34m\")\"\u001b[0m\u001b[0;34m\u001b[0m\u001b[0;34m\u001b[0m\u001b[0m\n\u001b[0;32m----> 5\u001b[0;31m \u001b[0mcursor\u001b[0m\u001b[0;34m.\u001b[0m\u001b[0mexecute\u001b[0m\u001b[0;34m(\u001b[0m\u001b[0mquery\u001b[0m\u001b[0;34m)\u001b[0m\u001b[0;34m\u001b[0m\u001b[0;34m\u001b[0m\u001b[0m\n\u001b[0m",
      "\u001b[0;32m~/opt/anaconda3/lib/python3.9/site-packages/mysql/connector/cursor.py\u001b[0m in \u001b[0;36mexecute\u001b[0;34m(self, operation, params, multi)\u001b[0m\n\u001b[1;32m    549\u001b[0m         \u001b[0;32melse\u001b[0m\u001b[0;34m:\u001b[0m\u001b[0;34m\u001b[0m\u001b[0;34m\u001b[0m\u001b[0m\n\u001b[1;32m    550\u001b[0m             \u001b[0;32mtry\u001b[0m\u001b[0;34m:\u001b[0m\u001b[0;34m\u001b[0m\u001b[0;34m\u001b[0m\u001b[0m\n\u001b[0;32m--> 551\u001b[0;31m                 \u001b[0mself\u001b[0m\u001b[0;34m.\u001b[0m\u001b[0m_handle_result\u001b[0m\u001b[0;34m(\u001b[0m\u001b[0mself\u001b[0m\u001b[0;34m.\u001b[0m\u001b[0m_connection\u001b[0m\u001b[0;34m.\u001b[0m\u001b[0mcmd_query\u001b[0m\u001b[0;34m(\u001b[0m\u001b[0mstmt\u001b[0m\u001b[0;34m)\u001b[0m\u001b[0;34m)\u001b[0m\u001b[0;34m\u001b[0m\u001b[0;34m\u001b[0m\u001b[0m\n\u001b[0m\u001b[1;32m    552\u001b[0m             \u001b[0;32mexcept\u001b[0m \u001b[0merrors\u001b[0m\u001b[0;34m.\u001b[0m\u001b[0mInterfaceError\u001b[0m\u001b[0;34m:\u001b[0m\u001b[0;34m\u001b[0m\u001b[0;34m\u001b[0m\u001b[0m\n\u001b[1;32m    553\u001b[0m                 \u001b[0;32mif\u001b[0m \u001b[0mself\u001b[0m\u001b[0;34m.\u001b[0m\u001b[0m_connection\u001b[0m\u001b[0;34m.\u001b[0m\u001b[0m_have_next_result\u001b[0m\u001b[0;34m:\u001b[0m  \u001b[0;31m# pylint: disable=W0212\u001b[0m\u001b[0;34m\u001b[0m\u001b[0;34m\u001b[0m\u001b[0m\n",
      "\u001b[0;32m~/opt/anaconda3/lib/python3.9/site-packages/mysql/connector/connection.py\u001b[0m in \u001b[0;36mcmd_query\u001b[0;34m(self, query, raw, buffered, raw_as_string)\u001b[0m\n\u001b[1;32m    488\u001b[0m         \u001b[0;32mif\u001b[0m \u001b[0;32mnot\u001b[0m \u001b[0misinstance\u001b[0m\u001b[0;34m(\u001b[0m\u001b[0mquery\u001b[0m\u001b[0;34m,\u001b[0m \u001b[0mbytes\u001b[0m\u001b[0;34m)\u001b[0m\u001b[0;34m:\u001b[0m\u001b[0;34m\u001b[0m\u001b[0;34m\u001b[0m\u001b[0m\n\u001b[1;32m    489\u001b[0m             \u001b[0mquery\u001b[0m \u001b[0;34m=\u001b[0m \u001b[0mquery\u001b[0m\u001b[0;34m.\u001b[0m\u001b[0mencode\u001b[0m\u001b[0;34m(\u001b[0m\u001b[0;34m'utf-8'\u001b[0m\u001b[0;34m)\u001b[0m\u001b[0;34m\u001b[0m\u001b[0;34m\u001b[0m\u001b[0m\n\u001b[0;32m--> 490\u001b[0;31m         \u001b[0mresult\u001b[0m \u001b[0;34m=\u001b[0m \u001b[0mself\u001b[0m\u001b[0;34m.\u001b[0m\u001b[0m_handle_result\u001b[0m\u001b[0;34m(\u001b[0m\u001b[0mself\u001b[0m\u001b[0;34m.\u001b[0m\u001b[0m_send_cmd\u001b[0m\u001b[0;34m(\u001b[0m\u001b[0mServerCmd\u001b[0m\u001b[0;34m.\u001b[0m\u001b[0mQUERY\u001b[0m\u001b[0;34m,\u001b[0m \u001b[0mquery\u001b[0m\u001b[0;34m)\u001b[0m\u001b[0;34m)\u001b[0m\u001b[0;34m\u001b[0m\u001b[0;34m\u001b[0m\u001b[0m\n\u001b[0m\u001b[1;32m    491\u001b[0m \u001b[0;34m\u001b[0m\u001b[0m\n\u001b[1;32m    492\u001b[0m         \u001b[0;32mif\u001b[0m \u001b[0mself\u001b[0m\u001b[0;34m.\u001b[0m\u001b[0m_have_next_result\u001b[0m\u001b[0;34m:\u001b[0m\u001b[0;34m\u001b[0m\u001b[0;34m\u001b[0m\u001b[0m\n",
      "\u001b[0;32m~/opt/anaconda3/lib/python3.9/site-packages/mysql/connector/connection.py\u001b[0m in \u001b[0;36m_handle_result\u001b[0;34m(self, packet)\u001b[0m\n\u001b[1;32m    393\u001b[0m             \u001b[0;32mreturn\u001b[0m \u001b[0mself\u001b[0m\u001b[0;34m.\u001b[0m\u001b[0m_handle_eof\u001b[0m\u001b[0;34m(\u001b[0m\u001b[0mpacket\u001b[0m\u001b[0;34m)\u001b[0m\u001b[0;34m\u001b[0m\u001b[0;34m\u001b[0m\u001b[0m\n\u001b[1;32m    394\u001b[0m         \u001b[0;32melif\u001b[0m \u001b[0mpacket\u001b[0m\u001b[0;34m[\u001b[0m\u001b[0;36m4\u001b[0m\u001b[0;34m]\u001b[0m \u001b[0;34m==\u001b[0m \u001b[0;36m255\u001b[0m\u001b[0;34m:\u001b[0m\u001b[0;34m\u001b[0m\u001b[0;34m\u001b[0m\u001b[0m\n\u001b[0;32m--> 395\u001b[0;31m             \u001b[0;32mraise\u001b[0m \u001b[0merrors\u001b[0m\u001b[0;34m.\u001b[0m\u001b[0mget_exception\u001b[0m\u001b[0;34m(\u001b[0m\u001b[0mpacket\u001b[0m\u001b[0;34m)\u001b[0m\u001b[0;34m\u001b[0m\u001b[0;34m\u001b[0m\u001b[0m\n\u001b[0m\u001b[1;32m    396\u001b[0m \u001b[0;34m\u001b[0m\u001b[0m\n\u001b[1;32m    397\u001b[0m         \u001b[0;31m# We have a text result set\u001b[0m\u001b[0;34m\u001b[0m\u001b[0;34m\u001b[0m\u001b[0m\n",
      "\u001b[0;31mProgrammingError\u001b[0m: 1064 (42000): You have an error in your SQL syntax; check the manual that corresponds to your MySQL server version for the right syntax to use near 'object, BUDAPEST int64, BARANYA int64, BACS int64, BEKES int64, BORSOD int64, CS' at line 1"
     ]
    }
   ],
   "source": [
    "query = \"CREATE TABLE data(\"\n",
    "for header in headers:\n",
    "    query += \"{} {}, \".format(header, dtypes[header].name)\n",
    "query = query[:-2] + \")\"\n",
    "cursor.execute(query)\n"
   ]
  },
  {
   "cell_type": "code",
   "execution_count": 29,
   "id": "a14ed96b",
   "metadata": {},
   "outputs": [],
   "source": [
    "cursor.execute('CREATE TABLE test1( test1 INT);')"
   ]
  },
  {
   "cell_type": "code",
   "execution_count": 34,
   "id": "9e198834",
   "metadata": {},
   "outputs": [
    {
     "data": {
      "text/plain": [
       "'BUDAPEST'"
      ]
     },
     "execution_count": 34,
     "metadata": {},
     "output_type": "execute_result"
    }
   ],
   "source": [
    "df.columns[1]"
   ]
  },
  {
   "cell_type": "code",
   "execution_count": 37,
   "id": "cdb787d1",
   "metadata": {},
   "outputs": [
    {
     "ename": "AttributeError",
     "evalue": "'NoneType' object has no attribute 'append'",
     "output_type": "error",
     "traceback": [
      "\u001b[0;31m---------------------------------------------------------------------------\u001b[0m",
      "\u001b[0;31mAttributeError\u001b[0m                            Traceback (most recent call last)",
      "\u001b[0;32m/var/folders/vm/9rqr0wpd07lg5xh3wk8xnr3w0000gn/T/ipykernel_26760/1004666533.py\u001b[0m in \u001b[0;36m<module>\u001b[0;34m\u001b[0m\n\u001b[1;32m      1\u001b[0m \u001b[0ma\u001b[0m\u001b[0;34m=\u001b[0m\u001b[0;34m[\u001b[0m\u001b[0;34m]\u001b[0m\u001b[0;34m\u001b[0m\u001b[0;34m\u001b[0m\u001b[0m\n\u001b[1;32m      2\u001b[0m \u001b[0;32mfor\u001b[0m \u001b[0mi\u001b[0m \u001b[0;32min\u001b[0m \u001b[0mdf\u001b[0m\u001b[0;34m.\u001b[0m\u001b[0mcolumns\u001b[0m\u001b[0;34m:\u001b[0m\u001b[0;34m\u001b[0m\u001b[0;34m\u001b[0m\u001b[0m\n\u001b[0;32m----> 3\u001b[0;31m     \u001b[0ma\u001b[0m\u001b[0;34m=\u001b[0m\u001b[0ma\u001b[0m\u001b[0;34m.\u001b[0m\u001b[0mappend\u001b[0m\u001b[0;34m(\u001b[0m\u001b[0mi\u001b[0m\u001b[0;34m+\u001b[0m\u001b[0;34m' INT'\u001b[0m\u001b[0;34m)\u001b[0m\u001b[0;34m\u001b[0m\u001b[0;34m\u001b[0m\u001b[0m\n\u001b[0m\u001b[1;32m      4\u001b[0m \u001b[0;34m\u001b[0m\u001b[0m\n",
      "\u001b[0;31mAttributeError\u001b[0m: 'NoneType' object has no attribute 'append'"
     ]
    }
   ],
   "source": [
    "a=[]\n",
    "for i in df.columns:\n",
    "    a=a.append(i+' INT')\n",
    "    "
   ]
  },
  {
   "cell_type": "code",
   "execution_count": 38,
   "id": "4f809103",
   "metadata": {},
   "outputs": [],
   "source": [
    "b=[]"
   ]
  },
  {
   "cell_type": "code",
   "execution_count": 31,
   "id": "a75af69d",
   "metadata": {},
   "outputs": [
    {
     "data": {
      "text/html": [
       "<div>\n",
       "<style scoped>\n",
       "    .dataframe tbody tr th:only-of-type {\n",
       "        vertical-align: middle;\n",
       "    }\n",
       "\n",
       "    .dataframe tbody tr th {\n",
       "        vertical-align: top;\n",
       "    }\n",
       "\n",
       "    .dataframe thead th {\n",
       "        text-align: right;\n",
       "    }\n",
       "</style>\n",
       "<table border=\"1\" class=\"dataframe\">\n",
       "  <thead>\n",
       "    <tr style=\"text-align: right;\">\n",
       "      <th></th>\n",
       "      <th>Date</th>\n",
       "      <th>BUDAPEST</th>\n",
       "      <th>BARANYA</th>\n",
       "      <th>BACS</th>\n",
       "      <th>BEKES</th>\n",
       "      <th>BORSOD</th>\n",
       "      <th>CSONGRAD</th>\n",
       "      <th>FEJER</th>\n",
       "      <th>GYOR</th>\n",
       "      <th>HAJDU</th>\n",
       "      <th>...</th>\n",
       "      <th>JASZ</th>\n",
       "      <th>KOMAROM</th>\n",
       "      <th>NOGRAD</th>\n",
       "      <th>PEST</th>\n",
       "      <th>SOMOGY</th>\n",
       "      <th>SZABOLCS</th>\n",
       "      <th>TOLNA</th>\n",
       "      <th>VAS</th>\n",
       "      <th>VESZPREM</th>\n",
       "      <th>ZALA</th>\n",
       "    </tr>\n",
       "  </thead>\n",
       "  <tbody>\n",
       "    <tr>\n",
       "      <th>0</th>\n",
       "      <td>03/01/2005</td>\n",
       "      <td>168</td>\n",
       "      <td>79</td>\n",
       "      <td>30</td>\n",
       "      <td>173</td>\n",
       "      <td>169</td>\n",
       "      <td>42</td>\n",
       "      <td>136</td>\n",
       "      <td>120</td>\n",
       "      <td>162</td>\n",
       "      <td>...</td>\n",
       "      <td>130</td>\n",
       "      <td>57</td>\n",
       "      <td>2</td>\n",
       "      <td>178</td>\n",
       "      <td>66</td>\n",
       "      <td>64</td>\n",
       "      <td>11</td>\n",
       "      <td>29</td>\n",
       "      <td>87</td>\n",
       "      <td>68</td>\n",
       "    </tr>\n",
       "    <tr>\n",
       "      <th>1</th>\n",
       "      <td>10/01/2005</td>\n",
       "      <td>157</td>\n",
       "      <td>60</td>\n",
       "      <td>30</td>\n",
       "      <td>92</td>\n",
       "      <td>200</td>\n",
       "      <td>53</td>\n",
       "      <td>51</td>\n",
       "      <td>70</td>\n",
       "      <td>84</td>\n",
       "      <td>...</td>\n",
       "      <td>80</td>\n",
       "      <td>50</td>\n",
       "      <td>29</td>\n",
       "      <td>141</td>\n",
       "      <td>48</td>\n",
       "      <td>29</td>\n",
       "      <td>58</td>\n",
       "      <td>53</td>\n",
       "      <td>68</td>\n",
       "      <td>26</td>\n",
       "    </tr>\n",
       "    <tr>\n",
       "      <th>2</th>\n",
       "      <td>17/01/2005</td>\n",
       "      <td>96</td>\n",
       "      <td>44</td>\n",
       "      <td>31</td>\n",
       "      <td>86</td>\n",
       "      <td>93</td>\n",
       "      <td>30</td>\n",
       "      <td>93</td>\n",
       "      <td>84</td>\n",
       "      <td>191</td>\n",
       "      <td>...</td>\n",
       "      <td>64</td>\n",
       "      <td>46</td>\n",
       "      <td>4</td>\n",
       "      <td>157</td>\n",
       "      <td>33</td>\n",
       "      <td>33</td>\n",
       "      <td>24</td>\n",
       "      <td>18</td>\n",
       "      <td>62</td>\n",
       "      <td>44</td>\n",
       "    </tr>\n",
       "    <tr>\n",
       "      <th>3</th>\n",
       "      <td>24/01/2005</td>\n",
       "      <td>163</td>\n",
       "      <td>49</td>\n",
       "      <td>43</td>\n",
       "      <td>126</td>\n",
       "      <td>46</td>\n",
       "      <td>39</td>\n",
       "      <td>52</td>\n",
       "      <td>114</td>\n",
       "      <td>107</td>\n",
       "      <td>...</td>\n",
       "      <td>63</td>\n",
       "      <td>54</td>\n",
       "      <td>14</td>\n",
       "      <td>107</td>\n",
       "      <td>66</td>\n",
       "      <td>50</td>\n",
       "      <td>25</td>\n",
       "      <td>21</td>\n",
       "      <td>43</td>\n",
       "      <td>31</td>\n",
       "    </tr>\n",
       "    <tr>\n",
       "      <th>4</th>\n",
       "      <td>31/01/2005</td>\n",
       "      <td>122</td>\n",
       "      <td>78</td>\n",
       "      <td>53</td>\n",
       "      <td>87</td>\n",
       "      <td>103</td>\n",
       "      <td>34</td>\n",
       "      <td>95</td>\n",
       "      <td>131</td>\n",
       "      <td>172</td>\n",
       "      <td>...</td>\n",
       "      <td>61</td>\n",
       "      <td>49</td>\n",
       "      <td>11</td>\n",
       "      <td>124</td>\n",
       "      <td>63</td>\n",
       "      <td>56</td>\n",
       "      <td>7</td>\n",
       "      <td>47</td>\n",
       "      <td>85</td>\n",
       "      <td>60</td>\n",
       "    </tr>\n",
       "  </tbody>\n",
       "</table>\n",
       "<p>5 rows × 21 columns</p>\n",
       "</div>"
      ],
      "text/plain": [
       "         Date  BUDAPEST  BARANYA  BACS  BEKES  BORSOD  CSONGRAD  FEJER  GYOR  \\\n",
       "0  03/01/2005       168       79    30    173     169        42    136   120   \n",
       "1  10/01/2005       157       60    30     92     200        53     51    70   \n",
       "2  17/01/2005        96       44    31     86      93        30     93    84   \n",
       "3  24/01/2005       163       49    43    126      46        39     52   114   \n",
       "4  31/01/2005       122       78    53     87     103        34     95   131   \n",
       "\n",
       "   HAJDU  ...  JASZ  KOMAROM  NOGRAD  PEST  SOMOGY  SZABOLCS  TOLNA  VAS  \\\n",
       "0    162  ...   130       57       2   178      66        64     11   29   \n",
       "1     84  ...    80       50      29   141      48        29     58   53   \n",
       "2    191  ...    64       46       4   157      33        33     24   18   \n",
       "3    107  ...    63       54      14   107      66        50     25   21   \n",
       "4    172  ...    61       49      11   124      63        56      7   47   \n",
       "\n",
       "   VESZPREM  ZALA  \n",
       "0        87    68  \n",
       "1        68    26  \n",
       "2        62    44  \n",
       "3        43    31  \n",
       "4        85    60  \n",
       "\n",
       "[5 rows x 21 columns]"
      ]
     },
     "execution_count": 31,
     "metadata": {},
     "output_type": "execute_result"
    }
   ],
   "source": [
    "df.head()"
   ]
  },
  {
   "cell_type": "code",
   "execution_count": 49,
   "id": "db142f52",
   "metadata": {},
   "outputs": [
    {
     "ename": "SyntaxError",
     "evalue": "invalid syntax (3097063235.py, line 1)",
     "output_type": "error",
     "traceback": [
      "\u001b[0;36m  File \u001b[0;32m\"/var/folders/vm/9rqr0wpd07lg5xh3wk8xnr3w0000gn/T/ipykernel_26760/3097063235.py\"\u001b[0;36m, line \u001b[0;32m1\u001b[0m\n\u001b[0;31m    cursor.execute(ALTER TABLE TAIWAN_CP ADD COLUMN(Date DATE, BUDAPEST INT, BARANYA INT, BACS INT, BEKES INT, BORSOD INT, CSONGRAD INT,FEJER INT, GYOR INT, HAJDU INT, HEVES INT, JASZ INT, KOMAROM INT, NOGRAD INT, PEST INT,SOMOGY INT, SZABOLCS INT,TOLNA INT, VAS INT, VESZPREM INT, ZALA INT));)\u001b[0m\n\u001b[0m                         ^\u001b[0m\n\u001b[0;31mSyntaxError\u001b[0m\u001b[0;31m:\u001b[0m invalid syntax\n"
     ]
    }
   ],
   "source": [
    "cursor.execute(ALTER TABLE TAIWAN_CP ADD COLUMN(Date DATE, BUDAPEST INT, BARANYA INT, BACS INT, BEKES INT, BORSOD INT, CSONGRAD INT,FEJER INT, GYOR INT, HAJDU INT, HEVES INT, JASZ INT, KOMAROM INT, NOGRAD INT, PEST INT,SOMOGY INT, SZABOLCS INT,TOLNA INT, VAS INT, VESZPREM INT, ZALA INT));)"
   ]
  },
  {
   "cell_type": "code",
   "execution_count": 51,
   "id": "6f6b17b7",
   "metadata": {},
   "outputs": [],
   "source": [
    "import csv"
   ]
  },
  {
   "cell_type": "code",
   "execution_count": null,
   "id": "1a3d904a",
   "metadata": {},
   "outputs": [],
   "source": [
    "file"
   ]
  },
  {
   "cell_type": "code",
   "execution_count": 52,
   "id": "559af8e1",
   "metadata": {},
   "outputs": [],
   "source": [
    "contents = csv.reader('/Users/mac/Downloads/hungary_chickenpox/hungary_chickenpox.csv')"
   ]
  },
  {
   "cell_type": "code",
   "execution_count": 53,
   "id": "b2d1bb8f",
   "metadata": {},
   "outputs": [
    {
     "data": {
      "text/plain": [
       "<_csv.reader at 0x7fce3e85f580>"
      ]
     },
     "execution_count": 53,
     "metadata": {},
     "output_type": "execute_result"
    }
   ],
   "source": [
    "contents"
   ]
  },
  {
   "cell_type": "code",
   "execution_count": 70,
   "id": "26714891",
   "metadata": {},
   "outputs": [
    {
     "name": "stdout",
     "output_type": "stream",
     "text": [
      "<_csv.reader object at 0x7fce3e85f580>\n"
     ]
    }
   ],
   "source": [
    "print(contents)"
   ]
  },
  {
   "cell_type": "code",
   "execution_count": 69,
   "id": "2c36e291",
   "metadata": {},
   "outputs": [
    {
     "ename": "ProgrammingError",
     "evalue": "Not enough parameters for the SQL statement",
     "output_type": "error",
     "traceback": [
      "\u001b[0;31m---------------------------------------------------------------------------\u001b[0m",
      "\u001b[0;31mIndexError\u001b[0m                                Traceback (most recent call last)",
      "\u001b[0;32m~/opt/anaconda3/lib/python3.9/site-packages/mysql/connector/cursor.py\u001b[0m in \u001b[0;36m__call__\u001b[0;34m(self, matchobj)\u001b[0m\n\u001b[1;32m     74\u001b[0m         \u001b[0;32mtry\u001b[0m\u001b[0;34m:\u001b[0m\u001b[0;34m\u001b[0m\u001b[0;34m\u001b[0m\u001b[0m\n\u001b[0;32m---> 75\u001b[0;31m             \u001b[0;32mreturn\u001b[0m \u001b[0mbytes\u001b[0m\u001b[0;34m(\u001b[0m\u001b[0mself\u001b[0m\u001b[0;34m.\u001b[0m\u001b[0mparams\u001b[0m\u001b[0;34m[\u001b[0m\u001b[0mindex\u001b[0m\u001b[0;34m]\u001b[0m\u001b[0;34m)\u001b[0m\u001b[0;34m\u001b[0m\u001b[0;34m\u001b[0m\u001b[0m\n\u001b[0m\u001b[1;32m     76\u001b[0m         \u001b[0;32mexcept\u001b[0m \u001b[0mIndexError\u001b[0m\u001b[0;34m:\u001b[0m\u001b[0;34m\u001b[0m\u001b[0;34m\u001b[0m\u001b[0m\n",
      "\u001b[0;31mIndexError\u001b[0m: tuple index out of range",
      "\nDuring handling of the above exception, another exception occurred:\n",
      "\u001b[0;31mProgrammingError\u001b[0m                          Traceback (most recent call last)",
      "\u001b[0;32m/var/folders/vm/9rqr0wpd07lg5xh3wk8xnr3w0000gn/T/ipykernel_26760/1975322872.py\u001b[0m in \u001b[0;36m<module>\u001b[0;34m\u001b[0m\n\u001b[0;32m----> 1\u001b[0;31m \u001b[0mcursor\u001b[0m\u001b[0;34m.\u001b[0m\u001b[0mexecutemany\u001b[0m\u001b[0;34m(\u001b[0m\u001b[0minsert_values\u001b[0m\u001b[0;34m,\u001b[0m\u001b[0mcontents\u001b[0m\u001b[0;34m)\u001b[0m\u001b[0;34m\u001b[0m\u001b[0;34m\u001b[0m\u001b[0m\n\u001b[0m",
      "\u001b[0;32m~/opt/anaconda3/lib/python3.9/site-packages/mysql/connector/cursor.py\u001b[0m in \u001b[0;36mexecutemany\u001b[0;34m(self, operation, seq_params)\u001b[0m\n\u001b[1;32m    650\u001b[0m                 \u001b[0mself\u001b[0m\u001b[0;34m.\u001b[0m\u001b[0m_rowcount\u001b[0m \u001b[0;34m=\u001b[0m \u001b[0;36m0\u001b[0m\u001b[0;34m\u001b[0m\u001b[0;34m\u001b[0m\u001b[0m\n\u001b[1;32m    651\u001b[0m                 \u001b[0;32mreturn\u001b[0m\u001b[0;34m\u001b[0m\u001b[0;34m\u001b[0m\u001b[0m\n\u001b[0;32m--> 652\u001b[0;31m             \u001b[0mstmt\u001b[0m \u001b[0;34m=\u001b[0m \u001b[0mself\u001b[0m\u001b[0;34m.\u001b[0m\u001b[0m_batch_insert\u001b[0m\u001b[0;34m(\u001b[0m\u001b[0moperation\u001b[0m\u001b[0;34m,\u001b[0m \u001b[0mseq_params\u001b[0m\u001b[0;34m)\u001b[0m\u001b[0;34m\u001b[0m\u001b[0;34m\u001b[0m\u001b[0m\n\u001b[0m\u001b[1;32m    653\u001b[0m             \u001b[0;32mif\u001b[0m \u001b[0mstmt\u001b[0m \u001b[0;32mis\u001b[0m \u001b[0;32mnot\u001b[0m \u001b[0;32mNone\u001b[0m\u001b[0;34m:\u001b[0m\u001b[0;34m\u001b[0m\u001b[0;34m\u001b[0m\u001b[0m\n\u001b[1;32m    654\u001b[0m                 \u001b[0;32mreturn\u001b[0m \u001b[0mself\u001b[0m\u001b[0;34m.\u001b[0m\u001b[0mexecute\u001b[0m\u001b[0;34m(\u001b[0m\u001b[0mstmt\u001b[0m\u001b[0;34m)\u001b[0m\u001b[0;34m\u001b[0m\u001b[0;34m\u001b[0m\u001b[0m\n",
      "\u001b[0;32m~/opt/anaconda3/lib/python3.9/site-packages/mysql/connector/cursor.py\u001b[0m in \u001b[0;36m_batch_insert\u001b[0;34m(self, operation, seq_params)\u001b[0m\n\u001b[1;32m    592\u001b[0m                 \u001b[0;32melse\u001b[0m\u001b[0;34m:\u001b[0m\u001b[0;34m\u001b[0m\u001b[0;34m\u001b[0m\u001b[0m\n\u001b[1;32m    593\u001b[0m                     \u001b[0mpsub\u001b[0m \u001b[0;34m=\u001b[0m \u001b[0m_ParamSubstitutor\u001b[0m\u001b[0;34m(\u001b[0m\u001b[0mself\u001b[0m\u001b[0;34m.\u001b[0m\u001b[0m_process_params\u001b[0m\u001b[0;34m(\u001b[0m\u001b[0mparams\u001b[0m\u001b[0;34m)\u001b[0m\u001b[0;34m)\u001b[0m\u001b[0;34m\u001b[0m\u001b[0;34m\u001b[0m\u001b[0m\n\u001b[0;32m--> 594\u001b[0;31m                     \u001b[0mtmp\u001b[0m \u001b[0;34m=\u001b[0m \u001b[0mRE_PY_PARAM\u001b[0m\u001b[0;34m.\u001b[0m\u001b[0msub\u001b[0m\u001b[0;34m(\u001b[0m\u001b[0mpsub\u001b[0m\u001b[0;34m,\u001b[0m \u001b[0mtmp\u001b[0m\u001b[0;34m)\u001b[0m\u001b[0;34m\u001b[0m\u001b[0;34m\u001b[0m\u001b[0m\n\u001b[0m\u001b[1;32m    595\u001b[0m                     \u001b[0;32mif\u001b[0m \u001b[0mpsub\u001b[0m\u001b[0;34m.\u001b[0m\u001b[0mremaining\u001b[0m \u001b[0;34m!=\u001b[0m \u001b[0;36m0\u001b[0m\u001b[0;34m:\u001b[0m\u001b[0;34m\u001b[0m\u001b[0;34m\u001b[0m\u001b[0m\n\u001b[1;32m    596\u001b[0m                         raise errors.ProgrammingError(\n",
      "\u001b[0;32m~/opt/anaconda3/lib/python3.9/site-packages/mysql/connector/cursor.py\u001b[0m in \u001b[0;36m__call__\u001b[0;34m(self, matchobj)\u001b[0m\n\u001b[1;32m     75\u001b[0m             \u001b[0;32mreturn\u001b[0m \u001b[0mbytes\u001b[0m\u001b[0;34m(\u001b[0m\u001b[0mself\u001b[0m\u001b[0;34m.\u001b[0m\u001b[0mparams\u001b[0m\u001b[0;34m[\u001b[0m\u001b[0mindex\u001b[0m\u001b[0;34m]\u001b[0m\u001b[0;34m)\u001b[0m\u001b[0;34m\u001b[0m\u001b[0;34m\u001b[0m\u001b[0m\n\u001b[1;32m     76\u001b[0m         \u001b[0;32mexcept\u001b[0m \u001b[0mIndexError\u001b[0m\u001b[0;34m:\u001b[0m\u001b[0;34m\u001b[0m\u001b[0;34m\u001b[0m\u001b[0m\n\u001b[0;32m---> 77\u001b[0;31m             raise errors.ProgrammingError(\n\u001b[0m\u001b[1;32m     78\u001b[0m                 \"Not enough parameters for the SQL statement\")\n\u001b[1;32m     79\u001b[0m \u001b[0;34m\u001b[0m\u001b[0m\n",
      "\u001b[0;31mProgrammingError\u001b[0m: Not enough parameters for the SQL statement"
     ]
    }
   ],
   "source": [
    "cursor.executemany(insert_values,contents)"
   ]
  },
  {
   "cell_type": "code",
   "execution_count": 57,
   "id": "b76001c8",
   "metadata": {},
   "outputs": [],
   "source": [
    "table= '''CREATE TABLE TAIWAN_CP(Date DATE, BUDAPEST INT, BARANYA INT, BACS INT, BEKES INT, BORSOD INT, CSONGRAD INT,FEJER INT, GYOR INT, HAJDU INT, HEVES INT, JASZ INT, KOMAROM INT, NOGRAD INT, PEST INT,SOMOGY INT, SZABOLCS INT,TOLNA INT, VAS INT, VESZPREM INT, ZALA INT);'''"
   ]
  },
  {
   "cell_type": "code",
   "execution_count": 68,
   "id": "b22ec963",
   "metadata": {},
   "outputs": [],
   "source": [
    "insert_values=''' INSERT INTO TAIWAN_CP(Date , BUDAPEST , BARANYA , BACS , BEKES , BORSOD , CSONGRAD ,FEJER , GYOR , HAJDU , HEVES , JASZ , KOMAROM , NOGRAD , PEST ,SOMOGY , SZABOLCS ,TOLNA , VAS , VESZPREM , ZALA ) VALUES (%s,%s,%s,%s,%s,%s,%s,%s,%s,%s,%s,%s,%s,%s,%s,%s,%s,%s,%s,%s,%s)'''"
   ]
  },
  {
   "cell_type": "code",
   "execution_count": 59,
   "id": "2147bd18",
   "metadata": {},
   "outputs": [
    {
     "ename": "SyntaxError",
     "evalue": "invalid syntax (201882469.py, line 1)",
     "output_type": "error",
     "traceback": [
      "\u001b[0;36m  File \u001b[0;32m\"/var/folders/vm/9rqr0wpd07lg5xh3wk8xnr3w0000gn/T/ipykernel_26760/201882469.py\"\u001b[0;36m, line \u001b[0;32m1\u001b[0m\n\u001b[0;31m    s='table= '''CREATE TABLE TAIWAN_CP(Date DATE, BUDAPEST INT, BARANYA INT, BACS INT, BEKES INT, BORSOD INT, CSONGRAD INT,FEJER INT, GYOR INT, HAJDU INT, HEVES INT, JASZ INT, KOMAROM INT, NOGRAD INT, PEST INT,SOMOGY INT, SZABOLCS INT,TOLNA INT, VAS INT, VESZPREM INT, ZALA INT);''''\u001b[0m\n\u001b[0m                 ^\u001b[0m\n\u001b[0;31mSyntaxError\u001b[0m\u001b[0;31m:\u001b[0m invalid syntax\n"
     ]
    }
   ],
   "source": [
    "s='table= '''CREATE TABLE TAIWAN_CP(Date DATE, BUDAPEST INT, BARANYA INT, BACS INT, BEKES INT, BORSOD INT, CSONGRAD INT,FEJER INT, GYOR INT, HAJDU INT, HEVES INT, JASZ INT, KOMAROM INT, NOGRAD INT, PEST INT,SOMOGY INT, SZABOLCS INT,TOLNA INT, VAS INT, VESZPREM INT, ZALA INT);''''"
   ]
  },
  {
   "cell_type": "code",
   "execution_count": 60,
   "id": "5ca59b30",
   "metadata": {},
   "outputs": [
    {
     "name": "stdout",
     "output_type": "stream",
     "text": [
      "<class 'pandas.core.frame.DataFrame'>\n",
      "RangeIndex: 522 entries, 0 to 521\n",
      "Data columns (total 21 columns):\n",
      " #   Column    Non-Null Count  Dtype \n",
      "---  ------    --------------  ----- \n",
      " 0   Date      522 non-null    object\n",
      " 1   BUDAPEST  522 non-null    int64 \n",
      " 2   BARANYA   522 non-null    int64 \n",
      " 3   BACS      522 non-null    int64 \n",
      " 4   BEKES     522 non-null    int64 \n",
      " 5   BORSOD    522 non-null    int64 \n",
      " 6   CSONGRAD  522 non-null    int64 \n",
      " 7   FEJER     522 non-null    int64 \n",
      " 8   GYOR      522 non-null    int64 \n",
      " 9   HAJDU     522 non-null    int64 \n",
      " 10  HEVES     522 non-null    int64 \n",
      " 11  JASZ      522 non-null    int64 \n",
      " 12  KOMAROM   522 non-null    int64 \n",
      " 13  NOGRAD    522 non-null    int64 \n",
      " 14  PEST      522 non-null    int64 \n",
      " 15  SOMOGY    522 non-null    int64 \n",
      " 16  SZABOLCS  522 non-null    int64 \n",
      " 17  TOLNA     522 non-null    int64 \n",
      " 18  VAS       522 non-null    int64 \n",
      " 19  VESZPREM  522 non-null    int64 \n",
      " 20  ZALA      522 non-null    int64 \n",
      "dtypes: int64(20), object(1)\n",
      "memory usage: 85.8+ KB\n"
     ]
    }
   ],
   "source": [
    "df.info()"
   ]
  },
  {
   "cell_type": "code",
   "execution_count": null,
   "id": "48108e57",
   "metadata": {},
   "outputs": [],
   "source": [
    "cursor.execute('')"
   ]
  }
 ],
 "metadata": {
  "kernelspec": {
   "display_name": "Python 3 (ipykernel)",
   "language": "python",
   "name": "python3"
  },
  "language_info": {
   "codemirror_mode": {
    "name": "ipython",
    "version": 3
   },
   "file_extension": ".py",
   "mimetype": "text/x-python",
   "name": "python",
   "nbconvert_exporter": "python",
   "pygments_lexer": "ipython3",
   "version": "3.9.7"
  }
 },
 "nbformat": 4,
 "nbformat_minor": 5
}
